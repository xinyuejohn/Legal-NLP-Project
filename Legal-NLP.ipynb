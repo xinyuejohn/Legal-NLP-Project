{
 "cells": [
  {
   "cell_type": "markdown",
   "id": "dc899942",
   "metadata": {},
   "source": [
    "## Import all packages"
   ]
  },
  {
   "cell_type": "code",
   "execution_count": 41,
   "id": "substantial-right",
   "metadata": {
    "executionInfo": {
     "elapsed": 264,
     "status": "ok",
     "timestamp": 1628722436972,
     "user": {
      "displayName": "Xinyue Zhang",
      "photoUrl": "https://lh3.googleusercontent.com/a-/AOh14GjHjtdv570uV9NRQl9hjKdqC83N2nypQc5tVc9usQ=s64",
      "userId": "13142209830906612426"
     },
     "user_tz": -120
    },
    "id": "substantial-right"
   },
   "outputs": [],
   "source": [
    "import spacy\n",
    "import json\n",
    "import random\n",
    "import re\n",
    "import pandas as pd\n",
    "import numpy as np\n",
    "import os\n",
    "import io\n",
    "import matplotlib.pyplot as plt\n",
    "import pickle\n",
    "import fasttext\n",
    "import srsly\n",
    "\n",
    "from copy import deepcopy\n",
    "from spacy.tokenizer import Tokenizer\n",
    "from spacy.lang.en import English\n",
    "from spacy.lang.en.examples import sentences \n",
    "from spacy.symbols import ORTH\n",
    "from spacy.language import Language\n",
    "from sklearn import model_selection\n",
    "from sklearn.feature_extraction import DictVectorizer\n",
    "from sklearn.feature_extraction.text import TfidfVectorizer\n",
    "from sklearn.svm import SVC\n",
    "from sklearn.ensemble import RandomForestClassifier\n",
    "from sklearn.naive_bayes import GaussianNB\n",
    "from sklearn.metrics import classification_report, confusion_matrix, f1_score\n",
    "from sklearn import tree\n",
    "from sklearn.model_selection import RandomizedSearchCV, GridSearchCV\n",
    "from pprint import pprint\n",
    "from joblib import dump, load"
   ]
  },
  {
   "cell_type": "code",
   "execution_count": null,
   "id": "0a780a38",
   "metadata": {},
   "outputs": [],
   "source": [
    "from luima_sbd.sbd_utils import text2sentences"
   ]
  },
  {
   "cell_type": "markdown",
   "id": "04af901e",
   "metadata": {},
   "source": [
    "## Define setup() and analyze()"
   ]
  },
  {
   "cell_type": "code",
   "execution_count": 37,
   "id": "161cbd3d",
   "metadata": {},
   "outputs": [],
   "source": [
    "def setup():\n",
    "    \n",
    "    data_root = os.path.abspath(os.path.abspath(os.getcwd()))\n",
    "    # load the embedding model files\n",
    "    fasttext_root = os.path.join(data_root, 'model.bin')\n",
    "    global model_1\n",
    "    model_1 = fasttext.load_model(fasttext_root)\n",
    "    # get best classifier model file path\n",
    "    global best_model_path\n",
    "    best_model_path = os.path.join(data_root,\"clf_RF_embedding.joblib\")\n"
   ]
  },
  {
   "cell_type": "code",
   "execution_count": 38,
   "id": "02d977a3",
   "metadata": {},
   "outputs": [],
   "source": [
    "def analyze(string):\n",
    "    \n",
    "    def make_span_data(sentences, string):\n",
    "        span_data = []\n",
    "        for a in sentences:\n",
    "            start = a[0]\n",
    "            end = a[1]\n",
    "            txt = string[a[0]:a[1]]\n",
    "            sd = {'txt': txt,\n",
    "                  'start': start,\n",
    "                  'start_normalized': start / len(string),\n",
    "                  'end': end}\n",
    "            span_data.append(sd)\n",
    "        return span_data\n",
    "\n",
    "    def make_embedding_feature_vectors_and_labels(spans,fasttext_model):\n",
    "        \n",
    "        tokens = [s['tokens_spacy'] for s in spans]\n",
    "        embedding = np.empty((len(spans),100), dtype='float32')\n",
    "        for index_i, i in enumerate(tokens):\n",
    "            for index_j, j in enumerate(i):\n",
    "                if index_j == 0:\n",
    "                    vector = fasttext_model.get_word_vector(j)\n",
    "                else:\n",
    "                    vector = vector + fasttext_model.get_word_vector(j)\n",
    "            if len(i) >= 1:\n",
    "                vector = vector/len(i)\n",
    "            vector = np.expand_dims(vector, axis=0)\n",
    "            embedding[index_i] = vector\n",
    "\n",
    "\n",
    "        starts_normalized = np.array([s['start_normalized'] for s in spans])\n",
    "\n",
    "        #normalized num_tokens\n",
    "        num_tokens = np.array([len(s['tokens_spacy']) for s in spans])\n",
    "        num_tokens = (num_tokens - np.mean(num_tokens))/(np.std(num_tokens)+1e-9)\n",
    "\n",
    "        \n",
    "        X = np.concatenate((embedding, np.expand_dims(starts_normalized, axis=1), np.expand_dims(num_tokens, axis=1)), axis=1)\n",
    "        return X\n",
    "    \n",
    "    #use law-specific sentence segmentation\n",
    "    sentences_index = text2sentences(string, offsets=True)\n",
    "    \n",
    "    \n",
    "    spans = make_span_data(sentences_index, string)\n",
    "    \n",
    "    nlp = spacy.load(\"en_core_web_sm\")\n",
    "    nlp.disable_pipes('parser')\n",
    "    nlp.tokenizer.add_special_case('post-traumatic', [{ORTH: 'post-traumatic'}])\n",
    "    nlp.tokenizer.add_special_case('Dr.', [{ORTH: 'Dr.'}])\n",
    "    nlp.tokenizer.add_special_case('Mr.', [{ORTH: 'Mr.'}])\n",
    "    nlp.tokenizer.add_special_case('Jandreau v. Nicholson', [{ORTH: 'Jandreau v. Nicholson'}])\n",
    "    nlp.tokenizer.add_special_case('x-ray', [{ORTH: 'x-ray'}])\n",
    "    nlp.tokenizer.add_special_case('X-ray', [{ORTH: 'X-ray'}])\n",
    "    nlp.tokenizer.add_special_case('X-Ray', [{ORTH: 'X-Ray'}])\n",
    "    nlp.tokenizer.add_special_case('U.S.C.A.', [{ORTH: 'U.S.C.A.'}])\n",
    "    nlp.tokenizer.add_special_case('Vet. App.', [{ORTH: 'Vet. App.'}])\n",
    "    nlp.tokenizer.add_special_case('C.F.R.', [{ORTH: 'C.F.R.'}])\n",
    "    nlp.tokenizer.add_special_case('Fed. Cir.', [{ORTH: 'Fed. Cir.'}])\n",
    "    \n",
    "    def spacy_tokenize(txt):\n",
    "        doc = nlp(txt)\n",
    "        tokens = list(doc)\n",
    "        clean_tokens = []\n",
    "    \n",
    "        for t in tokens:\n",
    "            if t.pos_ == 'PUNCT':\n",
    "                pass\n",
    "            elif t.lemma_ == \"§\" or t.lemma_ == \"[\" or t.lemma_ == \"]\" or t.lemma_ == \"-\" :\n",
    "                pass\n",
    "            elif t.pos_ == 'SPACE':\n",
    "                pass\n",
    "            elif t.pos_ == 'NUM':\n",
    "                clean_tokens.append(f'<NUM{len(t)}>')\n",
    "            else:\n",
    "                clean_tokens.append(t.lemma_.lower())\n",
    "\n",
    "        return clean_tokens\n",
    "    \n",
    "    def tokenize_spans(spans):\n",
    "        for s in spans:\n",
    "            s['tokens_spacy'] = spacy_tokenize(s['txt'])  \n",
    "    \n",
    "    best_model = load(best_model_path) \n",
    "    tokenize_spans(spans)\n",
    "    X = make_embedding_feature_vectors_and_labels(spans, model_1)\n",
    "    y = best_model.predict(X)\n",
    "    return_list = []\n",
    "    return_list = [(span['txt'],y[index]) for index, span in enumerate(spans)]\n",
    "    \n",
    "    \n",
    "    return return_list\n",
    "    \n",
    "  \n",
    "    "
   ]
  },
  {
   "cell_type": "code",
   "execution_count": 39,
   "id": "86c4cadc",
   "metadata": {},
   "outputs": [],
   "source": [
    "setup()"
   ]
  },
  {
   "cell_type": "code",
   "execution_count": null,
   "id": "688d0b95",
   "metadata": {},
   "outputs": [],
   "source": [
    "analyze()"
   ]
  },
  {
   "cell_type": "markdown",
   "id": "stone-treasurer",
   "metadata": {
    "id": "stone-treasurer"
   },
   "source": [
    "## Some boilerplate code for nicer looking confusion matrices\n"
   ]
  },
  {
   "cell_type": "markdown",
   "id": "talented-strain",
   "metadata": {
    "id": "talented-strain"
   },
   "source": [
    "abridged from [scikit-learn example code](https://scikit-learn.org/stable/auto_examples/model_selection/plot_confusion_matrix.html)"
   ]
  },
  {
   "cell_type": "code",
   "execution_count": 2,
   "id": "julian-stations",
   "metadata": {
    "executionInfo": {
     "elapsed": 23,
     "status": "ok",
     "timestamp": 1628722070425,
     "user": {
      "displayName": "Xinyue Zhang",
      "photoUrl": "https://lh3.googleusercontent.com/a-/AOh14GjHjtdv570uV9NRQl9hjKdqC83N2nypQc5tVc9usQ=s64",
      "userId": "13142209830906612426"
     },
     "user_tz": -120
    },
    "id": "julian-stations"
   },
   "outputs": [],
   "source": [
    "def plot_confusion_matrix(y_true, y_pred, classes,\n",
    "                          title=None,\n",
    "                          cmap=plt.cm.Blues):\n",
    "    cm = confusion_matrix(y_true, y_pred)\n",
    "    fig, ax = plt.subplots(figsize=(8, 8))\n",
    "    im = ax.imshow(cm, interpolation='nearest', cmap=cmap)\n",
    "    ax.figure.colorbar(im, ax=ax)\n",
    "    ax.set(xticks=np.arange(cm.shape[1]),\n",
    "           yticks=np.arange(cm.shape[0]),\n",
    "           # ... and label them with the respective list entries\n",
    "           xticklabels=classes, yticklabels=classes,\n",
    "           title=title,\n",
    "           ylabel='True label',\n",
    "           xlabel='Predicted label')\n",
    "    plt.setp(ax.get_xticklabels(), rotation=45, ha=\"right\",\n",
    "             rotation_mode=\"anchor\")\n",
    "    thresh = cm.max() / 2.\n",
    "    for i in range(cm.shape[0]):\n",
    "        for j in range(cm.shape[1]):\n",
    "            ax.text(j, i, format(cm[i, j], 'd'),\n",
    "                    ha=\"center\", va=\"center\",\n",
    "                    color=\"white\" if cm[i, j] > thresh else \"black\")\n",
    "    fig.tight_layout()\n",
    "    return ax"
   ]
  },
  {
   "cell_type": "markdown",
   "id": "essential-oracle",
   "metadata": {
    "id": "essential-oracle"
   },
   "source": [
    "## Some helper code to analyze TFIDF data"
   ]
  },
  {
   "cell_type": "markdown",
   "id": "legitimate-attendance",
   "metadata": {
    "id": "legitimate-attendance"
   },
   "source": [
    "Credit for code goes to [buhrmann.github.io](https://buhrmann.github.io/tfidf-analysis.html)"
   ]
  },
  {
   "cell_type": "code",
   "execution_count": 3,
   "id": "dedicated-hearts",
   "metadata": {
    "collapsed": true,
    "executionInfo": {
     "elapsed": 21,
     "status": "ok",
     "timestamp": 1628722070426,
     "user": {
      "displayName": "Xinyue Zhang",
      "photoUrl": "https://lh3.googleusercontent.com/a-/AOh14GjHjtdv570uV9NRQl9hjKdqC83N2nypQc5tVc9usQ=s64",
      "userId": "13142209830906612426"
     },
     "user_tz": -120
    },
    "id": "dedicated-hearts"
   },
   "outputs": [],
   "source": [
    "def top_tfidf_features(row, features, top_n=15):\n",
    "    ''' Get top n tfidf values in row and return them with their corresponding feature names.'''\n",
    "    topn_ids = np.argsort(row)[::-1][:top_n]\n",
    "    top_feats = [(features[i], row[i]) for i in topn_ids]\n",
    "    df = pd.DataFrame(top_feats)\n",
    "    df.columns = ['feature', 'tfidf']\n",
    "    return df\n",
    "\n",
    "\n",
    "def top_features_in_doc(Xtr, features, row_id, top_n=15):\n",
    "    ''' Top tfidf features in specific document (matrix row) '''\n",
    "    xtr_row = Xtr[row_id]\n",
    "    if type(xtr_row) is not np.ndarray:\n",
    "        xtr_row = xtr_row.toarray()\n",
    "    row = np.squeeze(xtr_row)\n",
    "    return top_tfidf_features(row, features, top_n)\n",
    "\n",
    "\n",
    "def top_mean_features(Xtr, features, grp_ids=None, min_tfidf=0.1, top_n=25):\n",
    "    ''' Return the top n features that on average are most important amongst documents in rows\n",
    "        indentified by indices in grp_ids. '''\n",
    "    if grp_ids:\n",
    "        D = Xtr[grp_ids]\n",
    "    else:\n",
    "        D = Xtr\n",
    "    if type(D) is not np.ndarray:\n",
    "        D = D.toarray()\n",
    "    D[D < min_tfidf] = 0\n",
    "    tfidf_means = np.mean(D, axis=0)\n",
    "    return top_tfidf_features(tfidf_means, features, top_n)\n",
    "\n",
    "\n",
    "def top_features_by_class(Xtr, y, features, min_tfidf=0.1, top_n=25):\n",
    "    ''' Return a list of dfs, where each df holds top_n features and their mean tfidf value\n",
    "        calculated across documents with the same class label. '''\n",
    "    dfs = {}\n",
    "    labels = np.unique(y)\n",
    "    for label in labels:\n",
    "        ids = np.where(y==label)\n",
    "        feats_df = top_mean_features(Xtr, features, ids, min_tfidf=min_tfidf, top_n=top_n)\n",
    "        feats_df.label = label\n",
    "        dfs[label] = feats_df\n",
    "    return dfs\n",
    "\n",
    "\n",
    "def span_top_tfidf(spans_txt, spans_tfidf, features, index):\n",
    "    print('span text:\\n'+spans_txt[index]+'\\n')\n",
    "    print(top_features_in_doc(spans_tfidf, features, index))"
   ]
  },
  {
   "cell_type": "markdown",
   "id": "featured-raise",
   "metadata": {
    "id": "featured-raise"
   },
   "source": [
    "# Load Data"
   ]
  },
  {
   "cell_type": "code",
   "execution_count": 3,
   "id": "emotional-symphony",
   "metadata": {
    "executionInfo": {
     "elapsed": 785,
     "status": "ok",
     "timestamp": 1628722071191,
     "user": {
      "displayName": "Xinyue Zhang",
      "photoUrl": "https://lh3.googleusercontent.com/a-/AOh14GjHjtdv570uV9NRQl9hjKdqC83N2nypQc5tVc9usQ=s64",
      "userId": "13142209830906612426"
     },
     "user_tz": -120
    },
    "id": "emotional-symphony"
   },
   "outputs": [],
   "source": [
    "data_root = os.path.abspath(os.getcwd())\n",
    "corpus_fpath = os.path.join(data_root,'ldsi_bva_sentence_corpus_v1.json')\n",
    "data = json.load(open(corpus_fpath))"
   ]
  },
  {
   "cell_type": "markdown",
   "id": "f0fa175e",
   "metadata": {
    "id": "f0fa175e"
   },
   "source": [
    "# Phase 1 - Dataset Splitting:"
   ]
  },
  {
   "cell_type": "code",
   "execution_count": 4,
   "id": "dfc3e058",
   "metadata": {
    "executionInfo": {
     "elapsed": 12,
     "status": "ok",
     "timestamp": 1628722071196,
     "user": {
      "displayName": "Xinyue Zhang",
      "photoUrl": "https://lh3.googleusercontent.com/a-/AOh14GjHjtdv570uV9NRQl9hjKdqC83N2nypQc5tVc9usQ=s64",
      "userId": "13142209830906612426"
     },
     "user_tz": -120
    },
    "id": "dfc3e058"
   },
   "outputs": [],
   "source": [
    "doc_id_by_name = {d['name']: d['_id'] for d in data['documents']}\n",
    "\n",
    "# stratified sample test set \n",
    "test_granted_name = ['0636017.txt', '1136601.txt', '0632893.txt']\n",
    "test_denied_name = ['1641334.txt', '1242876.txt', '1311391.txt']\n",
    "test_remanded_name = ['0843259.txt', '1414169.txt', '0904806.txt']\n",
    "test_name = test_granted_name + test_denied_name + test_remanded_name\n",
    "test_id = [doc_id_by_name[name] for name in test_name]\n",
    "\n",
    "# stratified sample dev set\n",
    "dev_granted_name = ['1418226.txt', '1100174.txt', '0601461.txt']\n",
    "dev_denied_name = ['1203065.txt', '0824445.txt', '1205178.txt']\n",
    "dev_remanded_name = ['1635686.txt', '0822387.txt', '1638605.txt']\n",
    "dev_name = dev_granted_name + dev_denied_name + dev_remanded_name\n",
    "dev_id = [doc_id_by_name[name] for name in dev_name]"
   ]
  },
  {
   "cell_type": "code",
   "execution_count": 5,
   "id": "23c8e383",
   "metadata": {
    "executionInfo": {
     "elapsed": 12,
     "status": "ok",
     "timestamp": 1628722071197,
     "user": {
      "displayName": "Xinyue Zhang",
      "photoUrl": "https://lh3.googleusercontent.com/a-/AOh14GjHjtdv570uV9NRQl9hjKdqC83N2nypQc5tVc9usQ=s64",
      "userId": "13142209830906612426"
     },
     "user_tz": -120
    },
    "id": "23c8e383"
   },
   "outputs": [],
   "source": [
    "test_documents = []\n",
    "dev_documents = []\n",
    "train_documents = []\n",
    "for document in data['documents']:\n",
    "    if document['name'] in test_name:\n",
    "        test_documents.append(document)\n",
    "    elif document['name'] in dev_name:\n",
    "        dev_documents.append(document)\n",
    "    else:\n",
    "        train_documents.append(document)\n",
    "\n",
    "\n",
    "\n",
    "test_annotations = []\n",
    "dev_annotations = []\n",
    "train_annotations = []\n",
    "for annotation in data['annotations']:\n",
    "    if annotation['document'] in test_id:\n",
    "        test_annotations.append(annotation)\n",
    "    elif annotation['document'] in dev_id:\n",
    "        dev_annotations.append(annotation)\n",
    "    else:\n",
    "        train_annotations.append(annotation)\n",
    "        \n",
    "test_data = {'documents': test_documents, 'annotations': test_annotations, 'types': data['types']}\n",
    "dev_data = {'documents': dev_documents, 'annotations': dev_annotations, 'types': data['types']}\n",
    "train_data = {'documents': train_documents, 'annotations': train_annotations, 'types': data['types']}\n",
    "\n",
    "\n",
    "\n",
    "assert len(data['annotations'])==len(test_data['annotations'])+len(dev_data['annotations'])+len(train_data['annotations'])\n",
    "assert len(test_data['documents'])==9\n",
    "assert len(dev_data['documents'])==9\n",
    "assert len(train_data['documents'])==81"
   ]
  },
  {
   "cell_type": "markdown",
   "id": "executed-cruise",
   "metadata": {
    "id": "executed-cruise"
   },
   "source": [
    "Define some convenience shorthands and dictionaries:"
   ]
  },
  {
   "cell_type": "code",
   "execution_count": 6,
   "id": "irish-bench",
   "metadata": {
    "executionInfo": {
     "elapsed": 10,
     "status": "ok",
     "timestamp": 1628722071197,
     "user": {
      "displayName": "Xinyue Zhang",
      "photoUrl": "https://lh3.googleusercontent.com/a-/AOh14GjHjtdv570uV9NRQl9hjKdqC83N2nypQc5tVc9usQ=s64",
      "userId": "13142209830906612426"
     },
     "user_tz": -120
    },
    "id": "irish-bench"
   },
   "outputs": [],
   "source": [
    "annotations = train_data['annotations']\n",
    "documents_by_id = {d['_id']: d for d in train_data['documents']}\n",
    "types_by_id = {t['_id']: t for t in train_data['types']}\n",
    "type_ids_by_name = {t['name']: t['_id'] for t in train_data['types']}\n",
    "type_names_by_id = {t['_id']: t['name'] for t in train_data['types']}\n",
    "doc_id_by_name = {d['name']: d['_id'] for d in train_data['documents']}\n",
    "doc_name_by_id = {d['_id']: d['name'] for d in train_data['documents']}"
   ]
  },
  {
   "cell_type": "code",
   "execution_count": 7,
   "id": "3f2ac351",
   "metadata": {
    "executionInfo": {
     "elapsed": 11,
     "status": "ok",
     "timestamp": 1628722071198,
     "user": {
      "displayName": "Xinyue Zhang",
      "photoUrl": "https://lh3.googleusercontent.com/a-/AOh14GjHjtdv570uV9NRQl9hjKdqC83N2nypQc5tVc9usQ=s64",
      "userId": "13142209830906612426"
     },
     "user_tz": -120
    },
    "id": "3f2ac351"
   },
   "outputs": [],
   "source": [
    "dev_annotations = dev_data['annotations']\n",
    "dev_documents_by_id = {d['_id']: d for d in dev_data['documents']}\n",
    "dev_types_by_id = {t['_id']: t for t in dev_data['types']}\n",
    "dev_type_ids_by_name = {t['name']: t['_id'] for t in dev_data['types']}\n",
    "dev_type_names_by_id = {t['_id']: t['name'] for t in dev_data['types']}\n",
    "dev_doc_id_by_name = {d['name']: d['_id'] for d in dev_data['documents']}\n",
    "dev_doc_name_by_id = {d['_id']: d['name'] for d in dev_data['documents']}"
   ]
  },
  {
   "cell_type": "code",
   "execution_count": 8,
   "id": "0d0a1956",
   "metadata": {
    "executionInfo": {
     "elapsed": 10,
     "status": "ok",
     "timestamp": 1628722071198,
     "user": {
      "displayName": "Xinyue Zhang",
      "photoUrl": "https://lh3.googleusercontent.com/a-/AOh14GjHjtdv570uV9NRQl9hjKdqC83N2nypQc5tVc9usQ=s64",
      "userId": "13142209830906612426"
     },
     "user_tz": -120
    },
    "id": "0d0a1956"
   },
   "outputs": [],
   "source": [
    "test_annotations = test_data['annotations']\n",
    "test_documents_by_id = {d['_id']: d for d in test_data['documents']}\n",
    "test_types_by_id = {t['_id']: t for t in test_data['types']}\n",
    "test_type_ids_by_name = {t['name']: t['_id'] for t in test_data['types']}\n",
    "test_type_names_by_id = {t['_id']: t['name'] for t in test_data['types']}\n",
    "test_doc_id_by_name = {d['name']: d['_id'] for d in test_data['documents']}\n",
    "test_doc_name_by_id = {d['_id']: d['name'] for d in test_data['documents']}"
   ]
  },
  {
   "cell_type": "markdown",
   "id": "k1ALqFmDeGEv",
   "metadata": {
    "id": "k1ALqFmDeGEv"
   },
   "source": [
    "# Phase 2 - Deciding on a Sentence Segmenter:"
   ]
  },
  {
   "cell_type": "markdown",
   "id": "54PUmXUzd6Tw",
   "metadata": {
    "id": "54PUmXUzd6Tw"
   },
   "source": [
    "## Step 2.1 (Standard segmentation analysis):"
   ]
  },
  {
   "cell_type": "code",
   "execution_count": 11,
   "id": "6aae3c78",
   "metadata": {
    "collapsed": true,
    "id": "6aae3c78"
   },
   "outputs": [],
   "source": [
    "nlp = spacy.load(\"en_core_web_sm\")\n",
    "for document in train_data['documents']:\n",
    "    doc = nlp(document['plainText'])\n",
    "    document['standard_SS'] = [(sent.start_char,sent.end_char) for sent in doc.sents] # get the sentence offsets"
   ]
  },
  {
   "cell_type": "code",
   "execution_count": 12,
   "id": "5uHOqerCkIW9",
   "metadata": {
    "collapsed": true,
    "id": "5uHOqerCkIW9"
   },
   "outputs": [],
   "source": [
    "for document in train_data['documents']:\n",
    "    document['annotation'] = [(a['start'],a['end']) for a in annotations if a['document']==document['_id']]"
   ]
  },
  {
   "cell_type": "code",
   "execution_count": 14,
   "id": "ACWDp1YdBfKR",
   "metadata": {
    "collapsed": true,
    "id": "ACWDp1YdBfKR"
   },
   "outputs": [],
   "source": [
    "def accuracy(true_splits, generated_splits):\n",
    "    tp = 0 #Initialize True Positive\n",
    "    fn = [1]*len(true_splits)\n",
    "    fp = [1]*len(generated_splits)\n",
    "    for i_idx, i in enumerate(true_splits):\n",
    "        for j_idx, j in enumerate(generated_splits):\n",
    "            if (i[0] <= j[0] + 3 and i[0] >= j[0] - 3) and (i[1] <= j[1] + 3 and i[1] >= j[1] - 3): \n",
    "                tp = tp + 1\n",
    "                fn[i_idx] = 0\n",
    "                fp[j_idx] = 0\n",
    "        \n",
    "    return tp,np.sum(fn),np.sum(fp)"
   ]
  },
  {
   "cell_type": "code",
   "execution_count": 15,
   "id": "KLMBSjQnBO-F",
   "metadata": {
    "colab": {
     "base_uri": "https://localhost:8080/"
    },
    "executionInfo": {
     "elapsed": 326,
     "status": "ok",
     "timestamp": 1628673751698,
     "user": {
      "displayName": "Xinyue Zhang",
      "photoUrl": "https://lh3.googleusercontent.com/a-/AOh14GjHjtdv570uV9NRQl9hjKdqC83N2nypQc5tVc9usQ=s64",
      "userId": "13142209830906612426"
     },
     "user_tz": -120
    },
    "id": "KLMBSjQnBO-F",
    "outputId": "bf43a29c-c0dd-48dc-dd54-cb20cbedae48"
   },
   "outputs": [
    {
     "name": "stdout",
     "output_type": "stream",
     "text": [
      "(4496, 3032, 5276)\n"
     ]
    }
   ],
   "source": [
    "(tp_sum, fn_sum, fp_sum) = (0, 0, 0)\n",
    "for document in train_data['documents']:\n",
    "    tp, fn, fp = accuracy(document['annotation'],document['standard_SS'])\n",
    "    tp_sum += tp\n",
    "    fn_sum += fn\n",
    "    fp_sum += fp\n",
    "print((tp_sum, fn_sum, fp_sum))"
   ]
  },
  {
   "cell_type": "code",
   "execution_count": 16,
   "id": "xm95ivGhBbZM",
   "metadata": {
    "colab": {
     "base_uri": "https://localhost:8080/"
    },
    "executionInfo": {
     "elapsed": 337,
     "status": "ok",
     "timestamp": 1628673753663,
     "user": {
      "displayName": "Xinyue Zhang",
      "photoUrl": "https://lh3.googleusercontent.com/a-/AOh14GjHjtdv570uV9NRQl9hjKdqC83N2nypQc5tVc9usQ=s64",
      "userId": "13142209830906612426"
     },
     "user_tz": -120
    },
    "id": "xm95ivGhBbZM",
    "outputId": "aca4a63a-d1b3-4ed0-c276-a8d4849b89ae"
   },
   "outputs": [
    {
     "name": "stdout",
     "output_type": "stream",
     "text": [
      "0.4600900532132624 0.5972369819341127 0.5197687861271676\n"
     ]
    }
   ],
   "source": [
    "precision = tp_sum / (tp_sum + fp_sum)\n",
    "recall = tp_sum / (tp_sum + fn_sum)\n",
    "F1 = (2*tp_sum) / (2*tp_sum + fp_sum + fn_sum)\n",
    "print(precision,recall,F1)"
   ]
  },
  {
   "cell_type": "markdown",
   "id": "lQSEGVJ7jdgF",
   "metadata": {
    "id": "lQSEGVJ7jdgF"
   },
   "source": [
    "## Step 2.2 (Improved segmentation analysis):"
   ]
  },
  {
   "cell_type": "code",
   "execution_count": 17,
   "id": "l_DHzytvjkm6",
   "metadata": {
    "id": "l_DHzytvjkm6"
   },
   "outputs": [
    {
     "data": {
      "text/plain": [
       "<function __main__.set_custom_boundaries(doc)>"
      ]
     },
     "execution_count": 17,
     "metadata": {},
     "output_type": "execute_result"
    }
   ],
   "source": [
    "nlp = spacy.load(\"en_core_web_sm\")\n",
    "@Language.component(\"set_custom_boundaries\")\n",
    "def set_custom_boundaries(doc):\n",
    "    for token in doc[:-1]:\n",
    "        if token.text == \"Vet\" and doc[token.i+1].text == \".\":\n",
    "            doc[token.i+2].is_sent_start = False\n",
    "        elif token.text == \"App\" and doc[token.i+1].text == \".\":\n",
    "            doc[token.i+2].is_sent_start = False\n",
    "        elif token.text == \"Fed\" and doc[token.i+1].text == \".\" and doc[token.i+2].text == \"Cir\":\n",
    "            doc[token.i+2].is_sent_start = False\n",
    "        elif token.text == \"Fed\" and doc[token.i+1].text == \".\" and doc[token.i+2].text == \"Reg\":\n",
    "            doc[token.i+2].is_sent_start = False\n",
    "        elif token.text == \"THE\" and doc[token.i+1].text == \"ISSUE\":\n",
    "            doc[token.i+2].is_sent_start = True\n",
    "            doc[token.i].is_sent_start = True\n",
    "        elif token.text == \"REPRESENTATION\":\n",
    "            doc[token.i].is_sent_start = True\n",
    "            doc[token.i+1].is_sent_start = True\n",
    "        elif token.text == \"INTRODUCTION\":\n",
    "            doc[token.i].is_sent_start = True\n",
    "            doc[token.i+1].is_sent_start = True\n",
    "        elif token.text == \"OF\" and doc[token.i+1].text == \"LAW\":\n",
    "            doc[token.i-1].is_sent_start = True\n",
    "            doc[token.i+2].is_sent_start = True\n",
    "        elif token.text == \"OF\" and doc[token.i+1].text == \"FACT\":\n",
    "            doc[token.i-1].is_sent_start = True\n",
    "            doc[token.i].is_sent_start = False\n",
    "            doc[token.i+1].is_sent_start = False\n",
    "            doc[token.i+2].is_sent_start = True\n",
    "        elif token.text == \"ORDER\":\n",
    "            doc[token.i].is_sent_start = True\n",
    "            doc[token.i+1].is_sent_start = True\n",
    "        elif token.text == \"REMAND\":\n",
    "            doc[token.i].is_sent_start = True\n",
    "            doc[token.i+1].is_sent_start = True    \n",
    "        elif doc[token.i-1].text == \"of\" and token.text == \"Veterans\" and doc[token.i+1].text == \"Affairs\" and doc[token.i+2].pos_ == \"SPACE\":\n",
    "            doc[token.i+2].is_sent_start = True\n",
    "        elif doc[token.i-1].pos_ == \"SPACE\" and token.text == \"_\" and doc[token.i+1].text == \"_\":\n",
    "            doc[token.i].is_sent_start = True\n",
    "        elif token.text == \"Veterans\" and doc[token.i+1].text == \"'\" and doc[token.i+2].text == \"Appeals\":\n",
    "            doc[token.i+2].is_sent_start = False\n",
    "            doc[token.i+3].is_sent_start = False\n",
    "        elif token.text == \"American\" and doc[token.i+1].text == \"Veterans\":\n",
    "            doc[token.i+2].is_sent_start = True\n",
    "        elif token.text == \" \\r\\n\\r\\n\" and doc[token.i+1].pos_ != \"SPACE\":\n",
    "            doc[token.i+1].is_sent_start = True\n",
    "        elif token.text == \"\\r\\n\\t\\t\\r\\n\" and doc[token.i+1].pos_ != \"SPACE\":\n",
    "            doc[token.i+1].is_sent_start = True\n",
    "        elif token.text == \"  \\r\\n\\r\\n\" and doc[token.i+1].pos_ != \"SPACE\":\n",
    "            doc[token.i+1].is_sent_start = True\n",
    "        elif token.text == \" \\r\\n\\r\\n\\r\\n\" and doc[token.i+1].pos_ != \"SPACE\":\n",
    "            doc[token.i+1].is_sent_start = True\n",
    "        elif token.text == \"\\r\\n\\r\\n\\r\\n\" and doc[token.i+1].pos_ != \"SPACE\":\n",
    "            doc[token.i+1].is_sent_start = True\n",
    "        elif token.text == \"\\r\\n\\r\\n\" and doc[token.i+1].pos_ != \"SPACE\":\n",
    "            doc[token.i+1].is_sent_start = True\n",
    "        elif token.pos_ != \"SPACE\" and doc[token.i+1].text == \"\\r\\n\\r\\n\":\n",
    "            doc[token.i+1].is_sent_start = True\n",
    "        elif token.pos_ != \"SPACE\" and doc[token.i+1].text == \"\\r\\n\\r\\n\\r\\n\":\n",
    "            doc[token.i+1].is_sent_start = True\n",
    "        elif token.text == \"ATTORNEY\" and doc[token.i+1].text == \"FOR\" and doc[token.i+2].text == \"THE\":\n",
    "            doc[token.i].is_sent_start = False\n",
    "            doc[token.i+1].is_sent_start = False\n",
    "        elif token.text == \"VA\" and doc[token.i+1].pos_ != \"SPACE\":\n",
    "            doc[token.i].is_sent_start = False    \n",
    "\n",
    "            \n",
    "    return doc\n",
    "\n",
    "nlp.add_pipe(\"set_custom_boundaries\", before=\"parser\")"
   ]
  },
  {
   "cell_type": "code",
   "execution_count": 21,
   "id": "24cc99bd",
   "metadata": {
    "collapsed": true
   },
   "outputs": [],
   "source": [
    "def check_error(true_splits, generated_splits):\n",
    "    tp = 0 #Initialize True Positive\n",
    "    fn = [1]*len(true_splits)\n",
    "    fp = [1]*len(generated_splits)\n",
    "    for i_idx, i in enumerate(true_splits):\n",
    "        for j_idx, j in enumerate(generated_splits):\n",
    "            if (i[0] <= j[0] + 3 and i[0] >= j[0] - 3) and (i[1] <= j[1] + 3 and i[1] >= j[1] - 3): \n",
    "                tp = tp + 1\n",
    "                fn[i_idx] = 0\n",
    "                fp[j_idx] = 0\n",
    "        \n",
    "    return tp,fn,fp"
   ]
  },
  {
   "cell_type": "code",
   "execution_count": 18,
   "id": "88ecf4bd",
   "metadata": {
    "collapsed": true
   },
   "outputs": [],
   "source": [
    "#add some exceptions/extensions to the standard sentence splitter to prevent the most dominant instances of oversplitting.\n",
    "for document in train_data['documents']:\n",
    "    text = document['plainText']\n",
    "    doc = nlp(text)\n",
    "    document['improved_SS'] = [(sent.start_char,sent.end_char) for sent in doc.sents if sent.text!='\\r\\n\\r\\n\\r\\n' and sent.text!=' \\r\\n\\r\\n\\r\\n' and sent.text!='\\r\\n\\r\\n' and sent.text!=' \\r\\n\\r\\n' and sent.text!= ' \\r\\n' and sent.text!= '\\r\\n' and sent.text!= ' ' and sent.text!= '  \\r\\n\\r\\n' and sent.text!=  '\\r\\n\\r\\n\\r\\n\\r\\n\\r\\n']\n",
    "\n",
    "\n"
   ]
  },
  {
   "cell_type": "code",
   "execution_count": 19,
   "id": "zbhw42x6Lvwz",
   "metadata": {
    "colab": {
     "base_uri": "https://localhost:8080/"
    },
    "executionInfo": {
     "elapsed": 17,
     "status": "ok",
     "timestamp": 1628673800772,
     "user": {
      "displayName": "Xinyue Zhang",
      "photoUrl": "https://lh3.googleusercontent.com/a-/AOh14GjHjtdv570uV9NRQl9hjKdqC83N2nypQc5tVc9usQ=s64",
      "userId": "13142209830906612426"
     },
     "user_tz": -120
    },
    "id": "zbhw42x6Lvwz",
    "outputId": "35ef3865-8912-46bd-8566-638abaf8c3d3"
   },
   "outputs": [
    {
     "name": "stdout",
     "output_type": "stream",
     "text": [
      "(6563, 965, 2097)\n"
     ]
    }
   ],
   "source": [
    "(tp_sum, fn_sum, fp_sum) = (0, 0, 0)\n",
    "for document in train_data['documents']:\n",
    "    tp, fn, fp = accuracy(document['annotation'],document['improved_SS'])\n",
    "    tp_sum += tp\n",
    "    fn_sum += fn\n",
    "    fp_sum += fp\n",
    "print((tp_sum, fn_sum, fp_sum))"
   ]
  },
  {
   "cell_type": "code",
   "execution_count": 20,
   "id": "G4XGHMXUL1JP",
   "metadata": {
    "colab": {
     "base_uri": "https://localhost:8080/"
    },
    "executionInfo": {
     "elapsed": 15,
     "status": "ok",
     "timestamp": 1628673800773,
     "user": {
      "displayName": "Xinyue Zhang",
      "photoUrl": "https://lh3.googleusercontent.com/a-/AOh14GjHjtdv570uV9NRQl9hjKdqC83N2nypQc5tVc9usQ=s64",
      "userId": "13142209830906612426"
     },
     "user_tz": -120
    },
    "id": "G4XGHMXUL1JP",
    "outputId": "578a79ab-1636-4921-e46f-8ba151c33c7f"
   },
   "outputs": [
    {
     "name": "stdout",
     "output_type": "stream",
     "text": [
      "0.7578521939953811 0.8718119022316685 0.810847541388683\n"
     ]
    }
   ],
   "source": [
    "precision = tp_sum / (tp_sum + fp_sum)\n",
    "recall = tp_sum / (tp_sum + fn_sum)\n",
    "F1 = (2*tp_sum) / (2*tp_sum + fp_sum + fn_sum)\n",
    "print(precision,recall,F1)"
   ]
  },
  {
   "cell_type": "markdown",
   "id": "jzNzauwNljZV",
   "metadata": {
    "id": "jzNzauwNljZV"
   },
   "source": [
    "## Step 2.3 (Law-specific sentence segmenter):"
   ]
  },
  {
   "cell_type": "code",
   "execution_count": null,
   "id": "86AavIxlRfPZ",
   "metadata": {
    "collapsed": true,
    "id": "86AavIxlRfPZ"
   },
   "outputs": [],
   "source": [
    "for document in train_data['documents']:\n",
    "    document['Law-specific_SS'] = text2sentences(document['plainText'], offsets=True)"
   ]
  },
  {
   "cell_type": "markdown",
   "id": "IDqp9Gv_jtRh",
   "metadata": {
    "id": "IDqp9Gv_jtRh"
   },
   "source": [
    "Error metrics"
   ]
  },
  {
   "cell_type": "markdown",
   "id": "eZOzgjeEjpff",
   "metadata": {
    "id": "eZOzgjeEjpff"
   },
   "source": [
    "Error Analysis"
   ]
  },
  {
   "cell_type": "code",
   "execution_count": null,
   "id": "SR-ek_0x3Saw",
   "metadata": {
    "colab": {
     "base_uri": "https://localhost:8080/"
    },
    "executionInfo": {
     "elapsed": 499,
     "status": "ok",
     "timestamp": 1628673842645,
     "user": {
      "displayName": "Xinyue Zhang",
      "photoUrl": "https://lh3.googleusercontent.com/a-/AOh14GjHjtdv570uV9NRQl9hjKdqC83N2nypQc5tVc9usQ=s64",
      "userId": "13142209830906612426"
     },
     "user_tz": -120
    },
    "id": "SR-ek_0x3Saw",
    "outputId": "bbe8d44e-2730-431d-d04a-62b488eea600"
   },
   "outputs": [
    {
     "name": "stdout",
     "output_type": "stream",
     "text": [
      "(6422, 1106, 2820)\n"
     ]
    }
   ],
   "source": [
    "(tp_sum, fn_sum, fp_sum) = (0, 0, 0)\n",
    "for document in train_data['documents']:\n",
    "    tp, fn, fp = accuracy(document['annotation'],document['Law-specific_SS'])\n",
    "    tp_sum += tp\n",
    "    fn_sum += fn\n",
    "    fp_sum += fp\n",
    "print((tp_sum, fn_sum, fp_sum))"
   ]
  },
  {
   "cell_type": "code",
   "execution_count": null,
   "id": "JFHz0niF-3FM",
   "metadata": {
    "colab": {
     "base_uri": "https://localhost:8080/"
    },
    "executionInfo": {
     "elapsed": 8,
     "status": "ok",
     "timestamp": 1628673842646,
     "user": {
      "displayName": "Xinyue Zhang",
      "photoUrl": "https://lh3.googleusercontent.com/a-/AOh14GjHjtdv570uV9NRQl9hjKdqC83N2nypQc5tVc9usQ=s64",
      "userId": "13142209830906612426"
     },
     "user_tz": -120
    },
    "id": "JFHz0niF-3FM",
    "outputId": "2f388442-0afc-4338-9d26-4af0132d794f"
   },
   "outputs": [
    {
     "name": "stdout",
     "output_type": "stream",
     "text": [
      "0.6948712399913438 0.8530818278427205 0.765891472868217\n"
     ]
    }
   ],
   "source": [
    "precision = tp_sum / (tp_sum + fp_sum)\n",
    "recall = tp_sum / (tp_sum + fn_sum)\n",
    "F1 = (2*tp_sum) / (2*tp_sum + fp_sum + fn_sum)\n",
    "print(precision,recall,F1)"
   ]
  },
  {
   "cell_type": "markdown",
   "id": "65jGEgc2mkQc",
   "metadata": {
    "id": "65jGEgc2mkQc"
   },
   "source": [
    "# Phase 3: Preprocessing"
   ]
  },
  {
   "cell_type": "markdown",
   "id": "PcIplu8gnqXg",
   "metadata": {
    "id": "PcIplu8gnqXg"
   },
   "source": [
    "## Step 3.1 (splitting unlabeled data):"
   ]
  },
  {
   "cell_type": "markdown",
   "id": "6sTEirGJbxw6",
   "metadata": {
    "id": "6sTEirGJbxw6"
   },
   "source": [
    "Using unlabeled text files to build one JSON file. The file name is \"unlabeled_corpus.json\". The code is in build_unlabeled_corpus.py"
   ]
  },
  {
   "cell_type": "markdown",
   "id": "yFKh2X9yff8f",
   "metadata": {
    "id": "yFKh2X9yff8f"
   },
   "source": [
    "Load 'unlabeled_corpus.json' and sentence-segment all unlabeled decisions using Law-specific sentence segmenter used in Phase 2. Write the segmentation data into unlabeled_corpus_with_SS.json."
   ]
  },
  {
   "cell_type": "code",
   "execution_count": 23,
   "id": "MAOpcpjKzJK0",
   "metadata": {
    "collapsed": true,
    "id": "MAOpcpjKzJK0"
   },
   "outputs": [],
   "source": [
    "data_root = os.path.abspath(os.path.abspath(os.getcwd()))\n",
    "unlabeled_corpus_with_SS_path = os.path.join(data_root,'unlabeled_corpus_with_SS.json')"
   ]
  },
  {
   "cell_type": "code",
   "execution_count": null,
   "id": "87cf63b9",
   "metadata": {},
   "outputs": [],
   "source": [
    "\"\"\"These codes only run once.\n",
    "data_root = os.path.abspath(os.path.abspath(os.getcwd()))\n",
    "unlabeled_path = os.path.join(data_root,'unlabeled', '*.txt')\n",
    "files=glob.glob(unlabeled_path)\n",
    "documents = []\n",
    "data = {}\n",
    "for file in files:\n",
    "    data_dict = {}\n",
    "    with io.open(file, \"r\", encoding=\"iso-8859-1\") as f:\n",
    "        document = f.read()\n",
    "        data_dict['_id'] = os.path.basename(file)\n",
    "        data_dict['plainText'] = document\n",
    "        documents.append(data_dict)\n",
    "\n",
    "data['documents'] = documents\n",
    "unlabeled_corpus_path = os.path.join(data_root,'unlabeled_corpus.json')  \n",
    "srsly.write_jsonl(unlabeled_corpus_path, [data])\n",
    "\n",
    "\n",
    "\"\"\""
   ]
  },
  {
   "cell_type": "code",
   "execution_count": null,
   "id": "YYDqDczFpvn7",
   "metadata": {
    "colab": {
     "base_uri": "https://localhost:8080/"
    },
    "collapsed": true,
    "executionInfo": {
     "elapsed": 7,
     "status": "ok",
     "timestamp": 1628673842647,
     "user": {
      "displayName": "Xinyue Zhang",
      "photoUrl": "https://lh3.googleusercontent.com/a-/AOh14GjHjtdv570uV9NRQl9hjKdqC83N2nypQc5tVc9usQ=s64",
      "userId": "13142209830906612426"
     },
     "user_tz": -120
    },
    "id": "YYDqDczFpvn7",
    "outputId": "577c5d49-139a-455c-c03f-661a983ad719"
   },
   "outputs": [
    {
     "data": {
      "application/vnd.google.colaboratory.intrinsic+json": {
       "type": "string"
      },
      "text/plain": [
       "\"These codes only run once.\\n\\ndata_root = os.path.abspath(os.path.abspath(os.getcwd()))\\ndata_root = os.path.join(data_root,'ldsi_s2021')\\nunlabeled_corpus_path = os.path.join(data_root,'unlabeled_corpus.json')  \\nunlabeled_corpus = json.load(open(unlabeled_corpus_path))\\n\\nfor document in unlabeled_corpus['documents']:\\n  document['Law-specific_SS'] = text2sentences(document['plainText'], offsets=True)\\n\\nimport srsly\\ndata_root = os.path.abspath(os.path.abspath(os.getcwd()))\\ndata_root = os.path.join(data_root,'ldsi_s2021')\\nunlabeled_corpus_with_SS_path = os.path.join(data_root,'unlabeled_corpus_with_SS.json')\\nsrsly.write_jsonl(unlabeled_corpus_with_SS_path, [unlabeled_corpus])\\n\""
      ]
     },
     "execution_count": 56,
     "metadata": {
      "tags": []
     },
     "output_type": "execute_result"
    }
   ],
   "source": [
    "\"\"\"These codes only run once.\n",
    "\n",
    "data_root = os.path.abspath(os.path.abspath(os.getcwd()))\n",
    "unlabeled_corpus_path = os.path.join(data_root,'unlabeled_corpus.json')  \n",
    "unlabeled_corpus = json.load(open(unlabeled_corpus_path))\n",
    "\n",
    "for document in unlabeled_corpus['documents']:\n",
    "  document['Law-specific_SS'] = text2sentences(document['plainText'], offsets=True)\n",
    "\n",
    "import srsly\n",
    "data_root = os.path.abspath(os.path.abspath(os.getcwd()))\n",
    "unlabeled_corpus_with_SS_path = os.path.join(data_root,'unlabeled_corpus_with_SS.json')\n",
    "srsly.write_jsonl(unlabeled_corpus_with_SS_path, [unlabeled_corpus])\n",
    "\"\"\""
   ]
  },
  {
   "cell_type": "code",
   "execution_count": 24,
   "id": "qJoctYrE-hK_",
   "metadata": {
    "collapsed": true,
    "id": "qJoctYrE-hK_"
   },
   "outputs": [],
   "source": [
    "unlabeled_corpus_with_SS_data = json.load(open(unlabeled_corpus_with_SS_path))"
   ]
  },
  {
   "cell_type": "markdown",
   "id": "fI6zwBYypUlo",
   "metadata": {
    "id": "fI6zwBYypUlo"
   },
   "source": [
    "Produce a histogram for the number of sentences across all unlabeled decisions and report the total number of sentences."
   ]
  },
  {
   "cell_type": "code",
   "execution_count": 25,
   "id": "5j6J-GgO0Eet",
   "metadata": {
    "collapsed": true,
    "id": "5j6J-GgO0Eet"
   },
   "outputs": [],
   "source": [
    "doc_lengths = [len(d['Law-specific_SS']) for d in unlabeled_corpus_with_SS_data['documents']]"
   ]
  },
  {
   "cell_type": "code",
   "execution_count": 26,
   "id": "EH7zozIM2E9i",
   "metadata": {
    "colab": {
     "base_uri": "https://localhost:8080/"
    },
    "executionInfo": {
     "elapsed": 22,
     "status": "ok",
     "timestamp": 1628673860970,
     "user": {
      "displayName": "Xinyue Zhang",
      "photoUrl": "https://lh3.googleusercontent.com/a-/AOh14GjHjtdv570uV9NRQl9hjKdqC83N2nypQc5tVc9usQ=s64",
      "userId": "13142209830906612426"
     },
     "user_tz": -120
    },
    "id": "EH7zozIM2E9i",
    "outputId": "56cae5ed-10a7-4028-a350-b0fe4b9fe697"
   },
   "outputs": [
    {
     "data": {
      "text/plain": [
       "3360495"
      ]
     },
     "execution_count": 26,
     "metadata": {},
     "output_type": "execute_result"
    }
   ],
   "source": [
    "sum(doc_lengths)"
   ]
  },
  {
   "cell_type": "code",
   "execution_count": 30,
   "id": "ff4qpnam2J44",
   "metadata": {
    "colab": {
     "base_uri": "https://localhost:8080/"
    },
    "executionInfo": {
     "elapsed": 516,
     "status": "ok",
     "timestamp": 1628673861466,
     "user": {
      "displayName": "Xinyue Zhang",
      "photoUrl": "https://lh3.googleusercontent.com/a-/AOh14GjHjtdv570uV9NRQl9hjKdqC83N2nypQc5tVc9usQ=s64",
      "userId": "13142209830906612426"
     },
     "user_tz": -120
    },
    "id": "ff4qpnam2J44",
    "outputId": "451d8388-9c89-4917-8cfc-b5a883bf6114"
   },
   "outputs": [
    {
     "data": {
      "image/png": "[encoded data removed]",
      "text/plain": [
       "<Figure size 432x288 with 1 Axes>"
      ]
     },
     "metadata": {
      "needs_background": "light"
     },
     "output_type": "display_data"
    }
   ],
   "source": [
    "plt.hist(doc_lengths,bins=50)\n",
    "plt.show()"
   ]
  },
  {
   "cell_type": "markdown",
   "id": "2B0AXfgz59aJ",
   "metadata": {
    "id": "2B0AXfgz59aJ"
   },
   "source": [
    "## Step 3.2 (sentence-wise preprocessing):"
   ]
  },
  {
   "cell_type": "markdown",
   "id": "FI4vw9bVXDk0",
   "metadata": {
    "id": "FI4vw9bVXDk0"
   },
   "source": [
    "Create Corpus"
   ]
  },
  {
   "cell_type": "code",
   "execution_count": null,
   "id": "MjimMo2TXImE",
   "metadata": {
    "collapsed": true,
    "id": "MjimMo2TXImE"
   },
   "outputs": [],
   "source": [
    "# get all sentences\n",
    "def make_span_data(unlabeled_corpus_with_SS_data):\n",
    "    span_data = []\n",
    "    for d in unlabeled_corpus_with_SS_data['documents']:\n",
    "        for s in d['Law-specific_SS']:\n",
    "            sd = {\n",
    "                'document': d['_id'],\n",
    "                'txt': d['plainText'][s[0]:s[1]],\n",
    "                'start': s[0],\n",
    "                'start_normalized': s[0] / len(d['plainText']),\n",
    "                'end': s[1],\n",
    "            }\n",
    "            span_data.append(sd)\n",
    "    return span_data"
   ]
  },
  {
   "cell_type": "code",
   "execution_count": null,
   "id": "W6u3D3yaXIEk",
   "metadata": {
    "collapsed": true,
    "id": "W6u3D3yaXIEk"
   },
   "outputs": [],
   "source": [
    "spans = make_span_data(unlabeled_corpus_with_SS_data)"
   ]
  },
  {
   "cell_type": "markdown",
   "id": "4zKM7lxmsmqS",
   "metadata": {
    "id": "4zKM7lxmsmqS"
   },
   "source": [
    "Replace line break characters (i.e. \\t, \\r, and \\n) in unlabeled sentences with single whitespace. So that the the offset of sentence segmentation will not change "
   ]
  },
  {
   "cell_type": "code",
   "execution_count": null,
   "id": "YAfEhZtyaLdT",
   "metadata": {
    "collapsed": true,
    "id": "YAfEhZtyaLdT"
   },
   "outputs": [],
   "source": [
    "for span in spans:\n",
    "    text = span['txt'].replace('\\n', ' ')\n",
    "    text = text.replace('\\r', ' ')\n",
    "    text = text.replace('\\t', ' ')\n",
    "    span['txt'] = text"
   ]
  },
  {
   "cell_type": "code",
   "execution_count": null,
   "id": "Tfggrmo0wNwl",
   "metadata": {
    "collapsed": true,
    "id": "Tfggrmo0wNwl"
   },
   "outputs": [],
   "source": [
    "spans_txt = [s['txt'] for s in spans]"
   ]
  },
  {
   "cell_type": "markdown",
   "id": "_oMaBN1HuXeK",
   "metadata": {
    "id": "_oMaBN1HuXeK"
   },
   "source": [
    "Tokenizer function using Spacy"
   ]
  },
  {
   "cell_type": "code",
   "execution_count": 27,
   "id": "HeYHuutLuw5C",
   "metadata": {
    "collapsed": true,
    "executionInfo": {
     "elapsed": 848,
     "status": "ok",
     "timestamp": 1628722446171,
     "user": {
      "displayName": "Xinyue Zhang",
      "photoUrl": "https://lh3.googleusercontent.com/a-/AOh14GjHjtdv570uV9NRQl9hjKdqC83N2nypQc5tVc9usQ=s64",
      "userId": "13142209830906612426"
     },
     "user_tz": -120
    },
    "id": "HeYHuutLuw5C"
   },
   "outputs": [],
   "source": [
    "# basic English pipeline provided by spacy\n",
    "nlp = spacy.load(\"en_core_web_sm\")\n",
    "nlp.disable_pipes('parser')\n",
    "nlp.tokenizer.add_special_case('post-traumatic', [{ORTH: 'post-traumatic'}])\n",
    "nlp.tokenizer.add_special_case('Dr.', [{ORTH: 'Dr.'}])\n",
    "nlp.tokenizer.add_special_case('Mr.', [{ORTH: 'Mr.'}])\n",
    "nlp.tokenizer.add_special_case('Jandreau v. Nicholson', [{ORTH: 'Jandreau v. Nicholson'}])\n",
    "nlp.tokenizer.add_special_case('x-ray', [{ORTH: 'x-ray'}])\n",
    "nlp.tokenizer.add_special_case('X-ray', [{ORTH: 'X-ray'}])\n",
    "nlp.tokenizer.add_special_case('X-Ray', [{ORTH: 'X-Ray'}])\n",
    "nlp.tokenizer.add_special_case('U.S.C.A.', [{ORTH: 'U.S.C.A.'}])\n",
    "nlp.tokenizer.add_special_case('Vet. App.', [{ORTH: 'Vet. App.'}])\n",
    "nlp.tokenizer.add_special_case('C.F.R.', [{ORTH: 'C.F.R.'}])\n",
    "nlp.tokenizer.add_special_case('Fed. Cir.', [{ORTH: 'Fed. Cir.'}])"
   ]
  },
  {
   "cell_type": "code",
   "execution_count": 38,
   "id": "d5c67544",
   "metadata": {
    "collapsed": true,
    "executionInfo": {
     "elapsed": 200,
     "status": "ok",
     "timestamp": 1628722694605,
     "user": {
      "displayName": "Xinyue Zhang",
      "photoUrl": "https://lh3.googleusercontent.com/a-/AOh14GjHjtdv570uV9NRQl9hjKdqC83N2nypQc5tVc9usQ=s64",
      "userId": "13142209830906612426"
     },
     "user_tz": -120
    },
    "id": "d5c67544"
   },
   "outputs": [],
   "source": [
    "def spacy_tokenize(txt):\n",
    "    sum_tokens = []\n",
    "    for doc in nlp.pipe(txt, n_process=4):\n",
    "        tokens = list(doc)\n",
    "        clean_tokens = []\n",
    "        for t in tokens:\n",
    "            if t.pos_ == 'PUNCT':\n",
    "                pass\n",
    "            elif t.lemma_ == \"§\" or t.lemma_ == \"[\" or t.lemma_ == \"]\" or t.lemma_ == \"-\" :\n",
    "                pass\n",
    "            elif t.pos_ == 'SPACE':\n",
    "                pass\n",
    "            elif t.pos_ == 'NUM':\n",
    "                clean_tokens.append(f'<NUM{len(t)}>')\n",
    "            else:\n",
    "                clean_tokens.append(t.lemma_.lower())\n",
    "        \n",
    "        sum_tokens.append(clean_tokens)\n",
    "    return sum_tokens"
   ]
  },
  {
   "cell_type": "code",
   "execution_count": null,
   "id": "f0bb9fd4",
   "metadata": {
    "collapsed": true,
    "id": "f0bb9fd4"
   },
   "outputs": [],
   "source": [
    "def spans_add_spacy_tokens(spans,tokens):\n",
    "    for index, span in enumerate(spans):\n",
    "        span['tokens_spacy'] = tokens[index]"
   ]
  },
  {
   "cell_type": "markdown",
   "id": "ESu9jcoKbaOb",
   "metadata": {
    "id": "ESu9jcoKbaOb"
   },
   "source": [
    "## Step 3.3 (Tokenize unlabeled data): "
   ]
  },
  {
   "cell_type": "code",
   "execution_count": null,
   "id": "uRct_XfUt7ue",
   "metadata": {
    "collapsed": true,
    "id": "uRct_XfUt7ue"
   },
   "outputs": [],
   "source": [
    "tokens = spacy_tokenize(spans_txt)"
   ]
  },
  {
   "cell_type": "code",
   "execution_count": null,
   "id": "8b16e81a",
   "metadata": {
    "collapsed": true,
    "id": "8b16e81a"
   },
   "outputs": [],
   "source": [
    "spans_add_spacy_tokens(spans,tokens)"
   ]
  },
  {
   "cell_type": "code",
   "execution_count": 32,
   "id": "9fe57812",
   "metadata": {
    "collapsed": true,
    "id": "9fe57812"
   },
   "outputs": [],
   "source": [
    "import srsly\n",
    "data_root = os.path.abspath(os.path.abspath(os.getcwd()))\n",
    "unlabeled_corpus_with_token_path = os.path.join(data_root,'unlabeled_corpus_with_token.json')\n",
    "#srsly.write_jsonl(unlabeled_corpus_with_token_path, [spans])"
   ]
  },
  {
   "cell_type": "code",
   "execution_count": 33,
   "id": "c8091ec1",
   "metadata": {
    "collapsed": true
   },
   "outputs": [],
   "source": [
    "unlabeled_corpus_with_token_data = json.load(open(unlabeled_corpus_with_token_path))"
   ]
  },
  {
   "cell_type": "code",
   "execution_count": 37,
   "id": "931ae8e0",
   "metadata": {
    "collapsed": true
   },
   "outputs": [],
   "source": [
    "tokens = [token['tokens_spacy'] for token in unlabeled_corpus_with_token_data]"
   ]
  },
  {
   "cell_type": "code",
   "execution_count": 39,
   "id": "r7j_4EU2uJdw",
   "metadata": {
    "collapsed": true,
    "id": "r7j_4EU2uJdw"
   },
   "outputs": [],
   "source": [
    "token_lengths = [len(t) for t in tokens]"
   ]
  },
  {
   "cell_type": "code",
   "execution_count": 41,
   "id": "6e6247da",
   "metadata": {
    "id": "6e6247da",
    "outputId": "8a16ab6d-73d1-478e-e8df-cf3bb78c414c",
    "scrolled": true
   },
   "outputs": [
    {
     "data": {
      "text/plain": [
       "3360495"
      ]
     },
     "execution_count": 41,
     "metadata": {},
     "output_type": "execute_result"
    }
   ],
   "source": [
    "len(token_lengths)"
   ]
  },
  {
   "cell_type": "code",
   "execution_count": 45,
   "id": "7f1aacc6",
   "metadata": {
    "id": "7f1aacc6",
    "outputId": "9b7b957c-20b5-494a-e052-2e5232d5a209"
   },
   "outputs": [
    {
     "data": {
      "image/png": "[encoded data removed]",
      "text/plain": [
       "<Figure size 432x288 with 1 Axes>"
      ]
     },
     "metadata": {
      "needs_background": "light"
     },
     "output_type": "display_data"
    }
   ],
   "source": [
    "plt.hist(token_lengths,bins=50)\n",
    "plt.show()"
   ]
  },
  {
   "cell_type": "code",
   "execution_count": null,
   "id": "d1f06d68",
   "metadata": {
    "collapsed": true,
    "id": "d1f06d68"
   },
   "outputs": [],
   "source": [
    "# The sentences in the file should be in random order.\n",
    "random.shuffle(tokens)\n",
    "\n",
    "# discard sentences below a minimum length (e.g. 5 tokens).\n",
    "new_tokens = [token for token in tokens if len(token) > 5]"
   ]
  },
  {
   "cell_type": "code",
   "execution_count": null,
   "id": "0954177b",
   "metadata": {
    "id": "0954177b",
    "outputId": "08aeda69-b07a-41ac-a16b-11871aea18c3"
   },
   "outputs": [
    {
     "data": {
      "text/plain": [
       "2612948"
      ]
     },
     "execution_count": 197,
     "metadata": {
      "tags": []
     },
     "output_type": "execute_result"
    }
   ],
   "source": [
    "len(new_tokens)"
   ]
  },
  {
   "cell_type": "code",
   "execution_count": null,
   "id": "3fbc103b",
   "metadata": {
    "collapsed": true,
    "id": "3fbc103b"
   },
   "outputs": [],
   "source": [
    "#assemble a single file, each line of which consists of a sentence's tokens, separated by a single whitespace.\n",
    "def assemble_into_file(tokens,file):\n",
    "    for _, token in enumerate(tokens):\n",
    "        for index, i in enumerate(token):\n",
    "            file.write(i)\n",
    "            if index < len(token)-1: \n",
    "                file.write(\" \")\n",
    "            else:\n",
    "                file.write(os.linesep)"
   ]
  },
  {
   "cell_type": "code",
   "execution_count": null,
   "id": "12c27a56",
   "metadata": {
    "collapsed": true,
    "id": "12c27a56"
   },
   "outputs": [],
   "source": [
    "#create a new text file\n",
    "data_root = os.path.abspath(os.path.abspath(os.getcwd()))\n",
    "unlabeled_tokens_path = os.path.join(data_root, 'new_unlabeled_tokens.txt')\n",
    "unlabeled_tokens_file = open(unlabeled_tokens_path,'w+')\n"
   ]
  },
  {
   "cell_type": "code",
   "execution_count": null,
   "id": "bd8263ea",
   "metadata": {
    "collapsed": true,
    "id": "bd8263ea"
   },
   "outputs": [],
   "source": [
    "assemble_into_file(new_tokens,unlabeled_tokens_file)"
   ]
  },
  {
   "cell_type": "code",
   "execution_count": null,
   "id": "cfc5965d",
   "metadata": {
    "collapsed": true,
    "id": "cfc5965d"
   },
   "outputs": [],
   "source": [
    "file = open(unlabeled_tokens_path, 'r')\n",
    "lines = file.readlines()"
   ]
  },
  {
   "cell_type": "code",
   "execution_count": null,
   "id": "3dd0e3c3",
   "metadata": {
    "collapsed": true,
    "id": "3dd0e3c3"
   },
   "outputs": [],
   "source": [
    "lines"
   ]
  },
  {
   "cell_type": "markdown",
   "id": "MloSf-iUbr9q",
   "metadata": {
    "id": "MloSf-iUbr9q"
   },
   "source": [
    "\n",
    "# Phase 4: Developing Word Embeddings\n"
   ]
  },
  {
   "cell_type": "markdown",
   "id": "yzv3BLR0bwRU",
   "metadata": {
    "id": "yzv3BLR0bwRU"
   },
   "source": [
    "Step 4.1 (Custom FastText embeddings): "
   ]
  },
  {
   "cell_type": "code",
   "execution_count": 46,
   "id": "a42b0255",
   "metadata": {
    "collapsed": true,
    "id": "a42b0255"
   },
   "outputs": [],
   "source": [
    "import fasttext"
   ]
  },
  {
   "cell_type": "code",
   "execution_count": 47,
   "id": "a9da528a",
   "metadata": {
    "collapsed": true,
    "id": "a9da528a"
   },
   "outputs": [],
   "source": [
    "data_root = os.path.abspath(os.path.abspath(os.getcwd()))\n",
    "unlabeled_tokens_path = os.path.join(data_root, 'new_unlabeled_tokens.txt')"
   ]
  },
  {
   "cell_type": "code",
   "execution_count": 9,
   "id": "7a085410",
   "metadata": {},
   "outputs": [],
   "source": [
    "data_root = os.path.abspath(os.path.abspath(os.getcwd()))\n",
    "root = os.path.join(data_root, 'model.bin')"
   ]
  },
  {
   "cell_type": "code",
   "execution_count": 10,
   "id": "97ff4ce3",
   "metadata": {},
   "outputs": [],
   "source": [
    "model_1 = fasttext.load_model(root)"
   ]
  },
  {
   "cell_type": "code",
   "execution_count": 278,
   "id": "1d5256ee",
   "metadata": {},
   "outputs": [
    {
     "data": {
      "text/plain": [
       "12557"
      ]
     },
     "execution_count": 278,
     "metadata": {},
     "output_type": "execute_result"
    }
   ],
   "source": [
    "len(model_1.words)"
   ]
  },
  {
   "cell_type": "code",
   "execution_count": 51,
   "id": "c81d71e6",
   "metadata": {
    "collapsed": true,
    "id": "c81d71e6",
    "outputId": "4e0d4070-48c2-419d-e61d-2e50d9995c64"
   },
   "outputs": [
    {
     "data": {
      "text/plain": [
       "[(0.6970693469047546, 'his'),\n",
       " (0.6890307068824768, \"'s\"),\n",
       " (0.6639660000801086, 'the'),\n",
       " (0.6527822613716125, 'appellant'),\n",
       " (0.6402354836463928, 'he'),\n",
       " (0.5961762070655823, 'furthermore'),\n",
       " (0.5908841490745544, 'additionally'),\n",
       " (0.583612322807312, 'have'),\n",
       " (0.57666015625, 'that'),\n",
       " (0.576265811920166, 'lastly'),\n",
       " (0.5614780187606812, 'moreover'),\n",
       " (0.540142834186554, 'c.s.'),\n",
       " (0.5362436175346375, 'february'),\n",
       " (0.5333990454673767, 'september'),\n",
       " (0.5316503047943115, 'january'),\n",
       " (0.5311999917030334, 'reflect'),\n",
       " (0.5270800590515137, 'here'),\n",
       " (0.5254421234130859, 'likewise'),\n",
       " (0.5235478281974792, 'march'),\n",
       " (0.5195447206497192, 'j.b.b.')]"
      ]
     },
     "execution_count": 51,
     "metadata": {},
     "output_type": "execute_result"
    }
   ],
   "source": [
    "model_1.get_nearest_neighbors('veteran',20)"
   ]
  },
  {
   "cell_type": "code",
   "execution_count": 53,
   "id": "053c0c6c",
   "metadata": {
    "collapsed": true
   },
   "outputs": [
    {
     "data": {
      "text/plain": [
       "[(0.6527822017669678, 'veteran'),\n",
       " (0.5958418846130371, 'kendall'),\n",
       " (0.5609190464019775, 'darla'),\n",
       " (0.5507221817970276, 'mahlin'),\n",
       " (0.5506866574287415, 'penelope'),\n",
       " (0.5485872030258179, 'represent'),\n",
       " (0.5479632616043091, 'sean'),\n",
       " (0.5469957590103149, 'jarvi'),\n",
       " (0.5424832701683044, 'jeany'),\n",
       " (0.5416982769966125, 'viterna'),\n",
       " (0.5343852639198303, 'lavan'),\n",
       " (0.5317940711975098, 'gronbeck'),\n",
       " (0.52616947889328, 'huffman'),\n",
       " (0.5211508870124817, 'ravin'),\n",
       " (0.5166838765144348, 'the'),\n",
       " (0.5164158344268799, 'girard'),\n",
       " (0.5148105621337891, 'accredited'),\n",
       " (0.5123250484466553, 'by'),\n",
       " (0.5112201571464539, 'attorney'),\n",
       " (0.5108230710029602, 'esquire')]"
      ]
     },
     "execution_count": 53,
     "metadata": {},
     "output_type": "execute_result"
    }
   ],
   "source": [
    "model_1.get_nearest_neighbors('appellant',20)"
   ]
  },
  {
   "cell_type": "code",
   "execution_count": 54,
   "id": "117b36e1",
   "metadata": {
    "collapsed": true,
    "id": "117b36e1",
    "outputId": "5344392d-1e73-43c8-a348-4c70c5251320"
   },
   "outputs": [
    {
     "data": {
      "text/plain": [
       "[(0.8019217848777771, 'app'),\n",
       " (0.7466469407081604, 'v.'),\n",
       " (0.723072350025177, 'vet.'),\n",
       " (0.715280294418335, 'app.'),\n",
       " (0.7076164484024048, 'see'),\n",
       " (0.7039514780044556, '.app'),\n",
       " (0.6976066827774048, 'app.112'),\n",
       " (0.6291811466217041, 'derwinksi'),\n",
       " (0.6056645512580872, 'jolley'),\n",
       " (0.6009442210197449, 'diorio'),\n",
       " (0.593504786491394, '<NUM3>'),\n",
       " (0.5913609266281128, 'bagwell'),\n",
       " (0.5901135802268982, 'prinicpi'),\n",
       " (0.5840316414833069, 'brown'),\n",
       " (0.5804855823516846, 'manio'),\n",
       " (0.5780920386314392, '.'),\n",
       " (0.5753897428512573, 'nicolson'),\n",
       " (0.5732588171958923, 'derwinski'),\n",
       " (0.5732576847076416, 'wensch'),\n",
       " (0.5729243755340576, \"aff'd\")]"
      ]
     },
     "execution_count": 54,
     "metadata": {},
     "output_type": "execute_result"
    }
   ],
   "source": [
    "model_1.get_nearest_neighbors('vet',20)"
   ]
  },
  {
   "cell_type": "code",
   "execution_count": 73,
   "id": "c918d9a9",
   "metadata": {
    "collapsed": true,
    "id": "c918d9a9",
    "outputId": "7286468a-20a1-4628-9f88-d1c88f518631"
   },
   "outputs": [
    {
     "data": {
      "text/plain": [
       "[(0.6706150770187378, 'connection'),\n",
       " (0.5866191983222961, 'disability'),\n",
       " (0.5822980403900146, 'disease'),\n",
       " (0.5665377378463745, 'active'),\n",
       " (0.5499465465545654, 'incur'),\n",
       " (0.5487679243087769, 'military'),\n",
       " (0.5475127100944519, 'injury'),\n",
       " (0.5400721430778503, 'disorder'),\n",
       " (0.5393965840339661, 'inservice'),\n",
       " (0.523131787776947, 'establish'),\n",
       " (0.5220890045166016, 'condition'),\n",
       " (0.5214115977287292, 'connect'),\n",
       " (0.5116925239562988, 'current'),\n",
       " (0.5114433169364929, 'during'),\n",
       " (0.5024224519729614, 'grant'),\n",
       " (0.4998444616794586, 'aggravate'),\n",
       " (0.49137449264526367, 'service-'),\n",
       " (0.4851112365722656, 'entitlement'),\n",
       " (0.48012346029281616, 'in-'),\n",
       " (0.47408008575439453, 'post')]"
      ]
     },
     "execution_count": 73,
     "metadata": {},
     "output_type": "execute_result"
    }
   ],
   "source": [
    "model_1.get_nearest_neighbors('service',20)"
   ]
  },
  {
   "cell_type": "code",
   "execution_count": 57,
   "id": "57cdecbf",
   "metadata": {
    "collapsed": true,
    "id": "57cdecbf",
    "outputId": "845d5aa6-2171-43a1-d21a-b3c55da7cca5"
   },
   "outputs": [
    {
     "data": {
      "text/plain": [
       "[(0.6528679132461548, 'contributor'),\n",
       " (0.6505553722381592, 'contributing'),\n",
       " (0.6356167793273926, 'attributable'),\n",
       " (0.6322312951087952, 'contributory'),\n",
       " (0.6179666519165039, 'contribute'),\n",
       " (0.612808883190155, 'exacerbate'),\n",
       " (0.6025742292404175, 'aggravated'),\n",
       " (0.6007651090621948, 'secondarily'),\n",
       " (0.5991052985191345, 'accelerate'),\n",
       " (0.5944975018501282, 'precipitate'),\n",
       " (0.5903897285461426, 'causative'),\n",
       " (0.583692193031311, 'causally'),\n",
       " (0.5830510854721069, 'permanently'),\n",
       " (0.577908992767334, 'due'),\n",
       " (0.5760119557380676, 'likely'),\n",
       " (0.5731321573257446, 'result'),\n",
       " (0.568789005279541, 'definitely'),\n",
       " (0.5676520466804504, 'culprit'),\n",
       " (0.5671285390853882, 'proximately'),\n",
       " (0.5578218102455139, 'progression')]"
      ]
     },
     "execution_count": 57,
     "metadata": {},
     "output_type": "execute_result"
    }
   ],
   "source": [
    "model_1.get_nearest_neighbors('cause',20)"
   ]
  },
  {
   "cell_type": "code",
   "execution_count": 72,
   "id": "da0e40b6",
   "metadata": {
    "collapsed": true,
    "id": "57cdecbf",
    "outputId": "845d5aa6-2171-43a1-d21a-b3c55da7cca5"
   },
   "outputs": [
    {
     "data": {
      "text/plain": [
       "[(0.6920429468154907, 'handed'),\n",
       " (0.6003784537315369, 'via'),\n",
       " (0.5852563977241516, 'management'),\n",
       " (0.5428857207298279, 'accordingly'),\n",
       " (0.5402928590774536, 'remands'),\n",
       " (0.5376554727554321, 'hereby'),\n",
       " (0.5052216649055481, 'amc'),\n",
       " (0.4835907816886902, 'action'),\n",
       " (0.4780319333076477, 'blinded'),\n",
       " (0.4778415560722351, 'center'),\n",
       " (0.45017504692077637, 'unadjudicated'),\n",
       " (0.44785240292549133, 'appealable'),\n",
       " (0.44583117961883545, 'd.c.'),\n",
       " (0.44096365571022034, 'dc'),\n",
       " (0.43990564346313477, 'hereafter'),\n",
       " (0.43690967559814453, 'remandable'),\n",
       " (0.433500200510025, 'regrettably'),\n",
       " (0.4321027994155884, 'ro&ic'),\n",
       " (0.4250560402870178, 'prickett'),\n",
       " (0.4243011772632599, 'abovementioned')]"
      ]
     },
     "execution_count": 72,
     "metadata": {},
     "output_type": "execute_result"
    }
   ],
   "source": [
    "model_1.get_nearest_neighbors('remanded',20)"
   ]
  },
  {
   "cell_type": "code",
   "execution_count": 58,
   "id": "7e493ca9",
   "metadata": {
    "collapsed": true,
    "id": "7e493ca9",
    "outputId": "710b8c35-9cd1-4d3e-a921-738cca96a9d5"
   },
   "outputs": [
    {
     "data": {
      "text/plain": [
       "[(0.6882616877555847, 'cause'),\n",
       " (0.6101967692375183, 'contributor'),\n",
       " (0.6060751080513, 'definitely'),\n",
       " (0.6045461297035217, 'confused'),\n",
       " (0.5834552645683289, 'probably'),\n",
       " (0.5822371244430542, 'acutely'),\n",
       " (0.5793704390525818, 'unlikely'),\n",
       " (0.5784780979156494, 'real'),\n",
       " (0.5691012740135193, 'stressed'),\n",
       " (0.5626106858253479, 'quite'),\n",
       " (0.5601495504379272, 'distressed'),\n",
       " (0.5570107102394104, 'feel'),\n",
       " (0.5551754236221313, 'seem'),\n",
       " (0.554784893989563, 'prone'),\n",
       " (0.5535833835601807, 'causative'),\n",
       " (0.5523353815078735, 'distension'),\n",
       " (0.5502200126647949, 'spontaneous'),\n",
       " (0.548194944858551, 'contributing'),\n",
       " (0.5473364591598511, 'mechanism'),\n",
       " (0.5470985770225525, 'extremely')]"
      ]
     },
     "execution_count": 58,
     "metadata": {},
     "output_type": "execute_result"
    }
   ],
   "source": [
    "model_1.get_nearest_neighbors('caused',20)"
   ]
  },
  {
   "cell_type": "code",
   "execution_count": 59,
   "id": "b55e5e80",
   "metadata": {
    "collapsed": true,
    "id": "b55e5e80",
    "outputId": "c011d077-3c0c-4794-8b5d-4ee1a5eadc95"
   },
   "outputs": [
    {
     "data": {
      "text/plain": [
       "[(0.6920429468154907, 'handed'),\n",
       " (0.6003784537315369, 'via'),\n",
       " (0.5852563977241516, 'management'),\n",
       " (0.5428857207298279, 'accordingly'),\n",
       " (0.5402928590774536, 'remands'),\n",
       " (0.5376554727554321, 'hereby'),\n",
       " (0.5052216649055481, 'amc'),\n",
       " (0.4835907816886902, 'action'),\n",
       " (0.4780319333076477, 'blinded'),\n",
       " (0.4778415560722351, 'center'),\n",
       " (0.45017504692077637, 'unadjudicated'),\n",
       " (0.44785240292549133, 'appealable'),\n",
       " (0.44583117961883545, 'd.c.'),\n",
       " (0.44096365571022034, 'dc'),\n",
       " (0.43990564346313477, 'hereafter'),\n",
       " (0.43690967559814453, 'remandable'),\n",
       " (0.433500200510025, 'regrettably'),\n",
       " (0.4321027994155884, 'ro&ic'),\n",
       " (0.4250560402870178, 'prickett'),\n",
       " (0.4243011772632599, 'abovementioned')]"
      ]
     },
     "execution_count": 59,
     "metadata": {},
     "output_type": "execute_result"
    }
   ],
   "source": [
    "model_1.get_nearest_neighbors('remanded',20)"
   ]
  },
  {
   "cell_type": "code",
   "execution_count": 60,
   "id": "9144e9ff",
   "metadata": {
    "collapsed": true,
    "id": "9144e9ff",
    "outputId": "c65b3245-b5e5-4e77-932a-721e066848b7"
   },
   "outputs": [
    {
     "data": {
      "text/plain": [
       "[(0.9138283133506775, 'republic'),\n",
       " (0.8844241499900818, 'rvn'),\n",
       " (0.80441814661026, 'era'),\n",
       " (0.7652279734611511, 'country'),\n",
       " (0.7401430606842041, 'korea'),\n",
       " (0.7182396650314331, 'thailand'),\n",
       " (0.7168539762496948, 'korean'),\n",
       " (0.7163017392158508, 'danang'),\n",
       " (0.716281533241272, 'nam'),\n",
       " (0.7136986255645752, 'nang'),\n",
       " (0.7015897035598755, 'shore'),\n",
       " (0.6942739486694336, 'territorial'),\n",
       " (0.6791969537734985, 'offshore'),\n",
       " (0.6730896830558777, 'guam'),\n",
       " (0.670276939868927, 'da'),\n",
       " (0.6683924198150635, 'demilitarized'),\n",
       " (0.6683389544487, 'tour'),\n",
       " (0.666976809501648, 'mainland'),\n",
       " (0.6644023060798645, 'vsm'),\n",
       " (0.664049506187439, 'pleiku')]"
      ]
     },
     "execution_count": 60,
     "metadata": {},
     "output_type": "execute_result"
    }
   ],
   "source": [
    "model_1.get_nearest_neighbors('vietnam',20)"
   ]
  },
  {
   "cell_type": "code",
   "execution_count": 61,
   "id": "1b202acc",
   "metadata": {
    "collapsed": true,
    "id": "1b202acc",
    "outputId": "2cc995f3-7b7b-40cd-be32-1b99df69c7ad"
   },
   "outputs": [
    {
     "data": {
      "text/plain": [
       "[(0.7388982772827148, 'v.'),\n",
       " (0.7076159119606018, 'vet'),\n",
       " (0.6899507641792297, '<NUM4>'),\n",
       " (0.6708472967147827, 'id.'),\n",
       " (0.6665692329406738, 'cf'),\n",
       " (0.6632587313652039, '<NUM3>'),\n",
       " (0.6573101282119751, 'app.'),\n",
       " (0.6549177169799805, 'vet.'),\n",
       " (0.6384789347648621, '<NUM2>'),\n",
       " (0.6375328302383423, 'derwinksi'),\n",
       " (0.6334337592124939, 'diorio'),\n",
       " (0.630824625492096, 'supra'),\n",
       " (0.6181110143661499, 'prinicpi'),\n",
       " (0.6112388968467712, 'f.'),\n",
       " (0.6091493368148804, 'app'),\n",
       " (0.6084616184234619, 'manio'),\n",
       " (0.6077641844749451, '&'),\n",
       " (0.6039893627166748, '<NUM7>'),\n",
       " (0.6007150411605835, 'brown'),\n",
       " (0.5988039374351501, '101(16')]"
      ]
     },
     "execution_count": 61,
     "metadata": {},
     "output_type": "execute_result"
    }
   ],
   "source": [
    "model_1.get_nearest_neighbors('see',20)"
   ]
  },
  {
   "cell_type": "code",
   "execution_count": 62,
   "id": "f3949e88",
   "metadata": {
    "collapsed": true,
    "id": "f3949e88",
    "outputId": "4f9d8ecc-63bf-4bcc-c9cf-90fa60e97b09"
   },
   "outputs": [
    {
     "data": {
      "text/plain": [
       "[(0.8053224682807922, 'korean'),\n",
       " (0.7894306778907776, 'dmz'),\n",
       " (0.786448061466217, 'germany'),\n",
       " (0.7789478302001953, 'demilitarized'),\n",
       " (0.7456217408180237, 'station'),\n",
       " (0.7401430010795593, 'vietnam'),\n",
       " (0.7398949861526489, 'panama'),\n",
       " (0.728923499584198, 'okinawa'),\n",
       " (0.7229666113853455, 'infantry'),\n",
       " (0.7161368727684021, 'casey'),\n",
       " (0.7045037746429443, 'tour'),\n",
       " (0.6984030604362488, 'overseas'),\n",
       " (0.6965556740760803, 'thailand'),\n",
       " (0.6955015659332275, 'rvn'),\n",
       " (0.6785236597061157, '38th'),\n",
       " (0.676867663860321, 'engineers'),\n",
       " (0.6739294528961182, 'firefighting'),\n",
       " (0.6720244884490967, 'guam'),\n",
       " (0.6716691255569458, 'seoul'),\n",
       " (0.6705062985420227, 'country')]"
      ]
     },
     "execution_count": 62,
     "metadata": {},
     "output_type": "execute_result"
    }
   ],
   "source": [
    "model_1.get_nearest_neighbors('korea',20)"
   ]
  },
  {
   "cell_type": "code",
   "execution_count": 63,
   "id": "47d9d0aa",
   "metadata": {
    "collapsed": true
   },
   "outputs": [
    {
     "data": {
      "text/plain": [
       "[(0.6489488482475281, 'incur'),\n",
       " (0.618872344493866, 'diseased'),\n",
       " (0.6185226440429688, 'injury'),\n",
       " (0.5822979807853699, 'service'),\n",
       " (0.5441792011260986, 'disability'),\n",
       " (0.5377976298332214, 'aggravate'),\n",
       " (0.533419132232666, 'establish'),\n",
       " (0.5153861045837402, 'diseases'),\n",
       " (0.4957745373249054, 'condition'),\n",
       " (0.47748371958732605, 'established'),\n",
       " (0.4758523404598236, 'aggravation'),\n",
       " (0.4643342196941376, 'diagnose'),\n",
       " (0.46368667483329773, 'manifestation'),\n",
       " (0.4595898389816284, 'grant'),\n",
       " (0.4523635506629944, 'leukemias'),\n",
       " (0.44995802640914917, 'angioendotheliomatosis'),\n",
       " (0.449052095413208, 'arthritis'),\n",
       " (0.44705063104629517, 'clearcut'),\n",
       " (0.44596314430236816, 'manifest'),\n",
       " (0.4413725733757019, 'artherosclerosis')]"
      ]
     },
     "execution_count": 63,
     "metadata": {},
     "output_type": "execute_result"
    }
   ],
   "source": [
    "model_1.get_nearest_neighbors('disease',20)"
   ]
  },
  {
   "cell_type": "code",
   "execution_count": 64,
   "id": "e6985036",
   "metadata": {
    "collapsed": true
   },
   "outputs": [
    {
     "data": {
      "text/plain": [
       "[(0.6331168413162231, 'reinjury'),\n",
       " (0.6231255531311035, 'sustain'),\n",
       " (0.6185226440429688, 'disease'),\n",
       " (0.5897164940834045, 'disability'),\n",
       " (0.5824495553970337, 'injury(ie'),\n",
       " (0.5773167610168457, 'aggravate'),\n",
       " (0.5672973394393921, 'suffer'),\n",
       " (0.5578083992004395, 'incur'),\n",
       " (0.5475127100944519, 'service'),\n",
       " (0.5439328551292419, 'inservice'),\n",
       " (0.5436097979545593, 'aggravation'),\n",
       " (0.5383185744285583, 'crush'),\n",
       " (0.5255894660949707, \"service'-the\"),\n",
       " (0.5175805687904358, 'mva'),\n",
       " (0.5172773599624634, 'in-'),\n",
       " (0.5106347799301147, 'service\"-'),\n",
       " (0.5083968639373779, 'service\"--the'),\n",
       " (0.5056675672531128, 'avulsion'),\n",
       " (0.497504323720932, 'inccurrence'),\n",
       " (0.49427351355552673, 'service\"-the')]"
      ]
     },
     "execution_count": 64,
     "metadata": {},
     "output_type": "execute_result"
    }
   ],
   "source": [
    "model_1.get_nearest_neighbors('injury',20)"
   ]
  },
  {
   "cell_type": "code",
   "execution_count": 65,
   "id": "9fe4c86c",
   "metadata": {
    "collapsed": true
   },
   "outputs": [
    {
     "data": {
      "text/plain": [
       "[(0.5951398611068726, 'opinion'),\n",
       " (0.5646108388900757, 'lay'),\n",
       " (0.5636569261550903, 'record'),\n",
       " (0.5610337257385254, 'competent'),\n",
       " (0.5592198371887207, 'professional'),\n",
       " (0.5386662483215332, 'treatise'),\n",
       " (0.5365573763847351, 'evidence'),\n",
       " (0.530758798122406, 'inccurrence'),\n",
       " (0.5219876766204834, 'etiological'),\n",
       " (0.5157467126846313, 'lie'),\n",
       " (0.512498676776886, 'expertise'),\n",
       " (0.5077372193336487, 'nexus'),\n",
       " (0.496512770652771, 'probative'),\n",
       " (0.4891665279865265, 'nieves-'),\n",
       " (0.4859798550605774, 'diagnosis'),\n",
       " (0.48467543721199036, 'physician'),\n",
       " (0.48231443762779236, 'nonprobative'),\n",
       " (0.4755994975566864, 'private'),\n",
       " (0.474305659532547, 'proffer'),\n",
       " (0.4741598665714264, 'r.evid')]"
      ]
     },
     "execution_count": 65,
     "metadata": {},
     "output_type": "execute_result"
    }
   ],
   "source": [
    "model_1.get_nearest_neighbors('medical',20)"
   ]
  },
  {
   "cell_type": "code",
   "execution_count": 66,
   "id": "2dce32df",
   "metadata": {
    "collapsed": true
   },
   "outputs": [
    {
     "data": {
      "text/plain": [
       "[(0.7392866015434265, 'disability-'),\n",
       " (0.648181140422821, 'current'),\n",
       " (0.6086663007736206, 'connection'),\n",
       " (0.6058632135391235, 'service-'),\n",
       " (0.5988626480102539, 'connected'),\n",
       " (0.5897166132926941, 'injury'),\n",
       " (0.5866191983222961, 'service'),\n",
       " (0.5812058448791504, 'connect'),\n",
       " (0.5790224671363831, 'disorder'),\n",
       " (0.553720235824585, 'aggravation'),\n",
       " (0.544179379940033, 'disease'),\n",
       " (0.5416293740272522, 'nonservice-'),\n",
       " (0.5348824262619019, 'disorder(s'),\n",
       " (0.5307477712631226, 'established'),\n",
       " (0.5251157283782959, 'compensation'),\n",
       " (0.5185249447822571, 'establish'),\n",
       " (0.5170044898986816, 'disability(ie'),\n",
       " (0.51509690284729, 'disablement'),\n",
       " (0.499919593334198, 'nonservice'),\n",
       " (0.4744463562965393, 'currently-')]"
      ]
     },
     "execution_count": 66,
     "metadata": {},
     "output_type": "execute_result"
    }
   ],
   "source": [
    "model_1.get_nearest_neighbors('disability',20)"
   ]
  },
  {
   "cell_type": "code",
   "execution_count": 67,
   "id": "82c5cfe0",
   "metadata": {
    "collapsed": true
   },
   "outputs": [
    {
     "data": {
      "text/plain": [
       "[(0.7308458685874939, 'treatment'),\n",
       " (0.7118605971336365, 'str'),\n",
       " (0.6877104640007019, 'smr'),\n",
       " (0.6671508550643921, 'private'),\n",
       " (0.6085523366928101, 'document'),\n",
       " (0.6048831343650818, 'personnel'),\n",
       " (0.5948179960250854, 'available'),\n",
       " (0.5926284193992615, 'folder'),\n",
       " (0.5861116051673889, 'spr'),\n",
       " (0.5813270211219788, 'relevant'),\n",
       " (0.5812823176383972, 'outstanding'),\n",
       " (0.5787395238876343, 'loma'),\n",
       " (0.577276349067688, 'compile'),\n",
       " (0.5742077231407166, 'pmr'),\n",
       " (0.5724474191665649, 'obtain'),\n",
       " (0.5645878911018372, 'contain'),\n",
       " (0.5636568665504456, 'medical'),\n",
       " (0.5628746151924133, 'linda'),\n",
       " (0.5529988408088684, 'voluminous'),\n",
       " (0.5526275634765625, 'outpatient')]"
      ]
     },
     "execution_count": 67,
     "metadata": {},
     "output_type": "execute_result"
    }
   ],
   "source": [
    "model_1.get_nearest_neighbors('record',20)"
   ]
  },
  {
   "cell_type": "code",
   "execution_count": 68,
   "id": "1a553a67",
   "metadata": {
    "collapsed": true
   },
   "outputs": [
    {
     "data": {
      "text/plain": [
       "[(0.8279265761375427, 'retinopathy'),\n",
       " (0.8170487284660339, 'nephropathy'),\n",
       " (0.7681580185890198, 'diabetes'),\n",
       " (0.7515228390693665, 'insulin'),\n",
       " (0.7488563656806946, 'dm'),\n",
       " (0.7342378497123718, 'mellitus'),\n",
       " (0.7179155349731445, 'diabete'),\n",
       " (0.691027045249939, 'microvascular'),\n",
       " (0.6873170137405396, 'hyperglycemia'),\n",
       " (0.6858533024787903, 'microalbuminuria'),\n",
       " (0.6851164698600769, 'peripheral'),\n",
       " (0.6800626516342163, 'neuropathy'),\n",
       " (0.6761056184768677, 'nephrotic'),\n",
       " (0.668426513671875, 'neovascular'),\n",
       " (0.668342649936676, 'nonproliferative'),\n",
       " (0.6603558659553528, 'glaucoma'),\n",
       " (0.656173050403595, 'neovascularization'),\n",
       " (0.6544003486633301, 'pvd'),\n",
       " (0.6505539417266846, 'glaucomatous'),\n",
       " (0.6499841213226318, 'fasting')]"
      ]
     },
     "execution_count": 68,
     "metadata": {},
     "output_type": "execute_result"
    }
   ],
   "source": [
    "model_1.get_nearest_neighbors('diabetic',20)"
   ]
  },
  {
   "cell_type": "markdown",
   "id": "505853b6",
   "metadata": {
    "id": "505853b6"
   },
   "source": [
    "# Phase 5: Training Classifiers"
   ]
  },
  {
   "cell_type": "markdown",
   "id": "d522f8a7",
   "metadata": {
    "id": "d522f8a7"
   },
   "source": [
    "## Step 5.1 (TFIDF featurization):"
   ]
  },
  {
   "cell_type": "code",
   "execution_count": 11,
   "id": "d023f2fb",
   "metadata": {
    "executionInfo": {
     "elapsed": 197,
     "status": "ok",
     "timestamp": 1628722311489,
     "user": {
      "displayName": "Xinyue Zhang",
      "photoUrl": "https://lh3.googleusercontent.com/a-/AOh14GjHjtdv570uV9NRQl9hjKdqC83N2nypQc5tVc9usQ=s64",
      "userId": "13142209830906612426"
     },
     "user_tz": -120
    },
    "id": "d023f2fb"
   },
   "outputs": [],
   "source": [
    "# get all sentences assuming every annotation is a sentence\n",
    "def make_span_data(documents_by_id, types_by_id, annotations):\n",
    "    span_data = []\n",
    "    for a in annotations:\n",
    "        start = a['start']\n",
    "        end = a['end']\n",
    "        document_txt = documents_by_id[a['document']]['plainText']\n",
    "        atype = a['type']\n",
    "        sd = {'txt': document_txt[start:end],\n",
    "              'document': a['document'],\n",
    "              'type': types_by_id[atype]['name'],\n",
    "              'start': a['start'],\n",
    "              'start_normalized': a['start'] / len(document_txt),\n",
    "              'end': a['end']}\n",
    "        span_data.append(sd)\n",
    "    return span_data"
   ]
  },
  {
   "cell_type": "code",
   "execution_count": 12,
   "id": "484381e6",
   "metadata": {
    "executionInfo": {
     "elapsed": 219,
     "status": "ok",
     "timestamp": 1628727116303,
     "user": {
      "displayName": "Xinyue Zhang",
      "photoUrl": "https://lh3.googleusercontent.com/a-/AOh14GjHjtdv570uV9NRQl9hjKdqC83N2nypQc5tVc9usQ=s64",
      "userId": "13142209830906612426"
     },
     "user_tz": -120
    },
    "id": "484381e6"
   },
   "outputs": [],
   "source": [
    "train_spans = make_span_data(documents_by_id, types_by_id, annotations)\n",
    "dev_spans = make_span_data(dev_documents_by_id, dev_types_by_id, dev_annotations)\n",
    "test_spans = make_span_data(test_documents_by_id, test_types_by_id, test_annotations)"
   ]
  },
  {
   "cell_type": "code",
   "execution_count": 13,
   "id": "0be7d840",
   "metadata": {
    "executionInfo": {
     "elapsed": 4,
     "status": "ok",
     "timestamp": 1628722314237,
     "user": {
      "displayName": "Xinyue Zhang",
      "photoUrl": "https://lh3.googleusercontent.com/a-/AOh14GjHjtdv570uV9NRQl9hjKdqC83N2nypQc5tVc9usQ=s64",
      "userId": "13142209830906612426"
     },
     "user_tz": -120
    },
    "id": "0be7d840"
   },
   "outputs": [],
   "source": [
    "train_spans_labels = [s['type'] for s in train_spans]\n",
    "dev_spans_labels = [s['type'] for s in dev_spans]\n",
    "test_spans_labels = [s['type'] for s in test_spans]"
   ]
  },
  {
   "cell_type": "code",
   "execution_count": 14,
   "id": "72474771",
   "metadata": {
    "executionInfo": {
     "elapsed": 3,
     "status": "ok",
     "timestamp": 1628722315010,
     "user": {
      "displayName": "Xinyue Zhang",
      "photoUrl": "https://lh3.googleusercontent.com/a-/AOh14GjHjtdv570uV9NRQl9hjKdqC83N2nypQc5tVc9usQ=s64",
      "userId": "13142209830906612426"
     },
     "user_tz": -120
    },
    "id": "72474771"
   },
   "outputs": [],
   "source": [
    "train_spans_txt = [s['txt'] for s in train_spans]\n",
    "dev_spans_txt = [s['txt'] for s in dev_spans]\n",
    "test_spans_txt = [s['txt'] for s in test_spans]"
   ]
  },
  {
   "cell_type": "code",
   "execution_count": 15,
   "id": "8c1e21cf",
   "metadata": {
    "colab": {
     "base_uri": "https://localhost:8080/"
    },
    "executionInfo": {
     "elapsed": 5,
     "status": "ok",
     "timestamp": 1628722317755,
     "user": {
      "displayName": "Xinyue Zhang",
      "photoUrl": "https://lh3.googleusercontent.com/a-/AOh14GjHjtdv570uV9NRQl9hjKdqC83N2nypQc5tVc9usQ=s64",
      "userId": "13142209830906612426"
     },
     "user_tz": -120
    },
    "id": "8c1e21cf",
    "outputId": "df6499b5-62e9-49b3-ea12-d0e3aae3daec"
   },
   "outputs": [
    {
     "name": "stdout",
     "output_type": "stream",
     "text": [
      "train: 7528; dev: 849; test: 863\n"
     ]
    }
   ],
   "source": [
    "print(f'train: {len(train_spans)}; dev: {len(dev_spans)}; test: {len(test_spans)}')"
   ]
  },
  {
   "cell_type": "code",
   "execution_count": 16,
   "id": "FdkZwC7YeKoW",
   "metadata": {
    "executionInfo": {
     "elapsed": 225,
     "status": "ok",
     "timestamp": 1628727126992,
     "user": {
      "displayName": "Xinyue Zhang",
      "photoUrl": "https://lh3.googleusercontent.com/a-/AOh14GjHjtdv570uV9NRQl9hjKdqC83N2nypQc5tVc9usQ=s64",
      "userId": "13142209830906612426"
     },
     "user_tz": -120
    },
    "id": "FdkZwC7YeKoW"
   },
   "outputs": [],
   "source": [
    "def spacy_tokenize(txt):\n",
    "    doc = nlp(txt)\n",
    "    tokens = list(doc)\n",
    "    clean_tokens = []\n",
    "    for t in tokens:\n",
    "        if t.pos_ == 'PUNCT':\n",
    "            pass\n",
    "        elif t.lemma_ == \"§\" or t.lemma_ == \"[\" or t.lemma_ == \"]\" or t.lemma_ == \"-\" :\n",
    "            pass\n",
    "        elif t.pos_ == 'SPACE':\n",
    "            pass\n",
    "        elif t.pos_ == 'NUM':\n",
    "            clean_tokens.append(f'<NUM{len(t)}>')\n",
    "        else:\n",
    "            clean_tokens.append(t.lemma_.lower())\n",
    "    \n",
    "    return clean_tokens\n",
    "\n",
    "def tokenize_spans(spans):\n",
    "    for s in spans:\n",
    "        s['tokens_spacy'] = spacy_tokenize(s['txt'])"
   ]
  },
  {
   "cell_type": "code",
   "execution_count": 19,
   "id": "b0a43f7f",
   "metadata": {},
   "outputs": [],
   "source": [
    "nlp = spacy.load(\"en_core_web_sm\")\n",
    "# basic English pipeline provided by spacy\n",
    "nlp.disable_pipes('parser')\n",
    "nlp.tokenizer.add_special_case('post-traumatic', [{ORTH: 'post-traumatic'}])\n",
    "nlp.tokenizer.add_special_case('Dr.', [{ORTH: 'Dr.'}])\n",
    "nlp.tokenizer.add_special_case('Mr.', [{ORTH: 'Mr.'}])\n",
    "nlp.tokenizer.add_special_case('Jandreau v. Nicholson', [{ORTH: 'Jandreau v. Nicholson'}])\n",
    "nlp.tokenizer.add_special_case('x-ray', [{ORTH: 'x-ray'}])\n",
    "nlp.tokenizer.add_special_case('X-ray', [{ORTH: 'X-ray'}])\n",
    "nlp.tokenizer.add_special_case('X-Ray', [{ORTH: 'X-Ray'}])\n",
    "nlp.tokenizer.add_special_case('U.S.C.A.', [{ORTH: 'U.S.C.A.'}])\n",
    "nlp.tokenizer.add_special_case('Vet. App.', [{ORTH: 'Vet. App.'}])\n",
    "nlp.tokenizer.add_special_case('C.F.R.', [{ORTH: 'C.F.R.'}])\n",
    "nlp.tokenizer.add_special_case('Fed. Cir.', [{ORTH: 'Fed. Cir.'}])\n",
    "tokenize_spans(train_spans)\n",
    "tokenize_spans(dev_spans)\n",
    "tokenize_spans(test_spans)"
   ]
  },
  {
   "cell_type": "code",
   "execution_count": 20,
   "id": "e16af1e8",
   "metadata": {},
   "outputs": [],
   "source": [
    "spacy_tfidf_vectorizer = TfidfVectorizer(tokenizer=spacy_tokenize,\n",
    "                                         min_df=3,\n",
    "                                         ngram_range=(1,1))\n",
    "spacy_tfidf_vectorizer = spacy_tfidf_vectorizer.fit(train_spans_txt)\n",
    "tfidf_features_spacy = spacy_tfidf_vectorizer.get_feature_names()"
   ]
  },
  {
   "cell_type": "code",
   "execution_count": 21,
   "id": "05c8833f",
   "metadata": {},
   "outputs": [
    {
     "name": "stdout",
     "output_type": "stream",
     "text": [
      "(7528, 2406)\n",
      "(7528,)\n",
      "(7528, 1)\n",
      "(7528, 2407)\n"
     ]
    }
   ],
   "source": [
    "# numpy feature vector extension\n",
    "train_tfidf_spacy = spacy_tfidf_vectorizer.transform(train_spans_txt).toarray()\n",
    "print(train_tfidf_spacy.shape)\n",
    "train_starts_normalized = np.array([s['start_normalized'] for s in train_spans])\n",
    "print(train_starts_normalized.shape)\n",
    "print(np.expand_dims(train_starts_normalized, axis=1).shape)\n",
    "ext = np.concatenate((train_tfidf_spacy, \n",
    "                      np.expand_dims(train_starts_normalized, axis=1)), axis=1)\n",
    "print(ext.shape)"
   ]
  },
  {
   "cell_type": "markdown",
   "id": "6e3efd7d",
   "metadata": {},
   "source": [
    "## Step 5.2 (Word Embedding Featurization):"
   ]
  },
  {
   "cell_type": "code",
   "execution_count": 22,
   "id": "b7bd3924",
   "metadata": {},
   "outputs": [],
   "source": [
    "def make_tfidf_feature_vectors_and_labels(spans, vectorizer):\n",
    "    # function takes long to execute\n",
    "    # note: we un-sparse the matrix here to be able to manipulate it\n",
    "    tfidf = spacy_tfidf_vectorizer.transform([s['txt'] for s in spans]).toarray()\n",
    "    \n",
    "    starts_normalized = np.array([s['start_normalized'] for s in spans])\n",
    "    \n",
    "    \n",
    "    y = np.array([s['type'] for s in spans])\n",
    "    X = np.concatenate((tfidf, np.expand_dims(starts_normalized, axis=1)),  axis=1)\n",
    "    return X, y"
   ]
  },
  {
   "cell_type": "code",
   "execution_count": 36,
   "id": "5b64401d",
   "metadata": {},
   "outputs": [],
   "source": [
    "\n",
    "def make_embedding_feature_vectors_and_labels(spans,fasttext_model):\n",
    "        \n",
    "        tokens = [s['tokens_spacy'] for s in spans]\n",
    "        embedding = np.empty((len(spans),100), dtype='float32')\n",
    "        for index_i, i in enumerate(tokens):\n",
    "            for index_j, j in enumerate(i):\n",
    "                if index_j == 0:\n",
    "                    vector = fasttext_model.get_word_vector(j)\n",
    "                else:\n",
    "                    vector = vector + fasttext_model.get_word_vector(j)\n",
    "            if len(i) >= 1:\n",
    "                vector = vector/len(i)\n",
    "            vector = np.expand_dims(vector, axis=0)\n",
    "            embedding[index_i] = vector\n",
    "\n",
    "\n",
    "        starts_normalized = np.array([s['start_normalized'] for s in spans])\n",
    "\n",
    "        #normalized num_tokens\n",
    "        num_tokens = np.array([len(s['tokens_spacy']) for s in spans])\n",
    "        num_tokens = (num_tokens - np.mean(num_tokens))/(np.std(num_tokens)+1e-9)\n",
    "\n",
    "        \n",
    "        X = np.concatenate((embedding, np.expand_dims(starts_normalized, axis=1), np.expand_dims(num_tokens, axis=1)), axis=1)\n",
    "        return X"
   ]
  },
  {
   "cell_type": "code",
   "execution_count": 24,
   "id": "e456a1db",
   "metadata": {},
   "outputs": [],
   "source": [
    "tfidf_train_X, tfidf_train_y = make_tfidf_feature_vectors_and_labels(train_spans, spacy_tfidf_vectorizer)\n",
    "tfidf_dev_X, tfidf_dev_y = make_tfidf_feature_vectors_and_labels(dev_spans, spacy_tfidf_vectorizer)\n",
    "tfidf_test_X, tfidf_test_y = make_tfidf_feature_vectors_and_labels(test_spans, spacy_tfidf_vectorizer)"
   ]
  },
  {
   "cell_type": "code",
   "execution_count": 25,
   "id": "5e828350",
   "metadata": {},
   "outputs": [],
   "source": [
    "embedding_train_X, embedding_train_y = make_embedding_feature_vectors_and_labels(train_spans, spacy_tfidf_vectorizer)\n",
    "embedding_dev_X, embedding_dev_y = make_embedding_feature_vectors_and_labels(dev_spans, spacy_tfidf_vectorizer)\n",
    "embedding_test_X, embedding_test_y = make_embedding_feature_vectors_and_labels(test_spans, spacy_tfidf_vectorizer)"
   ]
  },
  {
   "cell_type": "code",
   "execution_count": 26,
   "id": "877244b7",
   "metadata": {},
   "outputs": [
    {
     "name": "stdout",
     "output_type": "stream",
     "text": [
      "(7528, 2407) (7528,)\n",
      "(849, 2407) (849,)\n",
      "(863, 2407) (863,)\n"
     ]
    }
   ],
   "source": [
    "print(f'{tfidf_train_X.shape} {tfidf_train_y.shape}')\n",
    "print(f'{tfidf_dev_X.shape} {tfidf_dev_y.shape}')\n",
    "print(f'{tfidf_test_X.shape} {tfidf_test_y.shape}')"
   ]
  },
  {
   "cell_type": "code",
   "execution_count": 27,
   "id": "b4cd80a5",
   "metadata": {},
   "outputs": [
    {
     "name": "stdout",
     "output_type": "stream",
     "text": [
      "(7528, 102) (7528,)\n",
      "(849, 102) (849,)\n",
      "(863, 102) (863,)\n"
     ]
    }
   ],
   "source": [
    "print(f'{embedding_train_X.shape} {embedding_train_y.shape}')\n",
    "print(f'{embedding_dev_X.shape} {embedding_dev_y.shape}')\n",
    "print(f'{embedding_test_X.shape} {embedding_test_y.shape}')"
   ]
  },
  {
   "cell_type": "markdown",
   "id": "74ba1350",
   "metadata": {},
   "source": [
    "## Step 5.3 (Model Training): "
   ]
  },
  {
   "cell_type": "markdown",
   "id": "0e056c47",
   "metadata": {},
   "source": [
    "## Linear model -- Logistic Regression\n",
    "### using TFIDF featurization"
   ]
  },
  {
   "cell_type": "code",
   "execution_count": 105,
   "id": "ddd3e3fd",
   "metadata": {
    "collapsed": true
   },
   "outputs": [],
   "source": [
    "from sklearn.linear_model import LogisticRegression "
   ]
  },
  {
   "cell_type": "code",
   "execution_count": 180,
   "id": "ec30f1b6",
   "metadata": {
    "collapsed": true
   },
   "outputs": [],
   "source": [
    "clf_LR_tfidf = LogisticRegression(class_weight='balanced', multi_class='multinomial', max_iter=200, n_jobs=-1)\n",
    "clf_LR_tfidf = clf_LR_tfidf.fit(tfidf_train_X, tfidf_train_y)"
   ]
  },
  {
   "cell_type": "code",
   "execution_count": 181,
   "id": "12430b56",
   "metadata": {
    "scrolled": true
   },
   "outputs": [
    {
     "name": "stdout",
     "output_type": "stream",
     "text": [
      "TRAIN:\n",
      "                                    precision    recall  f1-score   support\n",
      "\n",
      "                        CaseFooter       0.94      0.99      0.97        84\n",
      "                        CaseHeader       0.99      0.98      0.98        82\n",
      "                         CaseIssue       0.77      1.00      0.87        77\n",
      "                          Citation       0.97      0.97      0.97       993\n",
      "                   ConclusionOfLaw       0.67      0.95      0.78       168\n",
      "                          Evidence       0.92      0.81      0.86      2099\n",
      "EvidenceBased/Intermediate Finding       0.70      0.65      0.68       648\n",
      "            EvidenceBasedReasoning       0.54      0.67      0.60       553\n",
      "                            Header       0.98      0.97      0.98       716\n",
      "                       LegalPolicy       0.48      0.97      0.64        80\n",
      "                         LegalRule       0.88      0.79      0.84       851\n",
      "              PolicyBasedReasoning       0.38      1.00      0.56        20\n",
      "                         Procedure       0.90      0.91      0.91       807\n",
      "                RemandInstructions       0.81      0.93      0.87       350\n",
      "\n",
      "                          accuracy                           0.85      7528\n",
      "                         macro avg       0.78      0.90      0.82      7528\n",
      "                      weighted avg       0.86      0.85      0.85      7528\n",
      "\n",
      "DEV:\n",
      "                                    precision    recall  f1-score   support\n",
      "\n",
      "                        CaseFooter       1.00      1.00      1.00        11\n",
      "                        CaseHeader       1.00      0.90      0.95        10\n",
      "                         CaseIssue       0.90      1.00      0.95         9\n",
      "                          Citation       0.98      0.93      0.96       134\n",
      "                   ConclusionOfLaw       0.69      0.86      0.77        21\n",
      "                          Evidence       0.81      0.68      0.74       212\n",
      "EvidenceBased/Intermediate Finding       0.43      0.38      0.41        79\n",
      "            EvidenceBasedReasoning       0.34      0.48      0.40        66\n",
      "                            Header       0.99      0.96      0.97        76\n",
      "                       LegalPolicy       0.14      0.17      0.15        12\n",
      "                         LegalRule       0.75      0.75      0.75       108\n",
      "              PolicyBasedReasoning       0.00      0.00      0.00         1\n",
      "                         Procedure       0.82      0.90      0.86        83\n",
      "                RemandInstructions       0.77      0.89      0.83        27\n",
      "\n",
      "                          accuracy                           0.75       849\n",
      "                         macro avg       0.69      0.71      0.70       849\n",
      "                      weighted avg       0.77      0.75      0.75       849\n",
      "\n"
     ]
    }
   ],
   "source": [
    "print('TRAIN:\\n'+classification_report(train_spans_labels, clf_LR_tfidf.predict(tfidf_train_X)))\n",
    "print('DEV:\\n'+classification_report(dev_spans_labels, clf_LR_tfidf.predict(tfidf_dev_X)))"
   ]
  },
  {
   "cell_type": "code",
   "execution_count": 182,
   "id": "943c9528",
   "metadata": {
    "collapsed": true
   },
   "outputs": [
    {
     "data": {
      "image/png": "[encoded data removed]",
      "text/plain": [
       "<Figure size 576x576 with 2 Axes>"
      ]
     },
     "metadata": {
      "needs_background": "light"
     },
     "output_type": "display_data"
    }
   ],
   "source": [
    "plot_confusion_matrix(dev_spans_labels, clf_LR_tfidf.predict(tfidf_dev_X), classes=list(clf_LR_tfidf.classes_),\n",
    "                      title='Confusion matrix for dev data')\n",
    "plt.show()"
   ]
  },
  {
   "cell_type": "code",
   "execution_count": 197,
   "id": "a7d2b371",
   "metadata": {
    "collapsed": true
   },
   "outputs": [],
   "source": [
    "def prediction_errors(clf, eval_spans, vectorizer, \n",
    "                      select_true_label=None, \n",
    "                      select_pred_label=None):\n",
    "    eval_X, eval_y = make_tfidf_feature_vectors_and_labels(eval_spans, vectorizer)\n",
    "    eval_spans_txt = [s['txt'] for s in eval_spans]\n",
    "    eval_spans_labels = [s['type'] for s in eval_spans]\n",
    "    pred_y = clf.predict(eval_X)\n",
    "    for i in range(len(eval_spans)):\n",
    "        true_label = eval_spans_labels[i]\n",
    "        pred_label = pred_y[i]\n",
    "        if true_label != pred_label:\n",
    "            if select_true_label and true_label != select_true_label: continue\n",
    "            if select_pred_label and pred_label != select_pred_label: continue\n",
    "            doc_name = dev_documents_by_id[eval_spans[i]['document']]['name']\n",
    "            print('sentence # '+str(i)+' / case '+doc_name+' / @'+str(eval_spans[i]['start']))\n",
    "            print('pred: '+pred_label+' / true: '+true_label)\n",
    "            print(eval_spans[i]['txt'])\n",
    "            print()"
   ]
  },
  {
   "cell_type": "code",
   "execution_count": 199,
   "id": "39b4ab6e",
   "metadata": {
    "collapsed": true
   },
   "outputs": [
    {
     "name": "stdout",
     "output_type": "stream",
     "text": [
      "sentence # 25 / case 1203065.txt / @24958\n",
      "pred: EvidenceBasedReasoning / true: EvidenceBased/Intermediate Finding\n",
      "The Board recognizes that the Veteran can attest to factual matters of which he had first-hand knowledge. \n",
      "\n",
      "sentence # 31 / case 1205178.txt / @7906\n",
      "pred: EvidenceBasedReasoning / true: Evidence\n",
      "The Veteran has not made the RO or the Board aware of any additional evidence that needs to be obtained in order to fairly decide his claim\n",
      "\n",
      "sentence # 33 / case 0601461.txt / @10321\n",
      "pred: EvidenceBasedReasoning / true: EvidenceBased/Intermediate Finding\n",
      "According to the Veterans \r\n",
      "Benefits Administration, despite the lack of any scientific \r\n",
      "evidence to document transmission of HCV with air gun \r\n",
      "injectors, it is biologically plausible.  \n",
      "\n",
      "sentence # 46 / case 1418226.txt / @4454\n",
      "pred: EvidenceBasedReasoning / true: Evidence\n",
      "This report includes a review of studies addressing exposure to TCE, and Tetrachloroethylene or PCE, as well as a mixture of the two, and a discussion of disease manifestations potentially associated with such exposure.\n",
      "\n",
      "sentence # 60 / case 1100174.txt / @8689\n",
      "pred: EvidenceBasedReasoning / true: Evidence\n",
      "One examiner determined that the \r\n",
      "question of etiology could not be determined without resort to \r\n",
      "speculation and the other determined that it was less likely than \r\n",
      "not that the Veteran's current lower back disorder is related to \r\n",
      "his military service.\n",
      "\n",
      "sentence # 78 / case 1205178.txt / @19454\n",
      "pred: EvidenceBasedReasoning / true: Evidence\n",
      "Although the Veteran is competent to report in-service acoustic trauma, he is not competent to render a probative (persuasive) opinion on a medical matter. \n",
      "\n",
      "sentence # 79 / case 1203065.txt / @15914\n",
      "pred: EvidenceBasedReasoning / true: Evidence\n",
      "The examiner did not think that the diagnosis of multiple sclerosis was related to any virus syndrome that the Veteran suffered while in the service.\n",
      "\n",
      "sentence # 84 / case 0601461.txt / @9671\n",
      "pred: EvidenceBasedReasoning / true: Evidence\n",
      "His past surgical history has \r\n",
      "been listed as only a tonsillectomy - a procedure that would \r\n",
      "not ordinarily involve a blood transfusion, and there is no \r\n",
      "indication that it did.  \n",
      "\n",
      "sentence # 95 / case 0601461.txt / @10081\n",
      "pred: EvidenceBasedReasoning / true: EvidenceBased/Intermediate Finding\n",
      "Again, then, there is no evidence \r\n",
      "contradicting the veteran's denial of these risk factors.\n",
      "\n",
      "sentence # 97 / case 0824445.txt / @5468\n",
      "pred: EvidenceBasedReasoning / true: Evidence\n",
      "Service personnel records \r\n",
      "indicate the veteran served in the United States Navy, aboard \r\n",
      "the USS Warwick (AKA-89) as a Fireman.   \n",
      "\n"
     ]
    }
   ],
   "source": [
    "prediction_errors(clf_LR_tfidf,\n",
    "                  random.sample(dev_spans, 100),\n",
    "                  spacy_tfidf_vectorizer,\n",
    "                  select_pred_label='EvidenceBasedReasoning')"
   ]
  },
  {
   "cell_type": "markdown",
   "id": "d95d2343",
   "metadata": {},
   "source": [
    "## Linear model -- Logistic Regression\n",
    "### using embedding featurization"
   ]
  },
  {
   "cell_type": "code",
   "execution_count": 225,
   "id": "f095d606",
   "metadata": {
    "collapsed": true
   },
   "outputs": [],
   "source": [
    "clf_LR_embedding = LogisticRegression(class_weight='balanced', multi_class='multinomial', max_iter=200, n_jobs=-1)\n",
    "clf_LR_embedding = clf_LR_embedding.fit(embedding_train_X, embedding_train_y)"
   ]
  },
  {
   "cell_type": "code",
   "execution_count": 226,
   "id": "1888eb4f",
   "metadata": {
    "collapsed": true
   },
   "outputs": [
    {
     "name": "stdout",
     "output_type": "stream",
     "text": [
      "TRAIN:\n",
      "                                    precision    recall  f1-score   support\n",
      "\n",
      "                        CaseFooter       0.94      0.99      0.97        84\n",
      "                        CaseHeader       0.99      0.98      0.98        82\n",
      "                         CaseIssue       0.74      0.99      0.84        77\n",
      "                          Citation       0.98      0.95      0.96       993\n",
      "                   ConclusionOfLaw       0.61      0.87      0.72       168\n",
      "                          Evidence       0.90      0.74      0.81      2099\n",
      "EvidenceBased/Intermediate Finding       0.54      0.45      0.49       648\n",
      "            EvidenceBasedReasoning       0.36      0.45      0.40       553\n",
      "                            Header       0.98      0.97      0.98       716\n",
      "                       LegalPolicy       0.27      0.78      0.40        80\n",
      "                         LegalRule       0.82      0.66      0.73       851\n",
      "              PolicyBasedReasoning       0.11      1.00      0.19        20\n",
      "                         Procedure       0.87      0.89      0.88       807\n",
      "                RemandInstructions       0.66      0.85      0.75       350\n",
      "\n",
      "                          accuracy                           0.77      7528\n",
      "                         macro avg       0.70      0.83      0.72      7528\n",
      "                      weighted avg       0.81      0.77      0.78      7528\n",
      "\n",
      "DEV:\n",
      "                                    precision    recall  f1-score   support\n",
      "\n",
      "                        CaseFooter       1.00      1.00      1.00        11\n",
      "                        CaseHeader       1.00      0.90      0.95        10\n",
      "                         CaseIssue       0.75      1.00      0.86         9\n",
      "                          Citation       0.99      0.91      0.95       134\n",
      "                   ConclusionOfLaw       0.68      0.81      0.74        21\n",
      "                          Evidence       0.86      0.70      0.77       212\n",
      "EvidenceBased/Intermediate Finding       0.39      0.39      0.39        79\n",
      "            EvidenceBasedReasoning       0.39      0.53      0.45        66\n",
      "                            Header       0.99      0.96      0.97        76\n",
      "                       LegalPolicy       0.20      0.33      0.25        12\n",
      "                         LegalRule       0.86      0.74      0.80       108\n",
      "              PolicyBasedReasoning       0.05      1.00      0.09         1\n",
      "                         Procedure       0.86      0.92      0.89        83\n",
      "                RemandInstructions       0.80      0.89      0.84        27\n",
      "\n",
      "                          accuracy                           0.76       849\n",
      "                         macro avg       0.70      0.79      0.71       849\n",
      "                      weighted avg       0.80      0.76      0.77       849\n",
      "\n"
     ]
    }
   ],
   "source": [
    "print('TRAIN:\\n'+classification_report(train_spans_labels, clf_LR_embedding.predict(embedding_train_X)))\n",
    "print('DEV:\\n'+classification_report(dev_spans_labels, clf_LR_embedding.predict(embedding_dev_X)))"
   ]
  },
  {
   "cell_type": "code",
   "execution_count": 166,
   "id": "cdfd5280",
   "metadata": {
    "collapsed": true
   },
   "outputs": [
    {
     "data": {
      "image/png": "[encoded data removed]",
      "text/plain": [
       "<Figure size 576x576 with 2 Axes>"
      ]
     },
     "metadata": {
      "needs_background": "light"
     },
     "output_type": "display_data"
    }
   ],
   "source": [
    "plot_confusion_matrix(train_spans_labels, clf_LR_embedding.predict(embedding_train_X), classes=list(clf_LR_embedding.classes_),\n",
    "                      title='Confusion matrix for train data using Embedding featurization')\n",
    "plt.show()"
   ]
  },
  {
   "cell_type": "code",
   "execution_count": 442,
   "id": "75f3dac9",
   "metadata": {
    "collapsed": true
   },
   "outputs": [
    {
     "name": "stdout",
     "output_type": "stream",
     "text": [
      "sentence # 7 / case 0617470.txt / @2753\n",
      "pred: Evidence / true: LegalRule\n",
      "The veteran's service medical records, VA medical treatment \r\n",
      "records, and identified private medical records have been \r\n",
      "obtained to the extent available. \n",
      "\n",
      "sentence # 39 / case 1428531.txt / @24115\n",
      "pred: Evidence / true: EvidenceBasedReasoning\n",
      "The Veteran reported that his primary complaint was \"too much free time\" since retiring.  \n",
      "\n",
      "sentence # 43 / case 1118746.txt / @6319\n",
      "pred: Evidence / true: EvidenceBasedReasoning\n",
      "The Veteran's private treatment records include records from a private physician, A.F., M.D., indicating that insomnia is among the Veteran's active and ongoing problems. \n",
      "\n",
      "sentence # 84 / case 1428531.txt / @24648\n",
      "pred: Evidence / true: EvidenceBasedReasoning\n",
      "The Veteran indicated that he was treated with Prozac after his father died in 1998 and he reported thoughts of suicide after his friend died. \n",
      "\n",
      "sentence # 91 / case 0916473.txt / @11404\n",
      "pred: Evidence / true: EvidenceBasedReasoning\n",
      "The service treatment records reveal that in November 1966 \r\n",
      "the Veteran was treated for contact dermatitis in the left \r\n",
      "wrist area, and that in May 1967 and March 1968 he was \r\n",
      "treated for a ringworm infection in the genital area.\n",
      "\n"
     ]
    }
   ],
   "source": [
    "prediction_errors(clf,\n",
    "                  random.sample(train_spans, 100),\n",
    "                  spacy_tfidf_vectorizer,\n",
    "                  select_pred_label='Evidence')"
   ]
  },
  {
   "cell_type": "markdown",
   "id": "ddff37f7",
   "metadata": {},
   "source": [
    "## nonlinear model -- RandomForests\n",
    "\n",
    "### using embedding featurization"
   ]
  },
  {
   "cell_type": "markdown",
   "id": "ccef4b3a",
   "metadata": {},
   "source": [
    "## Random Search"
   ]
  },
  {
   "cell_type": "code",
   "execution_count": 33,
   "id": "fe17a311",
   "metadata": {},
   "outputs": [
    {
     "name": "stdout",
     "output_type": "stream",
     "text": [
      "{'bootstrap': [True, False],\n",
      " 'max_depth': [8, 9, 10, 11, 12, 13, 14, 15, 16, 18],\n",
      " 'n_estimators': [80,\n",
      "                  82,\n",
      "                  84,\n",
      "                  86,\n",
      "                  88,\n",
      "                  90,\n",
      "                  92,\n",
      "                  94,\n",
      "                  96,\n",
      "                  98,\n",
      "                  100,\n",
      "                  102,\n",
      "                  104,\n",
      "                  106,\n",
      "                  108,\n",
      "                  111,\n",
      "                  113,\n",
      "                  115,\n",
      "                  117,\n",
      "                  119,\n",
      "                  121,\n",
      "                  123,\n",
      "                  125,\n",
      "                  127,\n",
      "                  129,\n",
      "                  131,\n",
      "                  133,\n",
      "                  135,\n",
      "                  137,\n",
      "                  140]}\n"
     ]
    }
   ],
   "source": [
    "n_estimators = [int(x) for x in np.linspace(start = 80, stop = 140, num = 30)]\n",
    "\n",
    "#max_features = ['auto', 'sqrt', 'None']\n",
    "\n",
    "max_depth = [int(x) for x in np.linspace(8, 18, num = 10)]\n",
    "\n",
    "\n",
    "bootstrap = [True, False]\n",
    "\n",
    "\n",
    "random_grid = {'n_estimators': n_estimators,\n",
    "               #'max_features': max_features,\n",
    "               'max_depth': max_depth,\n",
    "               #'min_samples_split': min_samples_split,\n",
    "               #'min_samples_leaf': min_samples_leaf,\n",
    "               'bootstrap': bootstrap\n",
    "              }\n",
    "pprint(random_grid)\n"
   ]
  },
  {
   "cell_type": "code",
   "execution_count": 151,
   "id": "1a163f51",
   "metadata": {
    "collapsed": true
   },
   "outputs": [
    {
     "name": "stdout",
     "output_type": "stream",
     "text": [
      "Fitting 10 folds for each of 20 candidates, totalling 200 fits\n"
     ]
    },
    {
     "data": {
      "text/plain": [
       "RandomizedSearchCV(cv=10, estimator=RandomForestClassifier(), n_iter=20,\n",
       "                   n_jobs=-1,\n",
       "                   param_distributions={'max_depth': [8, 8, 9, 10, 11, 11, 12,\n",
       "                                                      13, 14, 15],\n",
       "                                        'n_estimators': [80, 86, 92, 98, 105,\n",
       "                                                         111, 117, 124, 130,\n",
       "                                                         136, 143, 149, 155,\n",
       "                                                         162, 168, 174, 181,\n",
       "                                                         187, 193, 200]},\n",
       "                   random_state=42, scoring='f1_macro', verbose=2)"
      ]
     },
     "execution_count": 151,
     "metadata": {},
     "output_type": "execute_result"
    }
   ],
   "source": [
    "rf = RandomForestClassifier()\n",
    "rf_random = RandomizedSearchCV(estimator = rf, param_distributions = random_grid, n_iter = 20, cv = 10, verbose=2, random_state=42, n_jobs = -1, scoring='f1_macro')\n",
    "# Fit the random search model\n",
    "rf_random.fit(embedding_train_X, embedding_train_y)"
   ]
  },
  {
   "cell_type": "code",
   "execution_count": 215,
   "id": "cc9ac88c",
   "metadata": {
    "collapsed": true
   },
   "outputs": [
    {
     "name": "stdout",
     "output_type": "stream",
     "text": [
      "Fitting 5 folds for each of 600 candidates, totalling 3000 fits\n",
      "[CV] END .....................max_depth=11, n_estimators=174; total time=  11.9s\n",
      "[CV] END ......................max_depth=8, n_estimators=174; total time=   8.7s\n",
      "[CV] END ......................max_depth=8, n_estimators=174; total time=   9.7s\n",
      "[CV] END ......................max_depth=8, n_estimators=143; total time=   8.8s\n",
      "[CV] END .....................max_depth=13, n_estimators=193; total time=  14.6s\n",
      "[CV] END .....................max_depth=12, n_estimators=130; total time=  10.0s\n",
      "[CV] END .....................max_depth=11, n_estimators=174; total time=  11.0s\n",
      "[CV] END .....................max_depth=10, n_estimators=136; total time=  10.4s\n",
      "[CV] END .....................max_depth=10, n_estimators=136; total time=   9.4s\n",
      "[CV] END .....................max_depth=14, n_estimators=143; total time=  11.2s\n",
      "[CV] END .....................max_depth=14, n_estimators=168; total time=  12.8s\n",
      "[CV] END ......................max_depth=9, n_estimators=111; total time=   7.3s\n",
      "[CV] END ......................max_depth=9, n_estimators=111; total time=   7.2s\n",
      "[CV] END .....................max_depth=10, n_estimators=117; total time=   8.8s\n",
      "[CV] END ......................max_depth=15, n_estimators=92; total time=   9.0s\n",
      "[CV] END ......................max_depth=15, n_estimators=92; total time=   7.7s\n",
      "[CV] END .....................max_depth=14, n_estimators=111; total time=   8.1s\n",
      "[CV] END .....................max_depth=10, n_estimators=193; total time=  12.7s\n",
      "[CV] END .....................max_depth=15, n_estimators=117; total time=  10.1s\n",
      "[CV] END .....................max_depth=14, n_estimators=187; total time=  14.7s\n",
      "[CV] END .....................max_depth=14, n_estimators=187; total time=  16.4s\n",
      "[CV] END ......................max_depth=9, n_estimators=181; total time=  10.6s\n",
      "[CV] END .....................max_depth=13, n_estimators=155; total time=  11.5s\n",
      "[CV] END ......................max_depth=11, n_estimators=92; total time=   7.4s\n",
      "[CV] END .....................max_depth=10, n_estimators=130; total time=   9.9s\n",
      "[CV] END .......bootstrap=True, max_depth=8, n_estimators=80; total time=   4.4s\n",
      "[CV] END .......bootstrap=True, max_depth=8, n_estimators=84; total time=   3.5s\n",
      "[CV] END .......bootstrap=True, max_depth=8, n_estimators=88; total time=   4.0s\n",
      "[CV] END .......bootstrap=True, max_depth=8, n_estimators=90; total time=   4.2s\n",
      "[CV] END .......bootstrap=True, max_depth=8, n_estimators=94; total time=   4.1s\n",
      "[CV] END .......bootstrap=True, max_depth=8, n_estimators=96; total time=   4.7s\n",
      "[CV] END ......bootstrap=True, max_depth=8, n_estimators=100; total time=   5.1s\n",
      "[CV] END ......bootstrap=True, max_depth=8, n_estimators=102; total time=   4.8s\n",
      "[CV] END ......bootstrap=True, max_depth=8, n_estimators=106; total time=   5.0s\n",
      "[CV] END ......bootstrap=True, max_depth=8, n_estimators=111; total time=   4.7s\n",
      "[CV] END ......bootstrap=True, max_depth=8, n_estimators=113; total time=   5.5s\n",
      "[CV] END ......bootstrap=True, max_depth=8, n_estimators=117; total time=   6.6s\n",
      "[CV] END ......bootstrap=True, max_depth=8, n_estimators=119; total time=   6.1s\n",
      "[CV] END ......bootstrap=True, max_depth=8, n_estimators=123; total time=   6.9s\n",
      "[CV] END ......bootstrap=True, max_depth=8, n_estimators=127; total time=   7.2s\n",
      "[CV] END ......bootstrap=True, max_depth=8, n_estimators=129; total time=   7.2s\n",
      "[CV] END ......bootstrap=True, max_depth=8, n_estimators=133; total time=   7.5s\n",
      "[CV] END ......bootstrap=True, max_depth=8, n_estimators=135; total time=   7.4s\n",
      "[CV] END ......bootstrap=True, max_depth=8, n_estimators=140; total time=   7.7s\n",
      "[CV] END .......bootstrap=True, max_depth=9, n_estimators=82; total time=   4.9s\n",
      "[CV] END .......bootstrap=True, max_depth=9, n_estimators=86; total time=   5.3s\n",
      "[CV] END .......bootstrap=True, max_depth=9, n_estimators=88; total time=   5.3s\n",
      "[CV] END .......bootstrap=True, max_depth=9, n_estimators=92; total time=   5.4s\n",
      "[CV] END .......bootstrap=True, max_depth=9, n_estimators=94; total time=   4.5s\n",
      "[CV] END .......bootstrap=True, max_depth=9, n_estimators=98; total time=   5.3s\n",
      "[CV] END ......bootstrap=True, max_depth=9, n_estimators=102; total time=   5.1s\n",
      "[CV] END ......bootstrap=True, max_depth=9, n_estimators=104; total time=   5.1s\n",
      "[CV] END ......bootstrap=True, max_depth=9, n_estimators=108; total time=   5.9s\n",
      "[CV] END ......bootstrap=True, max_depth=9, n_estimators=111; total time=   6.8s\n",
      "[CV] END ......bootstrap=True, max_depth=9, n_estimators=115; total time=   6.8s\n",
      "[CV] END ......bootstrap=True, max_depth=9, n_estimators=119; total time=   6.8s\n",
      "[CV] END ......bootstrap=True, max_depth=9, n_estimators=121; total time=   6.6s\n",
      "[CV] END ......bootstrap=True, max_depth=9, n_estimators=125; total time=   6.9s\n",
      "[CV] END ......bootstrap=True, max_depth=9, n_estimators=127; total time=   6.2s\n",
      "[CV] END ......bootstrap=True, max_depth=9, n_estimators=131; total time=   7.4s\n",
      "[CV] END ......bootstrap=True, max_depth=9, n_estimators=135; total time=   7.2s\n",
      "[CV] END ......bootstrap=True, max_depth=9, n_estimators=137; total time=   6.6s\n",
      "[CV] END ......bootstrap=True, max_depth=10, n_estimators=80; total time=   4.1s\n",
      "[CV] END ......bootstrap=True, max_depth=10, n_estimators=82; total time=   4.2s\n",
      "[CV] END ......bootstrap=True, max_depth=10, n_estimators=84; total time=   5.5s\n",
      "[CV] END ......bootstrap=True, max_depth=10, n_estimators=88; total time=   5.3s\n",
      "[CV] END ......bootstrap=True, max_depth=10, n_estimators=92; total time=   4.8s\n",
      "[CV] END ......bootstrap=True, max_depth=10, n_estimators=94; total time=   4.8s\n",
      "[CV] END ......bootstrap=True, max_depth=10, n_estimators=98; total time=   5.1s\n",
      "[CV] END .....bootstrap=True, max_depth=10, n_estimators=100; total time=   6.2s\n",
      "[CV] END .....bootstrap=True, max_depth=10, n_estimators=104; total time=   6.9s\n",
      "[CV] END .....bootstrap=True, max_depth=10, n_estimators=108; total time=   7.5s\n",
      "[CV] END .....bootstrap=True, max_depth=10, n_estimators=111; total time=   7.6s\n",
      "[CV] END .....bootstrap=True, max_depth=10, n_estimators=115; total time=   7.6s\n",
      "[CV] END .....bootstrap=True, max_depth=10, n_estimators=117; total time=   6.0s\n",
      "[CV] END .....bootstrap=True, max_depth=10, n_estimators=121; total time=   7.2s\n",
      "[CV] END .....bootstrap=True, max_depth=10, n_estimators=125; total time=   8.2s\n",
      "[CV] END .....bootstrap=True, max_depth=10, n_estimators=127; total time=   9.3s\n",
      "[CV] END .....bootstrap=True, max_depth=10, n_estimators=131; total time=   8.8s\n",
      "[CV] END .....bootstrap=True, max_depth=10, n_estimators=133; total time=   9.3s\n",
      "[CV] END .....bootstrap=True, max_depth=10, n_estimators=137; total time=   8.8s\n",
      "[CV] END ......bootstrap=True, max_depth=11, n_estimators=80; total time=   5.3s\n",
      "[CV] END ......bootstrap=True, max_depth=11, n_estimators=82; total time=   5.9s\n",
      "[CV] END ......bootstrap=True, max_depth=11, n_estimators=84; total time=   6.6s\n",
      "[CV] END ......bootstrap=True, max_depth=11, n_estimators=88; total time=   6.2s\n",
      "[CV] END ......bootstrap=True, max_depth=11, n_estimators=92; total time=   7.0s\n",
      "[CV] END ......bootstrap=True, max_depth=11, n_estimators=94; total time=   8.2s\n",
      "[CV] END ......bootstrap=True, max_depth=11, n_estimators=98; total time=   7.9s\n",
      "[CV] END .....bootstrap=True, max_depth=11, n_estimators=100; total time=   7.8s\n",
      "[CV] END .....bootstrap=True, max_depth=11, n_estimators=104; total time=   7.0s\n",
      "[CV] END .....bootstrap=True, max_depth=11, n_estimators=108; total time=   7.3s\n",
      "[CV] END .....bootstrap=True, max_depth=11, n_estimators=111; total time=   7.9s\n",
      "[CV] END .....bootstrap=True, max_depth=11, n_estimators=115; total time=   7.5s\n",
      "[CV] END .....bootstrap=True, max_depth=11, n_estimators=117; total time=   7.3s\n",
      "[CV] END .....bootstrap=True, max_depth=11, n_estimators=121; total time=   8.6s\n",
      "[CV] END .....bootstrap=True, max_depth=11, n_estimators=125; total time=  10.1s\n",
      "[CV] END .....bootstrap=True, max_depth=11, n_estimators=127; total time=   7.1s\n",
      "[CV] END .....bootstrap=True, max_depth=11, n_estimators=131; total time=   8.4s\n",
      "[CV] END .....bootstrap=True, max_depth=11, n_estimators=133; total time=   8.7s\n",
      "[CV] END .....bootstrap=True, max_depth=11, n_estimators=137; total time=   9.1s\n",
      "[CV] END ......bootstrap=True, max_depth=12, n_estimators=80; total time=   5.8s\n",
      "[CV] END ......bootstrap=True, max_depth=12, n_estimators=82; total time=   6.6s\n",
      "[CV] END ......bootstrap=True, max_depth=12, n_estimators=84; total time=   6.5s\n",
      "[CV] END ......bootstrap=True, max_depth=12, n_estimators=88; total time=   6.8s\n",
      "[CV] END ......bootstrap=True, max_depth=12, n_estimators=90; total time=   6.6s\n",
      "[CV] END ......bootstrap=True, max_depth=12, n_estimators=94; total time=   7.5s\n",
      "[CV] END ......bootstrap=True, max_depth=12, n_estimators=98; total time=   6.7s\n",
      "[CV] END .....bootstrap=True, max_depth=12, n_estimators=100; total time=   8.0s\n",
      "[CV] END .....bootstrap=True, max_depth=12, n_estimators=104; total time=   7.0s\n",
      "[CV] END .....bootstrap=True, max_depth=12, n_estimators=106; total time=   6.1s\n",
      "[CV] END .....bootstrap=True, max_depth=12, n_estimators=111; total time=   6.4s\n",
      "[CV] END .....bootstrap=True, max_depth=12, n_estimators=115; total time=   8.3s\n",
      "[CV] END .....bootstrap=True, max_depth=12, n_estimators=117; total time=   8.2s\n",
      "[CV] END .....bootstrap=True, max_depth=12, n_estimators=121; total time=   7.3s\n",
      "[CV] END .....bootstrap=True, max_depth=12, n_estimators=123; total time=   8.0s\n",
      "[CV] END .....bootstrap=True, max_depth=12, n_estimators=127; total time=   9.5s\n",
      "[CV] END .....bootstrap=True, max_depth=12, n_estimators=131; total time=   8.7s\n",
      "[CV] END .....bootstrap=True, max_depth=12, n_estimators=133; total time=   8.2s\n",
      "[CV] END .....bootstrap=True, max_depth=12, n_estimators=137; total time=   8.7s\n",
      "[CV] END .....bootstrap=True, max_depth=12, n_estimators=140; total time=  11.0s\n",
      "[CV] END ......bootstrap=True, max_depth=13, n_estimators=84; total time=   6.6s\n",
      "[CV] END ......bootstrap=True, max_depth=13, n_estimators=86; total time=   7.8s\n",
      "[CV] END ......bootstrap=True, max_depth=13, n_estimators=90; total time=   7.3s\n",
      "[CV] END ......bootstrap=True, max_depth=13, n_estimators=92; total time=   6.7s\n",
      "[CV] END ......bootstrap=True, max_depth=13, n_estimators=96; total time=   7.1s\n",
      "[CV] END .....bootstrap=True, max_depth=13, n_estimators=100; total time=   8.2s\n",
      "[CV] END .....bootstrap=True, max_depth=13, n_estimators=102; total time=   8.1s\n",
      "[CV] END .....bootstrap=True, max_depth=13, n_estimators=106; total time=   8.3s\n",
      "[CV] END .....bootstrap=True, max_depth=13, n_estimators=108; total time=   8.2s\n",
      "[CV] END .....bootstrap=True, max_depth=13, n_estimators=113; total time=   7.5s\n",
      "[CV] END .....bootstrap=True, max_depth=13, n_estimators=117; total time=   9.2s\n",
      "[CV] END .....bootstrap=True, max_depth=13, n_estimators=119; total time=   8.8s\n",
      "[CV] END .....bootstrap=True, max_depth=13, n_estimators=123; total time=   8.0s\n",
      "[CV] END .....bootstrap=True, max_depth=13, n_estimators=125; total time=   7.9s\n",
      "[CV] END .....bootstrap=True, max_depth=13, n_estimators=129; total time=   8.4s\n",
      "[CV] END .....bootstrap=True, max_depth=13, n_estimators=133; total time=   9.6s\n",
      "[CV] END .....bootstrap=True, max_depth=13, n_estimators=135; total time=  10.6s\n",
      "[CV] END .....bootstrap=True, max_depth=13, n_estimators=140; total time=   8.6s\n",
      "[CV] END ......bootstrap=True, max_depth=14, n_estimators=80; total time=   5.8s\n",
      "[CV] END ......bootstrap=True, max_depth=14, n_estimators=84; total time=   5.9s\n",
      "[CV] END ......bootstrap=True, max_depth=14, n_estimators=88; total time=   5.6s\n",
      "[CV] END ......bootstrap=True, max_depth=14, n_estimators=90; total time=   6.7s\n",
      "[CV] END ......bootstrap=True, max_depth=14, n_estimators=94; total time=   7.1s\n",
      "[CV] END ......bootstrap=True, max_depth=14, n_estimators=96; total time=   8.1s\n",
      "[CV] END .....bootstrap=True, max_depth=14, n_estimators=100; total time=   8.9s\n",
      "[CV] END .....bootstrap=True, max_depth=14, n_estimators=104; total time=   6.7s\n",
      "[CV] END .....bootstrap=True, max_depth=14, n_estimators=106; total time=   8.5s\n",
      "[CV] END .....bootstrap=True, max_depth=14, n_estimators=111; total time=   8.6s\n",
      "[CV] END .....bootstrap=True, max_depth=14, n_estimators=113; total time=   8.9s\n",
      "[CV] END .....bootstrap=True, max_depth=14, n_estimators=117; total time=   9.5s\n",
      "[CV] END .....bootstrap=True, max_depth=14, n_estimators=121; total time=   9.4s\n",
      "[CV] END .....bootstrap=True, max_depth=14, n_estimators=123; total time=   8.1s\n",
      "[CV] END .....bootstrap=True, max_depth=14, n_estimators=127; total time=   8.4s\n",
      "[CV] END .....bootstrap=True, max_depth=14, n_estimators=129; total time=   8.3s\n",
      "[CV] END .....bootstrap=True, max_depth=14, n_estimators=133; total time=   8.6s\n",
      "[CV] END .....bootstrap=True, max_depth=14, n_estimators=137; total time=   8.8s\n",
      "[CV] END .....bootstrap=True, max_depth=14, n_estimators=140; total time=   9.2s\n",
      "[CV] END ......bootstrap=True, max_depth=15, n_estimators=82; total time=   6.8s\n",
      "[CV] END ......bootstrap=True, max_depth=15, n_estimators=86; total time=   6.5s\n",
      "[CV] END ......bootstrap=True, max_depth=15, n_estimators=88; total time=   6.6s\n",
      "[CV] END ......bootstrap=True, max_depth=15, n_estimators=92; total time=   6.9s\n",
      "[CV] END ......bootstrap=True, max_depth=15, n_estimators=94; total time=   7.5s\n",
      "[CV] END ......bootstrap=True, max_depth=15, n_estimators=98; total time=   9.0s\n",
      "[CV] END .....bootstrap=True, max_depth=15, n_estimators=102; total time=   8.8s\n",
      "[CV] END .....bootstrap=True, max_depth=15, n_estimators=104; total time=   8.6s\n",
      "[CV] END .....bootstrap=True, max_depth=15, n_estimators=108; total time=   7.8s\n",
      "[CV] END .....bootstrap=True, max_depth=15, n_estimators=111; total time=   9.0s\n",
      "[CV] END .....bootstrap=True, max_depth=15, n_estimators=115; total time=  10.0s\n",
      "[CV] END .....bootstrap=True, max_depth=15, n_estimators=119; total time=   9.3s\n",
      "[CV] END .....bootstrap=True, max_depth=15, n_estimators=121; total time=   8.1s\n",
      "[CV] END .....bootstrap=True, max_depth=15, n_estimators=125; total time=   8.2s\n",
      "[CV] END .....bootstrap=True, max_depth=15, n_estimators=127; total time=   8.4s\n",
      "[CV] END .....bootstrap=True, max_depth=15, n_estimators=131; total time=   8.5s\n",
      "[CV] END .....bootstrap=True, max_depth=15, n_estimators=135; total time=  11.0s\n",
      "[CV] END .....bootstrap=True, max_depth=15, n_estimators=137; total time=  12.5s\n",
      "[CV] END ......bootstrap=True, max_depth=16, n_estimators=80; total time=   7.1s\n",
      "[CV] END ......bootstrap=True, max_depth=16, n_estimators=82; total time=   7.5s\n",
      "[CV] END ......bootstrap=True, max_depth=16, n_estimators=86; total time=   6.6s\n",
      "[CV] END ......bootstrap=True, max_depth=16, n_estimators=88; total time=   6.5s\n",
      "[CV] END ......bootstrap=True, max_depth=16, n_estimators=92; total time=   7.5s\n",
      "[CV] END ......bootstrap=True, max_depth=16, n_estimators=94; total time=   7.0s\n",
      "[CV] END ......bootstrap=True, max_depth=16, n_estimators=98; total time=   8.8s\n",
      "[CV] END .....bootstrap=True, max_depth=16, n_estimators=102; total time=   7.8s\n",
      "[CV] END .....bootstrap=True, max_depth=16, n_estimators=104; total time=   9.8s\n",
      "[CV] END .....bootstrap=True, max_depth=16, n_estimators=108; total time=   9.3s\n",
      "[CV] END .....bootstrap=True, max_depth=16, n_estimators=111; total time=  10.0s\n",
      "[CV] END .....bootstrap=True, max_depth=16, n_estimators=115; total time=   9.0s\n",
      "[CV] END .....bootstrap=True, max_depth=16, n_estimators=119; total time=  11.2s\n",
      "[CV] END .....bootstrap=True, max_depth=16, n_estimators=121; total time=  10.5s\n",
      "[CV] END .....bootstrap=True, max_depth=16, n_estimators=125; total time=   9.4s\n",
      "[CV] END .....bootstrap=True, max_depth=16, n_estimators=127; total time=  12.0s\n",
      "[CV] END .....bootstrap=True, max_depth=16, n_estimators=131; total time=   9.0s\n",
      "[CV] END .....bootstrap=True, max_depth=16, n_estimators=135; total time=   9.6s\n",
      "[CV] END .....bootstrap=True, max_depth=16, n_estimators=137; total time=  13.5s\n",
      "[CV] END ......bootstrap=True, max_depth=18, n_estimators=80; total time=   7.3s\n",
      "[CV] END ......bootstrap=True, max_depth=18, n_estimators=82; total time=   6.9s\n",
      "[CV] END ......bootstrap=True, max_depth=18, n_estimators=86; total time=   6.4s\n",
      "[CV] END ......bootstrap=True, max_depth=18, n_estimators=88; total time=   6.3s\n",
      "[CV] END ......bootstrap=True, max_depth=18, n_estimators=92; total time=   9.3s\n",
      "[CV] END ......bootstrap=True, max_depth=18, n_estimators=94; total time=   6.9s\n",
      "[CV] END ......bootstrap=True, max_depth=18, n_estimators=98; total time=   8.6s\n",
      "[CV] END .....bootstrap=True, max_depth=18, n_estimators=102; total time=   8.8s\n"
     ]
    },
    {
     "name": "stdout",
     "output_type": "stream",
     "text": [
      "[CV] END .....................max_depth=11, n_estimators=174; total time=  11.9s\n",
      "[CV] END ......................max_depth=8, n_estimators=174; total time=   8.7s\n",
      "[CV] END ......................max_depth=8, n_estimators=174; total time=   9.8s\n",
      "[CV] END ......................max_depth=8, n_estimators=143; total time=   8.7s\n",
      "[CV] END .....................max_depth=13, n_estimators=193; total time=  14.6s\n",
      "[CV] END .....................max_depth=12, n_estimators=130; total time=  10.0s\n",
      "[CV] END .....................max_depth=11, n_estimators=174; total time=  11.1s\n",
      "[CV] END .....................max_depth=10, n_estimators=136; total time=  10.4s\n",
      "[CV] END .....................max_depth=10, n_estimators=136; total time=   9.3s\n",
      "[CV] END .....................max_depth=14, n_estimators=143; total time=  11.1s\n",
      "[CV] END .....................max_depth=14, n_estimators=168; total time=  12.8s\n",
      "[CV] END ......................max_depth=9, n_estimators=111; total time=   7.3s\n",
      "[CV] END ......................max_depth=9, n_estimators=111; total time=   7.1s\n",
      "[CV] END .....................max_depth=10, n_estimators=117; total time=   8.7s\n",
      "[CV] END ......................max_depth=15, n_estimators=92; total time=   8.7s\n",
      "[CV] END ......................max_depth=15, n_estimators=92; total time=   7.8s\n",
      "[CV] END .....................max_depth=14, n_estimators=111; total time=   8.2s\n",
      "[CV] END .....................max_depth=10, n_estimators=193; total time=  12.6s\n",
      "[CV] END .....................max_depth=15, n_estimators=117; total time=  10.1s\n",
      "[CV] END .....................max_depth=14, n_estimators=187; total time=  14.8s\n",
      "[CV] END .....................max_depth=14, n_estimators=187; total time=  16.5s\n",
      "[CV] END ......................max_depth=9, n_estimators=181; total time=  10.6s\n",
      "[CV] END .....................max_depth=13, n_estimators=155; total time=  11.6s\n",
      "[CV] END ......................max_depth=11, n_estimators=92; total time=   7.4s\n",
      "[CV] END .....................max_depth=10, n_estimators=130; total time=   9.8s\n",
      "[CV] END .....................max_depth=10, n_estimators=130; total time=   6.5s\n",
      "[CV] END .......bootstrap=True, max_depth=8, n_estimators=80; total time=   4.2s\n",
      "[CV] END .......bootstrap=True, max_depth=8, n_estimators=82; total time=   3.5s\n",
      "[CV] END .......bootstrap=True, max_depth=8, n_estimators=86; total time=   3.9s\n",
      "[CV] END .......bootstrap=True, max_depth=8, n_estimators=90; total time=   4.2s\n",
      "[CV] END .......bootstrap=True, max_depth=8, n_estimators=92; total time=   4.0s\n",
      "[CV] END .......bootstrap=True, max_depth=8, n_estimators=96; total time=   4.8s\n",
      "[CV] END .......bootstrap=True, max_depth=8, n_estimators=98; total time=   4.8s\n",
      "[CV] END ......bootstrap=True, max_depth=8, n_estimators=102; total time=   4.9s\n",
      "[CV] END ......bootstrap=True, max_depth=8, n_estimators=104; total time=   5.1s\n",
      "[CV] END ......bootstrap=True, max_depth=8, n_estimators=108; total time=   4.5s\n",
      "[CV] END ......bootstrap=True, max_depth=8, n_estimators=113; total time=   5.4s\n",
      "[CV] END ......bootstrap=True, max_depth=8, n_estimators=115; total time=   6.5s\n",
      "[CV] END ......bootstrap=True, max_depth=8, n_estimators=119; total time=   6.0s\n",
      "[CV] END ......bootstrap=True, max_depth=8, n_estimators=121; total time=   6.9s\n",
      "[CV] END ......bootstrap=True, max_depth=8, n_estimators=125; total time=   7.1s\n",
      "[CV] END ......bootstrap=True, max_depth=8, n_estimators=129; total time=   7.1s\n",
      "[CV] END ......bootstrap=True, max_depth=8, n_estimators=131; total time=   7.5s\n",
      "[CV] END ......bootstrap=True, max_depth=8, n_estimators=135; total time=   7.5s\n",
      "[CV] END ......bootstrap=True, max_depth=8, n_estimators=137; total time=   7.5s\n",
      "[CV] END .......bootstrap=True, max_depth=9, n_estimators=80; total time=   4.6s\n",
      "[CV] END .......bootstrap=True, max_depth=9, n_estimators=84; total time=   5.5s\n",
      "[CV] END .......bootstrap=True, max_depth=9, n_estimators=88; total time=   5.1s\n",
      "[CV] END .......bootstrap=True, max_depth=9, n_estimators=90; total time=   5.5s\n",
      "[CV] END .......bootstrap=True, max_depth=9, n_estimators=94; total time=   4.6s\n",
      "[CV] END .......bootstrap=True, max_depth=9, n_estimators=96; total time=   5.1s\n",
      "[CV] END ......bootstrap=True, max_depth=9, n_estimators=100; total time=   5.0s\n",
      "[CV] END ......bootstrap=True, max_depth=9, n_estimators=104; total time=   5.1s\n",
      "[CV] END ......bootstrap=True, max_depth=9, n_estimators=106; total time=   5.8s\n",
      "[CV] END ......bootstrap=True, max_depth=9, n_estimators=111; total time=   6.5s\n",
      "[CV] END ......bootstrap=True, max_depth=9, n_estimators=113; total time=   6.7s\n",
      "[CV] END ......bootstrap=True, max_depth=9, n_estimators=117; total time=   6.7s\n",
      "[CV] END ......bootstrap=True, max_depth=9, n_estimators=121; total time=   6.7s\n",
      "[CV] END ......bootstrap=True, max_depth=9, n_estimators=123; total time=   7.0s\n",
      "[CV] END ......bootstrap=True, max_depth=9, n_estimators=127; total time=   6.2s\n",
      "[CV] END ......bootstrap=True, max_depth=9, n_estimators=129; total time=   7.0s\n",
      "[CV] END ......bootstrap=True, max_depth=9, n_estimators=133; total time=   7.4s\n",
      "[CV] END ......bootstrap=True, max_depth=9, n_estimators=137; total time=   6.7s\n",
      "[CV] END ......bootstrap=True, max_depth=9, n_estimators=140; total time=   6.7s\n",
      "[CV] END ......bootstrap=True, max_depth=10, n_estimators=82; total time=   4.4s\n",
      "[CV] END ......bootstrap=True, max_depth=10, n_estimators=86; total time=   5.7s\n",
      "[CV] END ......bootstrap=True, max_depth=10, n_estimators=88; total time=   5.1s\n",
      "[CV] END ......bootstrap=True, max_depth=10, n_estimators=92; total time=   4.7s\n",
      "[CV] END ......bootstrap=True, max_depth=10, n_estimators=96; total time=   5.0s\n",
      "[CV] END ......bootstrap=True, max_depth=10, n_estimators=98; total time=   5.3s\n",
      "[CV] END .....bootstrap=True, max_depth=10, n_estimators=102; total time=   6.5s\n",
      "[CV] END .....bootstrap=True, max_depth=10, n_estimators=104; total time=   7.0s\n",
      "[CV] END .....bootstrap=True, max_depth=10, n_estimators=108; total time=   7.4s\n",
      "[CV] END .....bootstrap=True, max_depth=10, n_estimators=113; total time=   7.8s\n",
      "[CV] END .....bootstrap=True, max_depth=10, n_estimators=115; total time=   7.1s\n",
      "[CV] END .....bootstrap=True, max_depth=10, n_estimators=119; total time=   6.2s\n",
      "[CV] END .....bootstrap=True, max_depth=10, n_estimators=121; total time=   8.0s\n",
      "[CV] END .....bootstrap=True, max_depth=10, n_estimators=125; total time=   7.7s\n",
      "[CV] END .....bootstrap=True, max_depth=10, n_estimators=129; total time=   9.5s\n",
      "[CV] END .....bootstrap=True, max_depth=10, n_estimators=131; total time=   8.9s\n",
      "[CV] END .....bootstrap=True, max_depth=10, n_estimators=135; total time=   9.5s\n",
      "[CV] END .....bootstrap=True, max_depth=10, n_estimators=137; total time=   8.2s\n",
      "[CV] END ......bootstrap=True, max_depth=11, n_estimators=80; total time=   6.0s\n",
      "[CV] END ......bootstrap=True, max_depth=11, n_estimators=82; total time=   6.0s\n",
      "[CV] END ......bootstrap=True, max_depth=11, n_estimators=86; total time=   6.3s\n",
      "[CV] END ......bootstrap=True, max_depth=11, n_estimators=90; total time=   6.5s\n",
      "[CV] END ......bootstrap=True, max_depth=11, n_estimators=92; total time=   7.5s\n",
      "[CV] END ......bootstrap=True, max_depth=11, n_estimators=96; total time=   8.0s\n",
      "[CV] END ......bootstrap=True, max_depth=11, n_estimators=98; total time=   7.9s\n",
      "[CV] END .....bootstrap=True, max_depth=11, n_estimators=102; total time=   7.5s\n",
      "[CV] END .....bootstrap=True, max_depth=11, n_estimators=106; total time=   6.7s\n",
      "[CV] END .....bootstrap=True, max_depth=11, n_estimators=108; total time=   7.8s\n",
      "[CV] END .....bootstrap=True, max_depth=11, n_estimators=113; total time=   7.8s\n",
      "[CV] END .....bootstrap=True, max_depth=11, n_estimators=115; total time=   7.1s\n",
      "[CV] END .....bootstrap=True, max_depth=11, n_estimators=119; total time=   8.2s\n",
      "[CV] END .....bootstrap=True, max_depth=11, n_estimators=123; total time=   9.6s\n",
      "[CV] END .....bootstrap=True, max_depth=11, n_estimators=125; total time=   8.7s\n",
      "[CV] END .....bootstrap=True, max_depth=11, n_estimators=129; total time=   7.7s\n",
      "[CV] END .....bootstrap=True, max_depth=11, n_estimators=131; total time=   8.2s\n",
      "[CV] END .....bootstrap=True, max_depth=11, n_estimators=135; total time=   9.4s\n",
      "[CV] END .....bootstrap=True, max_depth=11, n_estimators=140; total time=   8.8s\n",
      "[CV] END ......bootstrap=True, max_depth=12, n_estimators=80; total time=   6.5s\n",
      "[CV] END ......bootstrap=True, max_depth=12, n_estimators=84; total time=   6.6s\n",
      "[CV] END ......bootstrap=True, max_depth=12, n_estimators=86; total time=   6.5s\n",
      "[CV] END ......bootstrap=True, max_depth=12, n_estimators=90; total time=   6.7s\n",
      "[CV] END ......bootstrap=True, max_depth=12, n_estimators=94; total time=   7.5s\n",
      "[CV] END ......bootstrap=True, max_depth=12, n_estimators=96; total time=   6.7s\n",
      "[CV] END .....bootstrap=True, max_depth=12, n_estimators=100; total time=   8.1s\n",
      "[CV] END .....bootstrap=True, max_depth=12, n_estimators=102; total time=   6.8s\n",
      "[CV] END .....bootstrap=True, max_depth=12, n_estimators=106; total time=   6.4s\n",
      "[CV] END .....bootstrap=True, max_depth=12, n_estimators=111; total time=   6.4s\n",
      "[CV] END .....bootstrap=True, max_depth=12, n_estimators=113; total time=   7.7s\n",
      "[CV] END .....bootstrap=True, max_depth=12, n_estimators=117; total time=   8.2s\n",
      "[CV] END .....bootstrap=True, max_depth=12, n_estimators=119; total time=   7.8s\n",
      "[CV] END .....bootstrap=True, max_depth=12, n_estimators=123; total time=   7.6s\n",
      "[CV] END .....bootstrap=True, max_depth=12, n_estimators=127; total time=   9.4s\n",
      "[CV] END .....bootstrap=True, max_depth=12, n_estimators=129; total time=   8.7s\n",
      "[CV] END .....bootstrap=True, max_depth=12, n_estimators=133; total time=   8.5s\n",
      "[CV] END .....bootstrap=True, max_depth=12, n_estimators=135; total time=   7.9s\n",
      "[CV] END .....bootstrap=True, max_depth=12, n_estimators=140; total time=  10.8s\n",
      "[CV] END ......bootstrap=True, max_depth=13, n_estimators=82; total time=   6.7s\n",
      "[CV] END ......bootstrap=True, max_depth=13, n_estimators=84; total time=   6.8s\n",
      "[CV] END ......bootstrap=True, max_depth=13, n_estimators=88; total time=   8.0s\n",
      "[CV] END ......bootstrap=True, max_depth=13, n_estimators=92; total time=   7.0s\n",
      "[CV] END ......bootstrap=True, max_depth=13, n_estimators=94; total time=   6.7s\n",
      "[CV] END ......bootstrap=True, max_depth=13, n_estimators=98; total time=   7.8s\n",
      "[CV] END .....bootstrap=True, max_depth=13, n_estimators=100; total time=   8.0s\n",
      "[CV] END .....bootstrap=True, max_depth=13, n_estimators=104; total time=   8.5s\n",
      "[CV] END .....bootstrap=True, max_depth=13, n_estimators=108; total time=   8.1s\n",
      "[CV] END .....bootstrap=True, max_depth=13, n_estimators=111; total time=   8.3s\n",
      "[CV] END .....bootstrap=True, max_depth=13, n_estimators=115; total time=   8.1s\n",
      "[CV] END .....bootstrap=True, max_depth=13, n_estimators=117; total time=   8.5s\n",
      "[CV] END .....bootstrap=True, max_depth=13, n_estimators=121; total time=   8.8s\n",
      "[CV] END .....bootstrap=True, max_depth=13, n_estimators=125; total time=   8.0s\n",
      "[CV] END .....bootstrap=True, max_depth=13, n_estimators=127; total time=   8.5s\n",
      "[CV] END .....bootstrap=True, max_depth=13, n_estimators=131; total time=   8.7s\n",
      "[CV] END .....bootstrap=True, max_depth=13, n_estimators=133; total time=  10.1s\n",
      "[CV] END .....bootstrap=True, max_depth=13, n_estimators=137; total time=   9.4s\n",
      "[CV] END ......bootstrap=True, max_depth=14, n_estimators=80; total time=   5.0s\n",
      "[CV] END ......bootstrap=True, max_depth=14, n_estimators=82; total time=   6.1s\n",
      "[CV] END ......bootstrap=True, max_depth=14, n_estimators=84; total time=   5.9s\n",
      "[CV] END ......bootstrap=True, max_depth=14, n_estimators=88; total time=   5.5s\n",
      "[CV] END ......bootstrap=True, max_depth=14, n_estimators=92; total time=   7.3s\n",
      "[CV] END ......bootstrap=True, max_depth=14, n_estimators=94; total time=   6.7s\n",
      "[CV] END ......bootstrap=True, max_depth=14, n_estimators=98; total time=   9.1s\n",
      "[CV] END .....bootstrap=True, max_depth=14, n_estimators=100; total time=   8.1s\n",
      "[CV] END .....bootstrap=True, max_depth=14, n_estimators=104; total time=   6.7s\n",
      "[CV] END .....bootstrap=True, max_depth=14, n_estimators=108; total time=   9.2s\n",
      "[CV] END .....bootstrap=True, max_depth=14, n_estimators=111; total time=   8.7s\n",
      "[CV] END .....bootstrap=True, max_depth=14, n_estimators=115; total time=   9.2s\n",
      "[CV] END .....bootstrap=True, max_depth=14, n_estimators=117; total time=   8.9s\n",
      "[CV] END .....bootstrap=True, max_depth=14, n_estimators=121; total time=   9.3s\n",
      "[CV] END .....bootstrap=True, max_depth=14, n_estimators=125; total time=   8.1s\n",
      "[CV] END .....bootstrap=True, max_depth=14, n_estimators=127; total time=   8.5s\n",
      "[CV] END .....bootstrap=True, max_depth=14, n_estimators=131; total time=   8.4s\n",
      "[CV] END .....bootstrap=True, max_depth=14, n_estimators=133; total time=   8.5s\n",
      "[CV] END .....bootstrap=True, max_depth=14, n_estimators=137; total time=   8.7s\n",
      "[CV] END ......bootstrap=True, max_depth=15, n_estimators=80; total time=   5.4s\n",
      "[CV] END ......bootstrap=True, max_depth=15, n_estimators=82; total time=   6.9s\n",
      "[CV] END ......bootstrap=True, max_depth=15, n_estimators=84; total time=   6.3s\n",
      "[CV] END ......bootstrap=True, max_depth=15, n_estimators=88; total time=   7.0s\n",
      "[CV] END ......bootstrap=True, max_depth=15, n_estimators=90; total time=   6.6s\n",
      "[CV] END ......bootstrap=True, max_depth=15, n_estimators=94; total time=   7.1s\n",
      "[CV] END ......bootstrap=True, max_depth=15, n_estimators=98; total time=   8.6s\n",
      "[CV] END .....bootstrap=True, max_depth=15, n_estimators=100; total time=   9.2s\n",
      "[CV] END .....bootstrap=True, max_depth=15, n_estimators=104; total time=   8.9s\n",
      "[CV] END .....bootstrap=True, max_depth=15, n_estimators=106; total time=   7.4s\n",
      "[CV] END .....bootstrap=True, max_depth=15, n_estimators=111; total time=   8.8s\n",
      "[CV] END .....bootstrap=True, max_depth=15, n_estimators=115; total time=  10.1s\n",
      "[CV] END .....bootstrap=True, max_depth=15, n_estimators=117; total time=   9.5s\n",
      "[CV] END .....bootstrap=True, max_depth=15, n_estimators=121; total time=   8.2s\n",
      "[CV] END .....bootstrap=True, max_depth=15, n_estimators=123; total time=   8.1s\n",
      "[CV] END .....bootstrap=True, max_depth=15, n_estimators=127; total time=   8.4s\n",
      "[CV] END .....bootstrap=True, max_depth=15, n_estimators=131; total time=   8.6s\n",
      "[CV] END .....bootstrap=True, max_depth=15, n_estimators=133; total time=  10.1s\n",
      "[CV] END .....bootstrap=True, max_depth=15, n_estimators=137; total time=  12.3s\n",
      "[CV] END .....bootstrap=True, max_depth=15, n_estimators=140; total time=  12.5s\n",
      "[CV] END ......bootstrap=True, max_depth=16, n_estimators=84; total time=   7.0s\n",
      "[CV] END ......bootstrap=True, max_depth=16, n_estimators=86; total time=   6.7s\n",
      "[CV] END ......bootstrap=True, max_depth=16, n_estimators=90; total time=   7.3s\n",
      "[CV] END ......bootstrap=True, max_depth=16, n_estimators=92; total time=   6.6s\n",
      "[CV] END ......bootstrap=True, max_depth=16, n_estimators=96; total time=   7.7s\n",
      "[CV] END .....bootstrap=True, max_depth=16, n_estimators=100; total time=   8.6s\n",
      "[CV] END .....bootstrap=True, max_depth=16, n_estimators=102; total time=   8.6s\n",
      "[CV] END .....bootstrap=True, max_depth=16, n_estimators=106; total time=   9.8s\n",
      "[CV] END .....bootstrap=True, max_depth=16, n_estimators=108; total time=   9.5s\n",
      "[CV] END .....bootstrap=True, max_depth=16, n_estimators=113; total time=   9.8s\n",
      "[CV] END .....bootstrap=True, max_depth=16, n_estimators=117; total time=   9.6s\n",
      "[CV] END .....bootstrap=True, max_depth=16, n_estimators=119; total time=  10.1s\n",
      "[CV] END .....bootstrap=True, max_depth=16, n_estimators=123; total time=  10.9s\n",
      "[CV] END .....bootstrap=True, max_depth=16, n_estimators=125; total time=   9.3s\n",
      "[CV] END .....bootstrap=True, max_depth=16, n_estimators=129; total time=  11.6s\n",
      "[CV] END .....bootstrap=True, max_depth=16, n_estimators=133; total time=   8.9s\n",
      "[CV] END .....bootstrap=True, max_depth=16, n_estimators=135; total time=  10.9s\n",
      "[CV] END .....bootstrap=True, max_depth=16, n_estimators=140; total time=  13.4s\n",
      "[CV] END ......bootstrap=True, max_depth=18, n_estimators=80; total time=   7.1s\n",
      "[CV] END ......bootstrap=True, max_depth=18, n_estimators=84; total time=   6.4s\n",
      "[CV] END ......bootstrap=True, max_depth=18, n_estimators=88; total time=   6.4s\n",
      "[CV] END ......bootstrap=True, max_depth=18, n_estimators=90; total time=   8.1s\n",
      "[CV] END ......bootstrap=True, max_depth=18, n_estimators=94; total time=   7.9s\n",
      "[CV] END ......bootstrap=True, max_depth=18, n_estimators=96; total time=   8.1s\n",
      "[CV] END .....bootstrap=True, max_depth=18, n_estimators=100; total time=   8.8s\n"
     ]
    },
    {
     "name": "stdout",
     "output_type": "stream",
     "text": [
      "[CV] END .....................max_depth=11, n_estimators=174; total time=  11.9s\n",
      "[CV] END ......................max_depth=8, n_estimators=174; total time=   8.7s\n",
      "[CV] END ......................max_depth=8, n_estimators=174; total time=   9.9s\n",
      "[CV] END ......................max_depth=8, n_estimators=143; total time=   8.8s\n",
      "[CV] END .....................max_depth=13, n_estimators=193; total time=  14.7s\n",
      "[CV] END .....................max_depth=12, n_estimators=130; total time=   9.9s\n",
      "[CV] END .....................max_depth=11, n_estimators=174; total time=  11.0s\n",
      "[CV] END .....................max_depth=11, n_estimators=174; total time=  13.5s\n",
      "[CV] END .....................max_depth=10, n_estimators=136; total time=   9.5s\n",
      "[CV] END .....................max_depth=14, n_estimators=143; total time=  11.1s\n",
      "[CV] END .....................max_depth=14, n_estimators=168; total time=  12.9s\n",
      "[CV] END ......................max_depth=9, n_estimators=111; total time=   7.1s\n",
      "[CV] END ......................max_depth=9, n_estimators=111; total time=   7.7s\n",
      "[CV] END .....................max_depth=10, n_estimators=117; total time=   8.9s\n",
      "[CV] END ......................max_depth=15, n_estimators=92; total time=   8.6s\n",
      "[CV] END .....................max_depth=14, n_estimators=111; total time=   8.3s\n",
      "[CV] END .....................max_depth=10, n_estimators=193; total time=  11.8s\n",
      "[CV] END .....................max_depth=10, n_estimators=193; total time=  13.6s\n",
      "[CV] END .....................max_depth=15, n_estimators=117; total time=   9.9s\n",
      "[CV] END .....................max_depth=14, n_estimators=187; total time=  15.4s\n",
      "[CV] END ......................max_depth=9, n_estimators=181; total time=  12.0s\n",
      "[CV] END .....................max_depth=13, n_estimators=155; total time=  10.6s\n",
      "[CV] END .....................max_depth=13, n_estimators=155; total time=  12.8s\n",
      "[CV] END ......................max_depth=11, n_estimators=92; total time=   7.4s\n",
      "[CV] END .....................max_depth=10, n_estimators=130; total time=   8.0s\n",
      "[CV] END .......bootstrap=True, max_depth=8, n_estimators=82; total time=   4.4s\n",
      "[CV] END .......bootstrap=True, max_depth=8, n_estimators=84; total time=   3.6s\n",
      "[CV] END .......bootstrap=True, max_depth=8, n_estimators=88; total time=   4.1s\n",
      "[CV] END .......bootstrap=True, max_depth=8, n_estimators=90; total time=   4.1s\n",
      "[CV] END .......bootstrap=True, max_depth=8, n_estimators=94; total time=   4.2s\n",
      "[CV] END .......bootstrap=True, max_depth=8, n_estimators=98; total time=   4.8s\n",
      "[CV] END ......bootstrap=True, max_depth=8, n_estimators=100; total time=   5.2s\n",
      "[CV] END ......bootstrap=True, max_depth=8, n_estimators=104; total time=   5.0s\n",
      "[CV] END ......bootstrap=True, max_depth=8, n_estimators=106; total time=   5.0s\n",
      "[CV] END ......bootstrap=True, max_depth=8, n_estimators=111; total time=   4.7s\n",
      "[CV] END ......bootstrap=True, max_depth=8, n_estimators=115; total time=   5.7s\n",
      "[CV] END ......bootstrap=True, max_depth=8, n_estimators=117; total time=   6.4s\n",
      "[CV] END ......bootstrap=True, max_depth=8, n_estimators=121; total time=   6.2s\n",
      "[CV] END ......bootstrap=True, max_depth=8, n_estimators=123; total time=   6.8s\n",
      "[CV] END ......bootstrap=True, max_depth=8, n_estimators=127; total time=   7.2s\n",
      "[CV] END ......bootstrap=True, max_depth=8, n_estimators=131; total time=   7.4s\n",
      "[CV] END ......bootstrap=True, max_depth=8, n_estimators=133; total time=   7.6s\n",
      "[CV] END ......bootstrap=True, max_depth=8, n_estimators=137; total time=   7.3s\n",
      "[CV] END ......bootstrap=True, max_depth=8, n_estimators=140; total time=   7.7s\n",
      "[CV] END .......bootstrap=True, max_depth=9, n_estimators=82; total time=   5.2s\n",
      "[CV] END .......bootstrap=True, max_depth=9, n_estimators=86; total time=   5.3s\n",
      "[CV] END .......bootstrap=True, max_depth=9, n_estimators=90; total time=   5.3s\n",
      "[CV] END .......bootstrap=True, max_depth=9, n_estimators=92; total time=   5.2s\n",
      "[CV] END .......bootstrap=True, max_depth=9, n_estimators=96; total time=   4.6s\n",
      "[CV] END .......bootstrap=True, max_depth=9, n_estimators=98; total time=   5.3s\n",
      "[CV] END ......bootstrap=True, max_depth=9, n_estimators=102; total time=   5.0s\n",
      "[CV] END ......bootstrap=True, max_depth=9, n_estimators=106; total time=   5.5s\n",
      "[CV] END ......bootstrap=True, max_depth=9, n_estimators=108; total time=   5.9s\n",
      "[CV] END ......bootstrap=True, max_depth=9, n_estimators=113; total time=   7.0s\n",
      "[CV] END ......bootstrap=True, max_depth=9, n_estimators=115; total time=   7.0s\n",
      "[CV] END ......bootstrap=True, max_depth=9, n_estimators=119; total time=   6.6s\n",
      "[CV] END ......bootstrap=True, max_depth=9, n_estimators=123; total time=   7.1s\n",
      "[CV] END ......bootstrap=True, max_depth=9, n_estimators=125; total time=   6.2s\n",
      "[CV] END ......bootstrap=True, max_depth=9, n_estimators=129; total time=   6.3s\n",
      "[CV] END ......bootstrap=True, max_depth=9, n_estimators=131; total time=   7.5s\n",
      "[CV] END ......bootstrap=True, max_depth=9, n_estimators=135; total time=   7.1s\n",
      "[CV] END ......bootstrap=True, max_depth=9, n_estimators=140; total time=   6.6s\n",
      "[CV] END ......bootstrap=True, max_depth=10, n_estimators=80; total time=   4.1s\n",
      "[CV] END ......bootstrap=True, max_depth=10, n_estimators=84; total time=   4.7s\n",
      "[CV] END ......bootstrap=True, max_depth=10, n_estimators=86; total time=   5.6s\n",
      "[CV] END ......bootstrap=True, max_depth=10, n_estimators=90; total time=   5.1s\n",
      "[CV] END ......bootstrap=True, max_depth=10, n_estimators=92; total time=   4.7s\n",
      "[CV] END ......bootstrap=True, max_depth=10, n_estimators=96; total time=   5.0s\n",
      "[CV] END .....bootstrap=True, max_depth=10, n_estimators=100; total time=   5.5s\n",
      "[CV] END .....bootstrap=True, max_depth=10, n_estimators=102; total time=   6.7s\n",
      "[CV] END .....bootstrap=True, max_depth=10, n_estimators=106; total time=   7.1s\n",
      "[CV] END .....bootstrap=True, max_depth=10, n_estimators=108; total time=   7.4s\n",
      "[CV] END .....bootstrap=True, max_depth=10, n_estimators=113; total time=   7.7s\n",
      "[CV] END .....bootstrap=True, max_depth=10, n_estimators=117; total time=   6.9s\n",
      "[CV] END .....bootstrap=True, max_depth=10, n_estimators=119; total time=   6.3s\n",
      "[CV] END .....bootstrap=True, max_depth=10, n_estimators=123; total time=   8.4s\n",
      "[CV] END .....bootstrap=True, max_depth=10, n_estimators=125; total time=   8.1s\n",
      "[CV] END .....bootstrap=True, max_depth=10, n_estimators=129; total time=   9.2s\n",
      "[CV] END .....bootstrap=True, max_depth=10, n_estimators=133; total time=   8.9s\n",
      "[CV] END .....bootstrap=True, max_depth=10, n_estimators=135; total time=   9.5s\n",
      "[CV] END .....bootstrap=True, max_depth=10, n_estimators=140; total time=   8.4s\n",
      "[CV] END ......bootstrap=True, max_depth=11, n_estimators=80; total time=   5.9s\n",
      "[CV] END ......bootstrap=True, max_depth=11, n_estimators=84; total time=   6.4s\n",
      "[CV] END ......bootstrap=True, max_depth=11, n_estimators=88; total time=   6.4s\n",
      "[CV] END ......bootstrap=True, max_depth=11, n_estimators=90; total time=   6.8s\n",
      "[CV] END ......bootstrap=True, max_depth=11, n_estimators=94; total time=   7.6s\n",
      "[CV] END ......bootstrap=True, max_depth=11, n_estimators=96; total time=   8.1s\n",
      "[CV] END .....bootstrap=True, max_depth=11, n_estimators=100; total time=   7.8s\n",
      "[CV] END .....bootstrap=True, max_depth=11, n_estimators=104; total time=   7.3s\n",
      "[CV] END .....bootstrap=True, max_depth=11, n_estimators=106; total time=   6.9s\n",
      "[CV] END .....bootstrap=True, max_depth=11, n_estimators=111; total time=   7.9s\n",
      "[CV] END .....bootstrap=True, max_depth=11, n_estimators=113; total time=   7.7s\n",
      "[CV] END .....bootstrap=True, max_depth=11, n_estimators=117; total time=   7.3s\n",
      "[CV] END .....bootstrap=True, max_depth=11, n_estimators=121; total time=   8.6s\n",
      "[CV] END .....bootstrap=True, max_depth=11, n_estimators=123; total time=  10.2s\n",
      "[CV] END .....bootstrap=True, max_depth=11, n_estimators=127; total time=   7.5s\n",
      "[CV] END .....bootstrap=True, max_depth=11, n_estimators=129; total time=   8.2s\n",
      "[CV] END .....bootstrap=True, max_depth=11, n_estimators=133; total time=   8.6s\n",
      "[CV] END .....bootstrap=True, max_depth=11, n_estimators=137; total time=   9.3s\n",
      "[CV] END .....bootstrap=True, max_depth=11, n_estimators=140; total time=   9.4s\n",
      "[CV] END ......bootstrap=True, max_depth=12, n_estimators=82; total time=   6.4s\n",
      "[CV] END ......bootstrap=True, max_depth=12, n_estimators=86; total time=   6.7s\n",
      "[CV] END ......bootstrap=True, max_depth=12, n_estimators=88; total time=   7.0s\n",
      "[CV] END ......bootstrap=True, max_depth=12, n_estimators=92; total time=   6.5s\n",
      "[CV] END ......bootstrap=True, max_depth=12, n_estimators=94; total time=   7.7s\n",
      "[CV] END ......bootstrap=True, max_depth=12, n_estimators=98; total time=   6.7s\n",
      "[CV] END .....bootstrap=True, max_depth=12, n_estimators=102; total time=   7.6s\n",
      "[CV] END .....bootstrap=True, max_depth=12, n_estimators=104; total time=   6.9s\n",
      "[CV] END .....bootstrap=True, max_depth=12, n_estimators=108; total time=   6.2s\n",
      "[CV] END .....bootstrap=True, max_depth=12, n_estimators=111; total time=   6.5s\n",
      "[CV] END .....bootstrap=True, max_depth=12, n_estimators=115; total time=   8.5s\n",
      "[CV] END .....bootstrap=True, max_depth=12, n_estimators=119; total time=   8.2s\n",
      "[CV] END .....bootstrap=True, max_depth=12, n_estimators=121; total time=   7.2s\n",
      "[CV] END .....bootstrap=True, max_depth=12, n_estimators=125; total time=   8.2s\n",
      "[CV] END .....bootstrap=True, max_depth=12, n_estimators=127; total time=   9.8s\n",
      "[CV] END .....bootstrap=True, max_depth=12, n_estimators=131; total time=   8.6s\n",
      "[CV] END .....bootstrap=True, max_depth=12, n_estimators=135; total time=   7.9s\n",
      "[CV] END .....bootstrap=True, max_depth=12, n_estimators=137; total time=   9.2s\n",
      "[CV] END ......bootstrap=True, max_depth=13, n_estimators=80; total time=   6.8s\n",
      "[CV] END ......bootstrap=True, max_depth=13, n_estimators=82; total time=   6.4s\n",
      "[CV] END ......bootstrap=True, max_depth=13, n_estimators=86; total time=   7.3s\n",
      "[CV] END ......bootstrap=True, max_depth=13, n_estimators=88; total time=   8.0s\n",
      "[CV] END ......bootstrap=True, max_depth=13, n_estimators=92; total time=   6.8s\n",
      "[CV] END ......bootstrap=True, max_depth=13, n_estimators=94; total time=   6.6s\n",
      "[CV] END ......bootstrap=True, max_depth=13, n_estimators=98; total time=   8.1s\n",
      "[CV] END .....bootstrap=True, max_depth=13, n_estimators=102; total time=   8.3s\n",
      "[CV] END .....bootstrap=True, max_depth=13, n_estimators=104; total time=   8.4s\n",
      "[CV] END .....bootstrap=True, max_depth=13, n_estimators=108; total time=   8.2s\n",
      "[CV] END .....bootstrap=True, max_depth=13, n_estimators=111; total time=   7.7s\n",
      "[CV] END .....bootstrap=True, max_depth=13, n_estimators=115; total time=   8.7s\n",
      "[CV] END .....bootstrap=True, max_depth=13, n_estimators=119; total time=   8.7s\n",
      "[CV] END .....bootstrap=True, max_depth=13, n_estimators=121; total time=   8.3s\n",
      "[CV] END .....bootstrap=True, max_depth=13, n_estimators=125; total time=   8.0s\n",
      "[CV] END .....bootstrap=True, max_depth=13, n_estimators=127; total time=   8.3s\n",
      "[CV] END .....bootstrap=True, max_depth=13, n_estimators=131; total time=   9.0s\n",
      "[CV] END .....bootstrap=True, max_depth=13, n_estimators=135; total time=  10.2s\n",
      "[CV] END .....bootstrap=True, max_depth=13, n_estimators=137; total time=   9.3s\n",
      "[CV] END ......bootstrap=True, max_depth=14, n_estimators=80; total time=   5.0s\n",
      "[CV] END ......bootstrap=True, max_depth=14, n_estimators=82; total time=   6.4s\n",
      "[CV] END ......bootstrap=True, max_depth=14, n_estimators=86; total time=   5.7s\n",
      "[CV] END ......bootstrap=True, max_depth=14, n_estimators=88; total time=   5.7s\n",
      "[CV] END ......bootstrap=True, max_depth=14, n_estimators=92; total time=   7.8s\n",
      "[CV] END ......bootstrap=True, max_depth=14, n_estimators=96; total time=   7.4s\n",
      "[CV] END ......bootstrap=True, max_depth=14, n_estimators=98; total time=   9.5s\n",
      "[CV] END .....bootstrap=True, max_depth=14, n_estimators=102; total time=   6.7s\n",
      "[CV] END .....bootstrap=True, max_depth=14, n_estimators=104; total time=   7.2s\n",
      "[CV] END .....bootstrap=True, max_depth=14, n_estimators=108; total time=   9.0s\n",
      "[CV] END .....bootstrap=True, max_depth=14, n_estimators=113; total time=   8.8s\n",
      "[CV] END .....bootstrap=True, max_depth=14, n_estimators=115; total time=   9.1s\n",
      "[CV] END .....bootstrap=True, max_depth=14, n_estimators=119; total time=   9.0s\n",
      "[CV] END .....bootstrap=True, max_depth=14, n_estimators=121; total time=   9.0s\n",
      "[CV] END .....bootstrap=True, max_depth=14, n_estimators=125; total time=   7.9s\n",
      "[CV] END .....bootstrap=True, max_depth=14, n_estimators=129; total time=   8.6s\n",
      "[CV] END .....bootstrap=True, max_depth=14, n_estimators=131; total time=   8.5s\n",
      "[CV] END .....bootstrap=True, max_depth=14, n_estimators=135; total time=   8.7s\n",
      "[CV] END .....bootstrap=True, max_depth=14, n_estimators=137; total time=   8.9s\n",
      "[CV] END ......bootstrap=True, max_depth=15, n_estimators=80; total time=   5.7s\n",
      "[CV] END ......bootstrap=True, max_depth=15, n_estimators=82; total time=   7.0s\n",
      "[CV] END ......bootstrap=True, max_depth=15, n_estimators=86; total time=   6.3s\n",
      "[CV] END ......bootstrap=True, max_depth=15, n_estimators=90; total time=   7.1s\n",
      "[CV] END ......bootstrap=True, max_depth=15, n_estimators=92; total time=   6.5s\n",
      "[CV] END ......bootstrap=True, max_depth=15, n_estimators=96; total time=   8.3s\n",
      "[CV] END ......bootstrap=True, max_depth=15, n_estimators=98; total time=   9.0s\n",
      "[CV] END .....bootstrap=True, max_depth=15, n_estimators=102; total time=   8.8s\n",
      "[CV] END .....bootstrap=True, max_depth=15, n_estimators=106; total time=   8.4s\n",
      "[CV] END .....bootstrap=True, max_depth=15, n_estimators=108; total time=   7.8s\n",
      "[CV] END .....bootstrap=True, max_depth=15, n_estimators=113; total time=   9.7s\n",
      "[CV] END .....bootstrap=True, max_depth=15, n_estimators=115; total time=   9.3s\n",
      "[CV] END .....bootstrap=True, max_depth=15, n_estimators=119; total time=   9.2s\n",
      "[CV] END .....bootstrap=True, max_depth=15, n_estimators=123; total time=   8.3s\n",
      "[CV] END .....bootstrap=True, max_depth=15, n_estimators=125; total time=   8.4s\n",
      "[CV] END .....bootstrap=True, max_depth=15, n_estimators=129; total time=   8.5s\n",
      "[CV] END .....bootstrap=True, max_depth=15, n_estimators=131; total time=   9.2s\n",
      "[CV] END .....bootstrap=True, max_depth=15, n_estimators=135; total time=  11.1s\n",
      "[CV] END .....bootstrap=True, max_depth=15, n_estimators=140; total time=  13.1s\n",
      "[CV] END ......bootstrap=True, max_depth=16, n_estimators=80; total time=   7.0s\n",
      "[CV] END ......bootstrap=True, max_depth=16, n_estimators=84; total time=   6.7s\n",
      "[CV] END ......bootstrap=True, max_depth=16, n_estimators=86; total time=   6.6s\n",
      "[CV] END ......bootstrap=True, max_depth=16, n_estimators=90; total time=   7.8s\n",
      "[CV] END ......bootstrap=True, max_depth=16, n_estimators=94; total time=   6.6s\n",
      "[CV] END ......bootstrap=True, max_depth=16, n_estimators=96; total time=   7.9s\n",
      "[CV] END .....bootstrap=True, max_depth=16, n_estimators=100; total time=   8.2s\n",
      "[CV] END .....bootstrap=True, max_depth=16, n_estimators=102; total time=   9.0s\n",
      "[CV] END .....bootstrap=True, max_depth=16, n_estimators=106; total time=   9.4s\n",
      "[CV] END .....bootstrap=True, max_depth=16, n_estimators=111; total time=  10.2s\n",
      "[CV] END .....bootstrap=True, max_depth=16, n_estimators=113; total time=   9.3s\n",
      "[CV] END .....bootstrap=True, max_depth=16, n_estimators=117; total time=  10.4s\n",
      "[CV] END .....bootstrap=True, max_depth=16, n_estimators=119; total time=  10.1s\n",
      "[CV] END .....bootstrap=True, max_depth=16, n_estimators=123; total time=  10.1s\n",
      "[CV] END .....bootstrap=True, max_depth=16, n_estimators=127; total time=  10.5s\n",
      "[CV] END .....bootstrap=True, max_depth=16, n_estimators=129; total time=  10.6s\n",
      "[CV] END .....bootstrap=True, max_depth=16, n_estimators=133; total time=   8.9s\n",
      "[CV] END .....bootstrap=True, max_depth=16, n_estimators=135; total time=  11.5s\n",
      "[CV] END .....bootstrap=True, max_depth=16, n_estimators=140; total time=  13.1s\n",
      "[CV] END ......bootstrap=True, max_depth=18, n_estimators=82; total time=   7.2s\n",
      "[CV] END ......bootstrap=True, max_depth=18, n_estimators=84; total time=   6.2s\n",
      "[CV] END ......bootstrap=True, max_depth=18, n_estimators=88; total time=   6.3s\n",
      "[CV] END ......bootstrap=True, max_depth=18, n_estimators=92; total time=   9.2s\n",
      "[CV] END ......bootstrap=True, max_depth=18, n_estimators=94; total time=   7.1s\n",
      "[CV] END ......bootstrap=True, max_depth=18, n_estimators=98; total time=   8.3s\n",
      "[CV] END .....bootstrap=True, max_depth=18, n_estimators=100; total time=   8.8s\n",
      "[CV] END .....bootstrap=True, max_depth=18, n_estimators=104; total time=   8.6s\n"
     ]
    },
    {
     "name": "stdout",
     "output_type": "stream",
     "text": [
      "[CV] END .....................max_depth=11, n_estimators=174; total time=  11.8s\n",
      "[CV] END .....................max_depth=11, n_estimators=174; total time=  11.0s\n",
      "[CV] END ......................max_depth=8, n_estimators=143; total time=   8.3s\n",
      "[CV] END .....................max_depth=13, n_estimators=193; total time=  14.7s\n",
      "[CV] END .....................max_depth=13, n_estimators=193; total time=  15.9s\n",
      "[CV] END .....................max_depth=12, n_estimators=130; total time=   9.0s\n",
      "[CV] END .....................max_depth=11, n_estimators=174; total time=  13.2s\n",
      "[CV] END .....................max_depth=10, n_estimators=136; total time=   9.4s\n",
      "[CV] END .....................max_depth=14, n_estimators=143; total time=  11.1s\n",
      "[CV] END .....................max_depth=14, n_estimators=143; total time=  10.9s\n",
      "[CV] END .....................max_depth=14, n_estimators=168; total time=  13.8s\n",
      "[CV] END ......................max_depth=9, n_estimators=111; total time=   7.7s\n",
      "[CV] END .....................max_depth=10, n_estimators=117; total time=   9.0s\n",
      "[CV] END ......................max_depth=15, n_estimators=92; total time=   8.5s\n",
      "[CV] END .....................max_depth=14, n_estimators=111; total time=   8.2s\n",
      "[CV] END .....................max_depth=10, n_estimators=193; total time=  11.9s\n",
      "[CV] END .....................max_depth=10, n_estimators=193; total time=  13.6s\n",
      "[CV] END .....................max_depth=15, n_estimators=117; total time=   9.9s\n",
      "[CV] END .....................max_depth=14, n_estimators=187; total time=  15.5s\n",
      "[CV] END ......................max_depth=9, n_estimators=181; total time=  11.9s\n",
      "[CV] END .....................max_depth=13, n_estimators=155; total time=  10.7s\n",
      "[CV] END ......................max_depth=11, n_estimators=92; total time=   6.6s\n",
      "[CV] END ......................max_depth=11, n_estimators=92; total time=   7.3s\n",
      "[CV] END .....................max_depth=10, n_estimators=130; total time=   9.8s\n",
      "[CV] END .....................max_depth=10, n_estimators=130; total time=   6.5s\n",
      "[CV] END .......bootstrap=True, max_depth=8, n_estimators=80; total time=   4.3s\n",
      "[CV] END .......bootstrap=True, max_depth=8, n_estimators=84; total time=   3.6s\n",
      "[CV] END .......bootstrap=True, max_depth=8, n_estimators=86; total time=   3.9s\n",
      "[CV] END .......bootstrap=True, max_depth=8, n_estimators=90; total time=   4.2s\n",
      "[CV] END .......bootstrap=True, max_depth=8, n_estimators=94; total time=   4.2s\n",
      "[CV] END .......bootstrap=True, max_depth=8, n_estimators=96; total time=   4.7s\n",
      "[CV] END ......bootstrap=True, max_depth=8, n_estimators=100; total time=   5.1s\n",
      "[CV] END ......bootstrap=True, max_depth=8, n_estimators=104; total time=   4.9s\n",
      "[CV] END ......bootstrap=True, max_depth=8, n_estimators=106; total time=   5.0s\n",
      "[CV] END ......bootstrap=True, max_depth=8, n_estimators=111; total time=   4.7s\n",
      "[CV] END ......bootstrap=True, max_depth=8, n_estimators=113; total time=   5.5s\n",
      "[CV] END ......bootstrap=True, max_depth=8, n_estimators=117; total time=   6.5s\n",
      "[CV] END ......bootstrap=True, max_depth=8, n_estimators=121; total time=   6.2s\n",
      "[CV] END ......bootstrap=True, max_depth=8, n_estimators=123; total time=   6.9s\n",
      "[CV] END ......bootstrap=True, max_depth=8, n_estimators=127; total time=   7.3s\n",
      "[CV] END ......bootstrap=True, max_depth=8, n_estimators=129; total time=   7.2s\n",
      "[CV] END ......bootstrap=True, max_depth=8, n_estimators=133; total time=   7.6s\n",
      "[CV] END ......bootstrap=True, max_depth=8, n_estimators=137; total time=   7.5s\n",
      "[CV] END ......bootstrap=True, max_depth=8, n_estimators=140; total time=   7.7s\n",
      "[CV] END .......bootstrap=True, max_depth=9, n_estimators=82; total time=   5.1s\n",
      "[CV] END .......bootstrap=True, max_depth=9, n_estimators=86; total time=   5.3s\n",
      "[CV] END .......bootstrap=True, max_depth=9, n_estimators=88; total time=   5.3s\n",
      "[CV] END .......bootstrap=True, max_depth=9, n_estimators=92; total time=   5.3s\n",
      "[CV] END .......bootstrap=True, max_depth=9, n_estimators=96; total time=   4.6s\n",
      "[CV] END .......bootstrap=True, max_depth=9, n_estimators=98; total time=   5.4s\n",
      "[CV] END ......bootstrap=True, max_depth=9, n_estimators=102; total time=   5.1s\n",
      "[CV] END ......bootstrap=True, max_depth=9, n_estimators=104; total time=   5.3s\n",
      "[CV] END ......bootstrap=True, max_depth=9, n_estimators=108; total time=   5.8s\n",
      "[CV] END ......bootstrap=True, max_depth=9, n_estimators=113; total time=   7.1s\n",
      "[CV] END ......bootstrap=True, max_depth=9, n_estimators=115; total time=   7.0s\n",
      "[CV] END ......bootstrap=True, max_depth=9, n_estimators=119; total time=   6.5s\n",
      "[CV] END ......bootstrap=True, max_depth=9, n_estimators=121; total time=   7.0s\n",
      "[CV] END ......bootstrap=True, max_depth=9, n_estimators=125; total time=   6.3s\n",
      "[CV] END ......bootstrap=True, max_depth=9, n_estimators=129; total time=   6.4s\n",
      "[CV] END ......bootstrap=True, max_depth=9, n_estimators=131; total time=   7.6s\n",
      "[CV] END ......bootstrap=True, max_depth=9, n_estimators=135; total time=   7.2s\n",
      "[CV] END ......bootstrap=True, max_depth=9, n_estimators=137; total time=   6.5s\n",
      "[CV] END ......bootstrap=True, max_depth=10, n_estimators=80; total time=   4.1s\n",
      "[CV] END ......bootstrap=True, max_depth=10, n_estimators=82; total time=   4.4s\n",
      "[CV] END ......bootstrap=True, max_depth=10, n_estimators=86; total time=   5.7s\n",
      "[CV] END ......bootstrap=True, max_depth=10, n_estimators=90; total time=   5.2s\n",
      "[CV] END ......bootstrap=True, max_depth=10, n_estimators=92; total time=   4.7s\n",
      "[CV] END ......bootstrap=True, max_depth=10, n_estimators=96; total time=   5.0s\n",
      "[CV] END ......bootstrap=True, max_depth=10, n_estimators=98; total time=   5.4s\n",
      "[CV] END .....bootstrap=True, max_depth=10, n_estimators=102; total time=   6.6s\n",
      "[CV] END .....bootstrap=True, max_depth=10, n_estimators=106; total time=   7.0s\n",
      "[CV] END .....bootstrap=True, max_depth=10, n_estimators=108; total time=   7.4s\n",
      "[CV] END .....bootstrap=True, max_depth=10, n_estimators=113; total time=   7.7s\n",
      "[CV] END .....bootstrap=True, max_depth=10, n_estimators=115; total time=   7.0s\n",
      "[CV] END .....bootstrap=True, max_depth=10, n_estimators=119; total time=   6.1s\n",
      "[CV] END .....bootstrap=True, max_depth=10, n_estimators=123; total time=   8.3s\n",
      "[CV] END .....bootstrap=True, max_depth=10, n_estimators=125; total time=   7.8s\n",
      "[CV] END .....bootstrap=True, max_depth=10, n_estimators=129; total time=   9.5s\n",
      "[CV] END .....bootstrap=True, max_depth=10, n_estimators=131; total time=   8.8s\n",
      "[CV] END .....bootstrap=True, max_depth=10, n_estimators=135; total time=   9.6s\n",
      "[CV] END .....bootstrap=True, max_depth=10, n_estimators=140; total time=   8.3s\n",
      "[CV] END ......bootstrap=True, max_depth=11, n_estimators=80; total time=   6.1s\n",
      "[CV] END ......bootstrap=True, max_depth=11, n_estimators=84; total time=   6.2s\n",
      "[CV] END ......bootstrap=True, max_depth=11, n_estimators=86; total time=   6.4s\n",
      "[CV] END ......bootstrap=True, max_depth=11, n_estimators=90; total time=   6.5s\n",
      "[CV] END ......bootstrap=True, max_depth=11, n_estimators=94; total time=   7.7s\n",
      "[CV] END ......bootstrap=True, max_depth=11, n_estimators=96; total time=   8.2s\n",
      "[CV] END .....bootstrap=True, max_depth=11, n_estimators=100; total time=   7.8s\n",
      "[CV] END .....bootstrap=True, max_depth=11, n_estimators=102; total time=   7.4s\n",
      "[CV] END .....bootstrap=True, max_depth=11, n_estimators=106; total time=   6.6s\n",
      "[CV] END .....bootstrap=True, max_depth=11, n_estimators=111; total time=   8.1s\n",
      "[CV] END .....bootstrap=True, max_depth=11, n_estimators=113; total time=   7.7s\n",
      "[CV] END .....bootstrap=True, max_depth=11, n_estimators=117; total time=   7.2s\n",
      "[CV] END .....bootstrap=True, max_depth=11, n_estimators=119; total time=   8.2s\n",
      "[CV] END .....bootstrap=True, max_depth=11, n_estimators=123; total time=  10.1s\n",
      "[CV] END .....bootstrap=True, max_depth=11, n_estimators=127; total time=   8.2s\n",
      "[CV] END .....bootstrap=True, max_depth=11, n_estimators=129; total time=   8.1s\n",
      "[CV] END .....bootstrap=True, max_depth=11, n_estimators=133; total time=   8.5s\n",
      "[CV] END .....bootstrap=True, max_depth=11, n_estimators=135; total time=   9.2s\n",
      "[CV] END .....bootstrap=True, max_depth=11, n_estimators=140; total time=   9.0s\n",
      "[CV] END ......bootstrap=True, max_depth=12, n_estimators=82; total time=   6.6s\n",
      "[CV] END ......bootstrap=True, max_depth=12, n_estimators=84; total time=   6.6s\n",
      "[CV] END ......bootstrap=True, max_depth=12, n_estimators=88; total time=   6.8s\n",
      "[CV] END ......bootstrap=True, max_depth=12, n_estimators=92; total time=   6.8s\n",
      "[CV] END ......bootstrap=True, max_depth=12, n_estimators=94; total time=   7.5s\n",
      "[CV] END ......bootstrap=True, max_depth=12, n_estimators=98; total time=   6.7s\n",
      "[CV] END .....bootstrap=True, max_depth=12, n_estimators=100; total time=   7.9s\n",
      "[CV] END .....bootstrap=True, max_depth=12, n_estimators=104; total time=   7.0s\n",
      "[CV] END .....bootstrap=True, max_depth=12, n_estimators=108; total time=   6.2s\n",
      "[CV] END .....bootstrap=True, max_depth=12, n_estimators=111; total time=   6.4s\n",
      "[CV] END .....bootstrap=True, max_depth=12, n_estimators=115; total time=   8.3s\n",
      "[CV] END .....bootstrap=True, max_depth=12, n_estimators=117; total time=   8.2s\n",
      "[CV] END .....bootstrap=True, max_depth=12, n_estimators=121; total time=   7.3s\n",
      "[CV] END .....bootstrap=True, max_depth=12, n_estimators=125; total time=   8.1s\n",
      "[CV] END .....bootstrap=True, max_depth=12, n_estimators=127; total time=   9.6s\n",
      "[CV] END .....bootstrap=True, max_depth=12, n_estimators=131; total time=   8.8s\n",
      "[CV] END .....bootstrap=True, max_depth=12, n_estimators=133; total time=   8.0s\n",
      "[CV] END .....bootstrap=True, max_depth=12, n_estimators=137; total time=   8.8s\n",
      "[CV] END ......bootstrap=True, max_depth=13, n_estimators=80; total time=   6.3s\n",
      "[CV] END ......bootstrap=True, max_depth=13, n_estimators=82; total time=   7.1s\n",
      "[CV] END ......bootstrap=True, max_depth=13, n_estimators=84; total time=   6.5s\n",
      "[CV] END ......bootstrap=True, max_depth=13, n_estimators=88; total time=   8.1s\n",
      "[CV] END ......bootstrap=True, max_depth=13, n_estimators=90; total time=   7.0s\n",
      "[CV] END ......bootstrap=True, max_depth=13, n_estimators=94; total time=   6.6s\n",
      "[CV] END ......bootstrap=True, max_depth=13, n_estimators=98; total time=   7.7s\n",
      "[CV] END .....bootstrap=True, max_depth=13, n_estimators=100; total time=   8.2s\n",
      "[CV] END .....bootstrap=True, max_depth=13, n_estimators=104; total time=   8.5s\n",
      "[CV] END .....bootstrap=True, max_depth=13, n_estimators=106; total time=   7.9s\n",
      "[CV] END .....bootstrap=True, max_depth=13, n_estimators=111; total time=   8.3s\n",
      "[CV] END .....bootstrap=True, max_depth=13, n_estimators=115; total time=   7.9s\n",
      "[CV] END .....bootstrap=True, max_depth=13, n_estimators=117; total time=   8.9s\n",
      "[CV] END .....bootstrap=True, max_depth=13, n_estimators=121; total time=   8.8s\n",
      "[CV] END .....bootstrap=True, max_depth=13, n_estimators=123; total time=   7.9s\n",
      "[CV] END .....bootstrap=True, max_depth=13, n_estimators=127; total time=   8.5s\n",
      "[CV] END .....bootstrap=True, max_depth=13, n_estimators=131; total time=   8.5s\n",
      "[CV] END .....bootstrap=True, max_depth=13, n_estimators=133; total time=  10.3s\n",
      "[CV] END .....bootstrap=True, max_depth=13, n_estimators=137; total time=   9.6s\n",
      "[CV] END .....bootstrap=True, max_depth=13, n_estimators=140; total time=   8.9s\n",
      "[CV] END ......bootstrap=True, max_depth=14, n_estimators=84; total time=   6.4s\n",
      "[CV] END ......bootstrap=True, max_depth=14, n_estimators=86; total time=   5.5s\n",
      "[CV] END ......bootstrap=True, max_depth=14, n_estimators=90; total time=   6.4s\n",
      "[CV] END ......bootstrap=True, max_depth=14, n_estimators=94; total time=   7.4s\n",
      "[CV] END ......bootstrap=True, max_depth=14, n_estimators=96; total time=   7.7s\n",
      "[CV] END .....bootstrap=True, max_depth=14, n_estimators=100; total time=   9.4s\n",
      "[CV] END .....bootstrap=True, max_depth=14, n_estimators=102; total time=   6.7s\n",
      "[CV] END .....bootstrap=True, max_depth=14, n_estimators=106; total time=   8.1s\n",
      "[CV] END .....bootstrap=True, max_depth=14, n_estimators=111; total time=   8.6s\n",
      "[CV] END .....bootstrap=True, max_depth=14, n_estimators=113; total time=   9.0s\n",
      "[CV] END .....bootstrap=True, max_depth=14, n_estimators=117; total time=   9.6s\n",
      "[CV] END .....bootstrap=True, max_depth=14, n_estimators=119; total time=   9.2s\n",
      "[CV] END .....bootstrap=True, max_depth=14, n_estimators=123; total time=   8.3s\n",
      "[CV] END .....bootstrap=True, max_depth=14, n_estimators=127; total time=   8.4s\n",
      "[CV] END .....bootstrap=True, max_depth=14, n_estimators=129; total time=   8.2s\n",
      "[CV] END .....bootstrap=True, max_depth=14, n_estimators=133; total time=   8.7s\n",
      "[CV] END .....bootstrap=True, max_depth=14, n_estimators=135; total time=   8.6s\n",
      "[CV] END .....bootstrap=True, max_depth=14, n_estimators=140; total time=   9.1s\n",
      "[CV] END ......bootstrap=True, max_depth=15, n_estimators=82; total time=   7.0s\n",
      "[CV] END ......bootstrap=True, max_depth=15, n_estimators=84; total time=   6.3s\n",
      "[CV] END ......bootstrap=True, max_depth=15, n_estimators=88; total time=   6.9s\n",
      "[CV] END ......bootstrap=True, max_depth=15, n_estimators=92; total time=   6.9s\n",
      "[CV] END ......bootstrap=True, max_depth=15, n_estimators=94; total time=   7.3s\n",
      "[CV] END ......bootstrap=True, max_depth=15, n_estimators=98; total time=   8.5s\n",
      "[CV] END .....bootstrap=True, max_depth=15, n_estimators=100; total time=   9.1s\n",
      "[CV] END .....bootstrap=True, max_depth=15, n_estimators=104; total time=   8.9s\n",
      "[CV] END .....bootstrap=True, max_depth=15, n_estimators=108; total time=   7.7s\n",
      "[CV] END .....bootstrap=True, max_depth=15, n_estimators=111; total time=   8.9s\n",
      "[CV] END .....bootstrap=True, max_depth=15, n_estimators=115; total time=  10.2s\n",
      "[CV] END .....bootstrap=True, max_depth=15, n_estimators=117; total time=   9.4s\n",
      "[CV] END .....bootstrap=True, max_depth=15, n_estimators=121; total time=   8.0s\n",
      "[CV] END .....bootstrap=True, max_depth=15, n_estimators=125; total time=   8.4s\n",
      "[CV] END .....bootstrap=True, max_depth=15, n_estimators=127; total time=   8.5s\n",
      "[CV] END .....bootstrap=True, max_depth=15, n_estimators=131; total time=   8.6s\n",
      "[CV] END .....bootstrap=True, max_depth=15, n_estimators=133; total time=  10.5s\n",
      "[CV] END .....bootstrap=True, max_depth=15, n_estimators=137; total time=  12.3s\n",
      "[CV] END ......bootstrap=True, max_depth=16, n_estimators=80; total time=   7.6s\n",
      "[CV] END ......bootstrap=True, max_depth=16, n_estimators=82; total time=   7.4s\n",
      "[CV] END ......bootstrap=True, max_depth=16, n_estimators=84; total time=   6.3s\n",
      "[CV] END ......bootstrap=True, max_depth=16, n_estimators=88; total time=   6.6s\n",
      "[CV] END ......bootstrap=True, max_depth=16, n_estimators=92; total time=   7.8s\n",
      "[CV] END ......bootstrap=True, max_depth=16, n_estimators=94; total time=   7.1s\n",
      "[CV] END ......bootstrap=True, max_depth=16, n_estimators=98; total time=   8.2s\n",
      "[CV] END .....bootstrap=True, max_depth=16, n_estimators=100; total time=   7.7s\n",
      "[CV] END .....bootstrap=True, max_depth=16, n_estimators=104; total time=  10.0s\n",
      "[CV] END .....bootstrap=True, max_depth=16, n_estimators=108; total time=   8.9s\n",
      "[CV] END .....bootstrap=True, max_depth=16, n_estimators=111; total time=  10.6s\n",
      "[CV] END .....bootstrap=True, max_depth=16, n_estimators=115; total time=   8.9s\n",
      "[CV] END .....bootstrap=True, max_depth=16, n_estimators=117; total time=  11.2s\n",
      "[CV] END .....bootstrap=True, max_depth=16, n_estimators=121; total time=  10.0s\n",
      "[CV] END .....bootstrap=True, max_depth=16, n_estimators=125; total time=   9.5s\n",
      "[CV] END .....bootstrap=True, max_depth=16, n_estimators=127; total time=  12.1s\n",
      "[CV] END .....bootstrap=True, max_depth=16, n_estimators=131; total time=   9.2s\n",
      "[CV] END .....bootstrap=True, max_depth=16, n_estimators=133; total time=   9.0s\n",
      "[CV] END .....bootstrap=True, max_depth=16, n_estimators=137; total time=  13.6s\n",
      "[CV] END ......bootstrap=True, max_depth=18, n_estimators=80; total time=   7.2s\n",
      "[CV] END ......bootstrap=True, max_depth=18, n_estimators=82; total time=   7.1s\n",
      "[CV] END ......bootstrap=True, max_depth=18, n_estimators=84; total time=   6.2s\n",
      "[CV] END ......bootstrap=True, max_depth=18, n_estimators=88; total time=   6.3s\n",
      "[CV] END ......bootstrap=True, max_depth=18, n_estimators=90; total time=   8.7s\n",
      "[CV] END ......bootstrap=True, max_depth=18, n_estimators=94; total time=   7.3s\n",
      "[CV] END ......bootstrap=True, max_depth=18, n_estimators=98; total time=   8.3s\n",
      "[CV] END .....bootstrap=True, max_depth=18, n_estimators=100; total time=   8.9s\n",
      "[CV] END .....bootstrap=True, max_depth=18, n_estimators=104; total time=   8.6s\n"
     ]
    },
    {
     "name": "stdout",
     "output_type": "stream",
     "text": [
      "[CV] END .....................max_depth=11, n_estimators=174; total time=  11.9s\n",
      "[CV] END ......................max_depth=8, n_estimators=174; total time=   8.7s\n",
      "[CV] END ......................max_depth=8, n_estimators=174; total time=   9.8s\n",
      "[CV] END ......................max_depth=8, n_estimators=143; total time=   8.8s\n",
      "[CV] END .....................max_depth=13, n_estimators=193; total time=  14.7s\n",
      "[CV] END .....................max_depth=12, n_estimators=130; total time=   9.9s\n",
      "[CV] END .....................max_depth=11, n_estimators=174; total time=  11.0s\n",
      "[CV] END .....................max_depth=11, n_estimators=174; total time=  13.4s\n",
      "[CV] END .....................max_depth=10, n_estimators=136; total time=   9.5s\n",
      "[CV] END .....................max_depth=14, n_estimators=143; total time=  11.1s\n",
      "[CV] END .....................max_depth=14, n_estimators=168; total time=  12.9s\n",
      "[CV] END ......................max_depth=9, n_estimators=111; total time=   7.0s\n",
      "[CV] END ......................max_depth=9, n_estimators=111; total time=   7.6s\n",
      "[CV] END .....................max_depth=10, n_estimators=117; total time=   8.8s\n",
      "[CV] END ......................max_depth=15, n_estimators=92; total time=   8.6s\n",
      "[CV] END .....................max_depth=14, n_estimators=111; total time=   8.3s\n",
      "[CV] END .....................max_depth=14, n_estimators=111; total time=   8.2s\n",
      "[CV] END .....................max_depth=10, n_estimators=193; total time=  13.3s\n",
      "[CV] END .....................max_depth=15, n_estimators=117; total time=  10.1s\n",
      "[CV] END .....................max_depth=14, n_estimators=187; total time=  14.6s\n",
      "[CV] END ......................max_depth=9, n_estimators=181; total time=  12.7s\n",
      "[CV] END ......................max_depth=9, n_estimators=181; total time=  10.4s\n",
      "[CV] END .....................max_depth=13, n_estimators=155; total time=  11.6s\n",
      "[CV] END ......................max_depth=11, n_estimators=92; total time=   7.4s\n",
      "[CV] END .....................max_depth=10, n_estimators=130; total time=   9.7s\n",
      "[CV] END .......bootstrap=True, max_depth=8, n_estimators=82; total time=   4.4s\n",
      "[CV] END .......bootstrap=True, max_depth=8, n_estimators=86; total time=   3.6s\n",
      "[CV] END .......bootstrap=True, max_depth=8, n_estimators=88; total time=   4.2s\n",
      "[CV] END .......bootstrap=True, max_depth=8, n_estimators=92; total time=   4.1s\n",
      "[CV] END .......bootstrap=True, max_depth=8, n_estimators=94; total time=   4.2s\n",
      "[CV] END .......bootstrap=True, max_depth=8, n_estimators=98; total time=   4.8s\n",
      "[CV] END ......bootstrap=True, max_depth=8, n_estimators=102; total time=   5.3s\n",
      "[CV] END ......bootstrap=True, max_depth=8, n_estimators=104; total time=   5.0s\n",
      "[CV] END ......bootstrap=True, max_depth=8, n_estimators=108; total time=   5.0s\n",
      "[CV] END ......bootstrap=True, max_depth=8, n_estimators=111; total time=   4.7s\n",
      "[CV] END ......bootstrap=True, max_depth=8, n_estimators=115; total time=   5.8s\n",
      "[CV] END ......bootstrap=True, max_depth=8, n_estimators=119; total time=   6.5s\n",
      "[CV] END ......bootstrap=True, max_depth=8, n_estimators=121; total time=   6.3s\n",
      "[CV] END ......bootstrap=True, max_depth=8, n_estimators=125; total time=   7.0s\n",
      "[CV] END ......bootstrap=True, max_depth=8, n_estimators=127; total time=   7.1s\n",
      "[CV] END ......bootstrap=True, max_depth=8, n_estimators=131; total time=   7.6s\n",
      "[CV] END ......bootstrap=True, max_depth=8, n_estimators=135; total time=   7.6s\n",
      "[CV] END ......bootstrap=True, max_depth=8, n_estimators=137; total time=   7.4s\n",
      "[CV] END .......bootstrap=True, max_depth=9, n_estimators=80; total time=   4.9s\n",
      "[CV] END .......bootstrap=True, max_depth=9, n_estimators=80; total time=   4.7s\n",
      "[CV] END .......bootstrap=True, max_depth=9, n_estimators=84; total time=   5.5s\n",
      "[CV] END .......bootstrap=True, max_depth=9, n_estimators=86; total time=   5.1s\n",
      "[CV] END .......bootstrap=True, max_depth=9, n_estimators=90; total time=   5.4s\n",
      "[CV] END .......bootstrap=True, max_depth=9, n_estimators=94; total time=   4.7s\n",
      "[CV] END .......bootstrap=True, max_depth=9, n_estimators=96; total time=   5.1s\n",
      "[CV] END ......bootstrap=True, max_depth=9, n_estimators=100; total time=   5.0s\n",
      "[CV] END ......bootstrap=True, max_depth=9, n_estimators=102; total time=   5.0s\n",
      "[CV] END ......bootstrap=True, max_depth=9, n_estimators=106; total time=   5.8s\n",
      "[CV] END ......bootstrap=True, max_depth=9, n_estimators=111; total time=   6.6s\n",
      "[CV] END ......bootstrap=True, max_depth=9, n_estimators=113; total time=   6.8s\n",
      "[CV] END ......bootstrap=True, max_depth=9, n_estimators=117; total time=   6.7s\n",
      "[CV] END ......bootstrap=True, max_depth=9, n_estimators=119; total time=   6.7s\n",
      "[CV] END ......bootstrap=True, max_depth=9, n_estimators=123; total time=   7.0s\n",
      "[CV] END ......bootstrap=True, max_depth=9, n_estimators=127; total time=   6.2s\n",
      "[CV] END ......bootstrap=True, max_depth=9, n_estimators=129; total time=   7.0s\n",
      "[CV] END ......bootstrap=True, max_depth=9, n_estimators=133; total time=   7.4s\n",
      "[CV] END ......bootstrap=True, max_depth=9, n_estimators=135; total time=   6.6s\n",
      "[CV] END ......bootstrap=True, max_depth=9, n_estimators=140; total time=   6.6s\n",
      "[CV] END ......bootstrap=True, max_depth=10, n_estimators=82; total time=   4.2s\n",
      "[CV] END ......bootstrap=True, max_depth=10, n_estimators=86; total time=   5.8s\n",
      "[CV] END ......bootstrap=True, max_depth=10, n_estimators=88; total time=   5.2s\n",
      "[CV] END ......bootstrap=True, max_depth=10, n_estimators=92; total time=   4.6s\n",
      "[CV] END ......bootstrap=True, max_depth=10, n_estimators=94; total time=   4.9s\n",
      "[CV] END ......bootstrap=True, max_depth=10, n_estimators=98; total time=   5.2s\n",
      "[CV] END .....bootstrap=True, max_depth=10, n_estimators=102; total time=   6.5s\n",
      "[CV] END .....bootstrap=True, max_depth=10, n_estimators=104; total time=   6.9s\n",
      "[CV] END .....bootstrap=True, max_depth=10, n_estimators=108; total time=   7.4s\n",
      "[CV] END .....bootstrap=True, max_depth=10, n_estimators=111; total time=   7.5s\n",
      "[CV] END .....bootstrap=True, max_depth=10, n_estimators=115; total time=   7.4s\n",
      "[CV] END .....bootstrap=True, max_depth=10, n_estimators=119; total time=   6.2s\n",
      "[CV] END .....bootstrap=True, max_depth=10, n_estimators=121; total time=   7.8s\n",
      "[CV] END .....bootstrap=True, max_depth=10, n_estimators=125; total time=   7.7s\n",
      "[CV] END .....bootstrap=True, max_depth=10, n_estimators=127; total time=   9.4s\n",
      "[CV] END .....bootstrap=True, max_depth=10, n_estimators=131; total time=   8.8s\n",
      "[CV] END .....bootstrap=True, max_depth=10, n_estimators=135; total time=   9.4s\n",
      "[CV] END .....bootstrap=True, max_depth=10, n_estimators=137; total time=   8.6s\n",
      "[CV] END ......bootstrap=True, max_depth=11, n_estimators=80; total time=   5.8s\n",
      "[CV] END ......bootstrap=True, max_depth=11, n_estimators=82; total time=   6.0s\n",
      "[CV] END ......bootstrap=True, max_depth=11, n_estimators=86; total time=   6.3s\n",
      "[CV] END ......bootstrap=True, max_depth=11, n_estimators=88; total time=   6.4s\n",
      "[CV] END ......bootstrap=True, max_depth=11, n_estimators=92; total time=   7.2s\n",
      "[CV] END ......bootstrap=True, max_depth=11, n_estimators=94; total time=   7.8s\n",
      "[CV] END ......bootstrap=True, max_depth=11, n_estimators=98; total time=   8.0s\n",
      "[CV] END .....bootstrap=True, max_depth=11, n_estimators=102; total time=   7.7s\n",
      "[CV] END .....bootstrap=True, max_depth=11, n_estimators=104; total time=   6.8s\n",
      "[CV] END .....bootstrap=True, max_depth=11, n_estimators=108; total time=   7.5s\n",
      "[CV] END .....bootstrap=True, max_depth=11, n_estimators=111; total time=   7.6s\n",
      "[CV] END .....bootstrap=True, max_depth=11, n_estimators=115; total time=   7.5s\n",
      "[CV] END .....bootstrap=True, max_depth=11, n_estimators=119; total time=   8.0s\n",
      "[CV] END .....bootstrap=True, max_depth=11, n_estimators=121; total time=   9.1s\n",
      "[CV] END .....bootstrap=True, max_depth=11, n_estimators=125; total time=   9.2s\n",
      "[CV] END .....bootstrap=True, max_depth=11, n_estimators=127; total time=   7.0s\n",
      "[CV] END .....bootstrap=True, max_depth=11, n_estimators=131; total time=   8.5s\n",
      "[CV] END .....bootstrap=True, max_depth=11, n_estimators=135; total time=   9.4s\n",
      "[CV] END .....bootstrap=True, max_depth=11, n_estimators=137; total time=   8.6s\n",
      "[CV] END ......bootstrap=True, max_depth=12, n_estimators=80; total time=   6.3s\n",
      "[CV] END ......bootstrap=True, max_depth=12, n_estimators=82; total time=   6.6s\n",
      "[CV] END ......bootstrap=True, max_depth=12, n_estimators=86; total time=   6.5s\n",
      "[CV] END ......bootstrap=True, max_depth=12, n_estimators=88; total time=   6.8s\n",
      "[CV] END ......bootstrap=True, max_depth=12, n_estimators=92; total time=   6.7s\n",
      "[CV] END ......bootstrap=True, max_depth=12, n_estimators=96; total time=   7.6s\n",
      "[CV] END ......bootstrap=True, max_depth=12, n_estimators=98; total time=   7.1s\n",
      "[CV] END .....bootstrap=True, max_depth=12, n_estimators=102; total time=   7.5s\n",
      "[CV] END .....bootstrap=True, max_depth=12, n_estimators=104; total time=   6.7s\n",
      "[CV] END .....bootstrap=True, max_depth=12, n_estimators=108; total time=   6.2s\n",
      "[CV] END .....bootstrap=True, max_depth=12, n_estimators=113; total time=   6.8s\n",
      "[CV] END .....bootstrap=True, max_depth=12, n_estimators=115; total time=   8.4s\n",
      "[CV] END .....bootstrap=True, max_depth=12, n_estimators=119; total time=   8.1s\n",
      "[CV] END .....bootstrap=True, max_depth=12, n_estimators=121; total time=   7.1s\n",
      "[CV] END .....bootstrap=True, max_depth=12, n_estimators=125; total time=   8.4s\n",
      "[CV] END .....bootstrap=True, max_depth=12, n_estimators=129; total time=   9.9s\n",
      "[CV] END .....bootstrap=True, max_depth=12, n_estimators=131; total time=   8.4s\n",
      "[CV] END .....bootstrap=True, max_depth=12, n_estimators=135; total time=   7.9s\n",
      "[CV] END .....bootstrap=True, max_depth=12, n_estimators=137; total time=   9.3s\n",
      "[CV] END ......bootstrap=True, max_depth=13, n_estimators=80; total time=   6.9s\n",
      "[CV] END ......bootstrap=True, max_depth=13, n_estimators=82; total time=   6.4s\n",
      "[CV] END ......bootstrap=True, max_depth=13, n_estimators=86; total time=   7.6s\n",
      "[CV] END ......bootstrap=True, max_depth=13, n_estimators=90; total time=   7.8s\n",
      "[CV] END ......bootstrap=True, max_depth=13, n_estimators=92; total time=   6.7s\n",
      "[CV] END ......bootstrap=True, max_depth=13, n_estimators=96; total time=   6.7s\n",
      "[CV] END ......bootstrap=True, max_depth=13, n_estimators=98; total time=   8.1s\n",
      "[CV] END .....bootstrap=True, max_depth=13, n_estimators=102; total time=   8.2s\n",
      "[CV] END .....bootstrap=True, max_depth=13, n_estimators=106; total time=   8.4s\n",
      "[CV] END .....bootstrap=True, max_depth=13, n_estimators=108; total time=   8.3s\n",
      "[CV] END .....bootstrap=True, max_depth=13, n_estimators=113; total time=   7.6s\n",
      "[CV] END .....bootstrap=True, max_depth=13, n_estimators=115; total time=   8.8s\n",
      "[CV] END .....bootstrap=True, max_depth=13, n_estimators=119; total time=   8.7s\n",
      "[CV] END .....bootstrap=True, max_depth=13, n_estimators=123; total time=   8.4s\n",
      "[CV] END .....bootstrap=True, max_depth=13, n_estimators=125; total time=   8.0s\n",
      "[CV] END .....bootstrap=True, max_depth=13, n_estimators=129; total time=   8.4s\n",
      "[CV] END .....bootstrap=True, max_depth=13, n_estimators=131; total time=   9.3s\n",
      "[CV] END .....bootstrap=True, max_depth=13, n_estimators=135; total time=  10.3s\n",
      "[CV] END .....bootstrap=True, max_depth=13, n_estimators=140; total time=   9.0s\n",
      "[CV] END ......bootstrap=True, max_depth=14, n_estimators=80; total time=   5.5s\n",
      "[CV] END ......bootstrap=True, max_depth=14, n_estimators=84; total time=   6.3s\n",
      "[CV] END ......bootstrap=True, max_depth=14, n_estimators=86; total time=   5.5s\n",
      "[CV] END ......bootstrap=True, max_depth=14, n_estimators=90; total time=   6.3s\n",
      "[CV] END ......bootstrap=True, max_depth=14, n_estimators=92; total time=   7.3s\n",
      "[CV] END ......bootstrap=True, max_depth=14, n_estimators=96; total time=   7.5s\n",
      "[CV] END .....bootstrap=True, max_depth=14, n_estimators=100; total time=   9.5s\n",
      "[CV] END .....bootstrap=True, max_depth=14, n_estimators=102; total time=   6.7s\n",
      "[CV] END .....bootstrap=True, max_depth=14, n_estimators=106; total time=   8.1s\n",
      "[CV] END .....bootstrap=True, max_depth=14, n_estimators=108; total time=   8.3s\n",
      "[CV] END .....bootstrap=True, max_depth=14, n_estimators=113; total time=   8.8s\n",
      "[CV] END .....bootstrap=True, max_depth=14, n_estimators=117; total time=   9.6s\n",
      "[CV] END .....bootstrap=True, max_depth=14, n_estimators=119; total time=   9.2s\n",
      "[CV] END .....bootstrap=True, max_depth=14, n_estimators=123; total time=   8.5s\n",
      "[CV] END .....bootstrap=True, max_depth=14, n_estimators=125; total time=   8.0s\n",
      "[CV] END .....bootstrap=True, max_depth=14, n_estimators=129; total time=   8.5s\n",
      "[CV] END .....bootstrap=True, max_depth=14, n_estimators=133; total time=   8.7s\n",
      "[CV] END .....bootstrap=True, max_depth=14, n_estimators=135; total time=   8.7s\n",
      "[CV] END .....bootstrap=True, max_depth=14, n_estimators=140; total time=   9.1s\n",
      "[CV] END ......bootstrap=True, max_depth=15, n_estimators=80; total time=   6.5s\n",
      "[CV] END ......bootstrap=True, max_depth=15, n_estimators=84; total time=   6.4s\n",
      "[CV] END ......bootstrap=True, max_depth=15, n_estimators=88; total time=   6.9s\n",
      "[CV] END ......bootstrap=True, max_depth=15, n_estimators=90; total time=   6.8s\n",
      "[CV] END ......bootstrap=True, max_depth=15, n_estimators=94; total time=   6.8s\n",
      "[CV] END ......bootstrap=True, max_depth=15, n_estimators=96; total time=   8.4s\n",
      "[CV] END .....bootstrap=True, max_depth=15, n_estimators=100; total time=   9.1s\n",
      "[CV] END .....bootstrap=True, max_depth=15, n_estimators=104; total time=   9.2s\n",
      "[CV] END .....bootstrap=True, max_depth=15, n_estimators=106; total time=   7.3s\n",
      "[CV] END .....bootstrap=True, max_depth=15, n_estimators=111; total time=   8.6s\n",
      "[CV] END .....bootstrap=True, max_depth=15, n_estimators=113; total time=  10.0s\n",
      "[CV] END .....bootstrap=True, max_depth=15, n_estimators=117; total time=   9.3s\n",
      "[CV] END .....bootstrap=True, max_depth=15, n_estimators=121; total time=   8.7s\n",
      "[CV] END .....bootstrap=True, max_depth=15, n_estimators=123; total time=   8.2s\n",
      "[CV] END .....bootstrap=True, max_depth=15, n_estimators=127; total time=   8.4s\n",
      "[CV] END .....bootstrap=True, max_depth=15, n_estimators=129; total time=   8.4s\n",
      "[CV] END .....bootstrap=True, max_depth=15, n_estimators=133; total time=   9.7s\n",
      "[CV] END .....bootstrap=True, max_depth=15, n_estimators=137; total time=  12.4s\n",
      "[CV] END .....bootstrap=True, max_depth=15, n_estimators=140; total time=  12.4s\n",
      "[CV] END ......bootstrap=True, max_depth=16, n_estimators=82; total time=   7.4s\n",
      "[CV] END ......bootstrap=True, max_depth=16, n_estimators=86; total time=   6.6s\n",
      "[CV] END ......bootstrap=True, max_depth=16, n_estimators=88; total time=   6.8s\n",
      "[CV] END ......bootstrap=True, max_depth=16, n_estimators=92; total time=   7.1s\n",
      "[CV] END ......bootstrap=True, max_depth=16, n_estimators=96; total time=   7.3s\n",
      "[CV] END ......bootstrap=True, max_depth=16, n_estimators=98; total time=   8.8s\n",
      "[CV] END .....bootstrap=True, max_depth=16, n_estimators=102; total time=   8.1s\n",
      "[CV] END .....bootstrap=True, max_depth=16, n_estimators=104; total time=   9.8s\n",
      "[CV] END .....bootstrap=True, max_depth=16, n_estimators=108; total time=   9.2s\n",
      "[CV] END .....bootstrap=True, max_depth=16, n_estimators=113; total time=  10.4s\n",
      "[CV] END .....bootstrap=True, max_depth=16, n_estimators=115; total time=   8.8s\n",
      "[CV] END .....bootstrap=True, max_depth=16, n_estimators=119; total time=  10.8s\n",
      "[CV] END .....bootstrap=True, max_depth=16, n_estimators=121; total time=  11.0s\n",
      "[CV] END .....bootstrap=True, max_depth=16, n_estimators=125; total time=   8.9s\n",
      "[CV] END .....bootstrap=True, max_depth=16, n_estimators=129; total time=  12.0s\n",
      "[CV] END .....bootstrap=True, max_depth=16, n_estimators=131; total time=   8.9s\n",
      "[CV] END .....bootstrap=True, max_depth=16, n_estimators=135; total time=   9.8s\n",
      "[CV] END .....bootstrap=True, max_depth=16, n_estimators=137; total time=  13.7s\n",
      "[CV] END ......bootstrap=True, max_depth=18, n_estimators=80; total time=   7.3s\n",
      "[CV] END ......bootstrap=True, max_depth=18, n_estimators=82; total time=   6.7s\n",
      "[CV] END ......bootstrap=True, max_depth=18, n_estimators=86; total time=   6.1s\n",
      "[CV] END ......bootstrap=True, max_depth=18, n_estimators=90; total time=   6.8s\n",
      "[CV] END ......bootstrap=True, max_depth=18, n_estimators=92; total time=   8.9s\n",
      "[CV] END ......bootstrap=True, max_depth=18, n_estimators=96; total time=   7.5s\n",
      "[CV] END ......bootstrap=True, max_depth=18, n_estimators=98; total time=   8.8s\n",
      "[CV] END .....bootstrap=True, max_depth=18, n_estimators=102; total time=   8.3s\n"
     ]
    },
    {
     "name": "stdout",
     "output_type": "stream",
     "text": [
      "[CV] END .....................max_depth=11, n_estimators=174; total time=  11.9s\n",
      "[CV] END ......................max_depth=8, n_estimators=174; total time=   8.7s\n",
      "[CV] END ......................max_depth=8, n_estimators=143; total time=   8.1s\n",
      "[CV] END ......................max_depth=8, n_estimators=143; total time=   8.7s\n",
      "[CV] END .....................max_depth=13, n_estimators=193; total time=  14.2s\n",
      "[CV] END .....................max_depth=12, n_estimators=130; total time=  10.3s\n",
      "[CV] END .....................max_depth=12, n_estimators=130; total time=   8.9s\n",
      "[CV] END .....................max_depth=11, n_estimators=174; total time=  13.2s\n",
      "[CV] END .....................max_depth=10, n_estimators=136; total time=   9.4s\n",
      "[CV] END .....................max_depth=14, n_estimators=143; total time=  11.2s\n",
      "[CV] END .....................max_depth=14, n_estimators=168; total time=  12.8s\n",
      "[CV] END .....................max_depth=14, n_estimators=168; total time=  14.0s\n",
      "[CV] END .....................max_depth=10, n_estimators=117; total time=   8.7s\n",
      "[CV] END .....................max_depth=10, n_estimators=117; total time=   9.1s\n",
      "[CV] END ......................max_depth=15, n_estimators=92; total time=   8.1s\n",
      "[CV] END .....................max_depth=14, n_estimators=111; total time=   8.0s\n",
      "[CV] END .....................max_depth=10, n_estimators=193; total time=  12.5s\n",
      "[CV] END .....................max_depth=15, n_estimators=117; total time=  10.1s\n",
      "[CV] END .....................max_depth=15, n_estimators=117; total time=   9.9s\n",
      "[CV] END .....................max_depth=14, n_estimators=187; total time=  15.7s\n",
      "[CV] END ......................max_depth=9, n_estimators=181; total time=  11.7s\n",
      "[CV] END .....................max_depth=13, n_estimators=155; total time=  10.6s\n",
      "[CV] END .....................max_depth=13, n_estimators=155; total time=  12.9s\n",
      "[CV] END ......................max_depth=11, n_estimators=92; total time=   7.3s\n",
      "[CV] END .....................max_depth=10, n_estimators=130; total time=   7.9s\n",
      "[CV] END .......bootstrap=True, max_depth=8, n_estimators=80; total time=   4.3s\n",
      "[CV] END .......bootstrap=True, max_depth=8, n_estimators=84; total time=   3.5s\n",
      "[CV] END .......bootstrap=True, max_depth=8, n_estimators=86; total time=   3.9s\n",
      "[CV] END .......bootstrap=True, max_depth=8, n_estimators=90; total time=   4.2s\n",
      "[CV] END .......bootstrap=True, max_depth=8, n_estimators=92; total time=   4.0s\n",
      "[CV] END .......bootstrap=True, max_depth=8, n_estimators=96; total time=   4.8s\n",
      "[CV] END ......bootstrap=True, max_depth=8, n_estimators=100; total time=   5.0s\n",
      "[CV] END ......bootstrap=True, max_depth=8, n_estimators=102; total time=   5.0s\n",
      "[CV] END ......bootstrap=True, max_depth=8, n_estimators=106; total time=   5.0s\n",
      "[CV] END ......bootstrap=True, max_depth=8, n_estimators=108; total time=   4.5s\n",
      "[CV] END ......bootstrap=True, max_depth=8, n_estimators=113; total time=   5.4s\n",
      "[CV] END ......bootstrap=True, max_depth=8, n_estimators=117; total time=   6.5s\n",
      "[CV] END ......bootstrap=True, max_depth=8, n_estimators=119; total time=   6.1s\n",
      "[CV] END ......bootstrap=True, max_depth=8, n_estimators=123; total time=   7.0s\n",
      "[CV] END ......bootstrap=True, max_depth=8, n_estimators=125; total time=   7.1s\n",
      "[CV] END ......bootstrap=True, max_depth=8, n_estimators=129; total time=   7.2s\n",
      "[CV] END ......bootstrap=True, max_depth=8, n_estimators=133; total time=   7.6s\n",
      "[CV] END ......bootstrap=True, max_depth=8, n_estimators=135; total time=   7.5s\n",
      "[CV] END ......bootstrap=True, max_depth=8, n_estimators=140; total time=   7.7s\n",
      "[CV] END .......bootstrap=True, max_depth=9, n_estimators=82; total time=   4.8s\n",
      "[CV] END .......bootstrap=True, max_depth=9, n_estimators=84; total time=   5.3s\n",
      "[CV] END .......bootstrap=True, max_depth=9, n_estimators=88; total time=   5.2s\n",
      "[CV] END .......bootstrap=True, max_depth=9, n_estimators=90; total time=   5.4s\n",
      "[CV] END .......bootstrap=True, max_depth=9, n_estimators=94; total time=   4.6s\n",
      "[CV] END .......bootstrap=True, max_depth=9, n_estimators=98; total time=   5.1s\n",
      "[CV] END ......bootstrap=True, max_depth=9, n_estimators=100; total time=   5.1s\n",
      "[CV] END ......bootstrap=True, max_depth=9, n_estimators=104; total time=   5.1s\n",
      "[CV] END ......bootstrap=True, max_depth=9, n_estimators=106; total time=   5.8s\n",
      "[CV] END ......bootstrap=True, max_depth=9, n_estimators=111; total time=   6.6s\n",
      "[CV] END ......bootstrap=True, max_depth=9, n_estimators=115; total time=   6.7s\n",
      "[CV] END ......bootstrap=True, max_depth=9, n_estimators=117; total time=   6.7s\n",
      "[CV] END ......bootstrap=True, max_depth=9, n_estimators=121; total time=   6.8s\n",
      "[CV] END ......bootstrap=True, max_depth=9, n_estimators=123; total time=   6.9s\n",
      "[CV] END ......bootstrap=True, max_depth=9, n_estimators=127; total time=   6.3s\n",
      "[CV] END ......bootstrap=True, max_depth=9, n_estimators=131; total time=   7.2s\n",
      "[CV] END ......bootstrap=True, max_depth=9, n_estimators=133; total time=   7.3s\n",
      "[CV] END ......bootstrap=True, max_depth=9, n_estimators=137; total time=   6.6s\n",
      "[CV] END ......bootstrap=True, max_depth=9, n_estimators=140; total time=   6.7s\n",
      "[CV] END ......bootstrap=True, max_depth=10, n_estimators=84; total time=   4.7s\n",
      "[CV] END ......bootstrap=True, max_depth=10, n_estimators=86; total time=   5.5s\n",
      "[CV] END ......bootstrap=True, max_depth=10, n_estimators=90; total time=   5.1s\n",
      "[CV] END ......bootstrap=True, max_depth=10, n_estimators=94; total time=   4.8s\n",
      "[CV] END ......bootstrap=True, max_depth=10, n_estimators=96; total time=   5.1s\n",
      "[CV] END .....bootstrap=True, max_depth=10, n_estimators=100; total time=   5.5s\n",
      "[CV] END .....bootstrap=True, max_depth=10, n_estimators=102; total time=   6.7s\n",
      "[CV] END .....bootstrap=True, max_depth=10, n_estimators=106; total time=   7.0s\n",
      "[CV] END .....bootstrap=True, max_depth=10, n_estimators=111; total time=   7.8s\n",
      "[CV] END .....bootstrap=True, max_depth=10, n_estimators=113; total time=   8.0s\n",
      "[CV] END .....bootstrap=True, max_depth=10, n_estimators=117; total time=   6.5s\n",
      "[CV] END .....bootstrap=True, max_depth=10, n_estimators=119; total time=   6.4s\n",
      "[CV] END .....bootstrap=True, max_depth=10, n_estimators=123; total time=   8.5s\n",
      "[CV] END .....bootstrap=True, max_depth=10, n_estimators=127; total time=   8.4s\n",
      "[CV] END .....bootstrap=True, max_depth=10, n_estimators=129; total time=   9.2s\n",
      "[CV] END .....bootstrap=True, max_depth=10, n_estimators=133; total time=   9.0s\n",
      "[CV] END .....bootstrap=True, max_depth=10, n_estimators=135; total time=   9.3s\n",
      "[CV] END .....bootstrap=True, max_depth=10, n_estimators=140; total time=   8.6s\n",
      "[CV] END ......bootstrap=True, max_depth=11, n_estimators=82; total time=   5.8s\n",
      "[CV] END ......bootstrap=True, max_depth=11, n_estimators=84; total time=   6.7s\n",
      "[CV] END ......bootstrap=True, max_depth=11, n_estimators=88; total time=   6.2s\n",
      "[CV] END ......bootstrap=True, max_depth=11, n_estimators=90; total time=   6.8s\n",
      "[CV] END ......bootstrap=True, max_depth=11, n_estimators=94; total time=   7.9s\n",
      "[CV] END ......bootstrap=True, max_depth=11, n_estimators=98; total time=   8.2s\n",
      "[CV] END .....bootstrap=True, max_depth=11, n_estimators=100; total time=   7.9s\n",
      "[CV] END .....bootstrap=True, max_depth=11, n_estimators=104; total time=   7.0s\n",
      "[CV] END .....bootstrap=True, max_depth=11, n_estimators=106; total time=   7.1s\n",
      "[CV] END .....bootstrap=True, max_depth=11, n_estimators=111; total time=   8.0s\n",
      "[CV] END .....bootstrap=True, max_depth=11, n_estimators=115; total time=   7.7s\n",
      "[CV] END .....bootstrap=True, max_depth=11, n_estimators=117; total time=   7.3s\n",
      "[CV] END .....bootstrap=True, max_depth=11, n_estimators=121; total time=   8.7s\n",
      "[CV] END .....bootstrap=True, max_depth=11, n_estimators=123; total time=  10.1s\n",
      "[CV] END .....bootstrap=True, max_depth=11, n_estimators=127; total time=   7.1s\n",
      "[CV] END .....bootstrap=True, max_depth=11, n_estimators=131; total time=   8.4s\n",
      "[CV] END .....bootstrap=True, max_depth=11, n_estimators=133; total time=   8.7s\n",
      "[CV] END .....bootstrap=True, max_depth=11, n_estimators=137; total time=   9.2s\n",
      "[CV] END .....bootstrap=True, max_depth=11, n_estimators=140; total time=   9.6s\n",
      "[CV] END ......bootstrap=True, max_depth=12, n_estimators=84; total time=   6.7s\n",
      "[CV] END ......bootstrap=True, max_depth=12, n_estimators=86; total time=   6.5s\n",
      "[CV] END ......bootstrap=True, max_depth=12, n_estimators=90; total time=   6.8s\n",
      "[CV] END ......bootstrap=True, max_depth=12, n_estimators=92; total time=   7.2s\n",
      "[CV] END ......bootstrap=True, max_depth=12, n_estimators=96; total time=   7.1s\n",
      "[CV] END .....bootstrap=True, max_depth=12, n_estimators=100; total time=   7.6s\n",
      "[CV] END .....bootstrap=True, max_depth=12, n_estimators=102; total time=   7.0s\n",
      "[CV] END .....bootstrap=True, max_depth=12, n_estimators=106; total time=   6.6s\n",
      "[CV] END .....bootstrap=True, max_depth=12, n_estimators=108; total time=   6.2s\n",
      "[CV] END .....bootstrap=True, max_depth=12, n_estimators=113; total time=   7.2s\n",
      "[CV] END .....bootstrap=True, max_depth=12, n_estimators=117; total time=   8.3s\n",
      "[CV] END .....bootstrap=True, max_depth=12, n_estimators=119; total time=   8.0s\n",
      "[CV] END .....bootstrap=True, max_depth=12, n_estimators=123; total time=   7.3s\n",
      "[CV] END .....bootstrap=True, max_depth=12, n_estimators=125; total time=   8.9s\n",
      "[CV] END .....bootstrap=True, max_depth=12, n_estimators=129; total time=   9.4s\n",
      "[CV] END .....bootstrap=True, max_depth=12, n_estimators=133; total time=   8.5s\n",
      "[CV] END .....bootstrap=True, max_depth=12, n_estimators=135; total time=   8.0s\n",
      "[CV] END .....bootstrap=True, max_depth=12, n_estimators=140; total time=  10.1s\n",
      "[CV] END ......bootstrap=True, max_depth=13, n_estimators=80; total time=   6.8s\n",
      "[CV] END ......bootstrap=True, max_depth=13, n_estimators=84; total time=   6.5s\n",
      "[CV] END ......bootstrap=True, max_depth=13, n_estimators=88; total time=   8.1s\n",
      "[CV] END ......bootstrap=True, max_depth=13, n_estimators=90; total time=   7.2s\n",
      "[CV] END ......bootstrap=True, max_depth=13, n_estimators=94; total time=   6.6s\n",
      "[CV] END ......bootstrap=True, max_depth=13, n_estimators=96; total time=   7.4s\n",
      "[CV] END .....bootstrap=True, max_depth=13, n_estimators=100; total time=   8.1s\n",
      "[CV] END .....bootstrap=True, max_depth=13, n_estimators=104; total time=   8.5s\n",
      "[CV] END .....bootstrap=True, max_depth=13, n_estimators=106; total time=   7.9s\n",
      "[CV] END .....bootstrap=True, max_depth=13, n_estimators=111; total time=   8.7s\n",
      "[CV] END .....bootstrap=True, max_depth=13, n_estimators=113; total time=   7.2s\n",
      "[CV] END .....bootstrap=True, max_depth=13, n_estimators=117; total time=   9.2s\n",
      "[CV] END .....bootstrap=True, max_depth=13, n_estimators=121; total time=   8.8s\n",
      "[CV] END .....bootstrap=True, max_depth=13, n_estimators=123; total time=   7.9s\n",
      "[CV] END .....bootstrap=True, max_depth=13, n_estimators=127; total time=   8.2s\n",
      "[CV] END .....bootstrap=True, max_depth=13, n_estimators=129; total time=   8.3s\n",
      "[CV] END .....bootstrap=True, max_depth=13, n_estimators=133; total time=   9.9s\n",
      "[CV] END .....bootstrap=True, max_depth=13, n_estimators=137; total time=  10.1s\n",
      "[CV] END .....bootstrap=True, max_depth=13, n_estimators=140; total time=   8.6s\n",
      "[CV] END ......bootstrap=True, max_depth=14, n_estimators=82; total time=   6.3s\n",
      "[CV] END ......bootstrap=True, max_depth=14, n_estimators=86; total time=   5.9s\n",
      "[CV] END ......bootstrap=True, max_depth=14, n_estimators=88; total time=   5.5s\n",
      "[CV] END ......bootstrap=True, max_depth=14, n_estimators=92; total time=   7.7s\n",
      "[CV] END ......bootstrap=True, max_depth=14, n_estimators=94; total time=   7.2s\n",
      "[CV] END ......bootstrap=True, max_depth=14, n_estimators=98; total time=   9.4s\n",
      "[CV] END .....bootstrap=True, max_depth=14, n_estimators=102; total time=   7.1s\n",
      "[CV] END .....bootstrap=True, max_depth=14, n_estimators=104; total time=   7.2s\n",
      "[CV] END .....bootstrap=True, max_depth=14, n_estimators=108; total time=   9.0s\n",
      "[CV] END .....bootstrap=True, max_depth=14, n_estimators=111; total time=   8.7s\n",
      "[CV] END .....bootstrap=True, max_depth=14, n_estimators=115; total time=   9.0s\n",
      "[CV] END .....bootstrap=True, max_depth=14, n_estimators=119; total time=   9.0s\n",
      "[CV] END .....bootstrap=True, max_depth=14, n_estimators=121; total time=   9.1s\n",
      "[CV] END .....bootstrap=True, max_depth=14, n_estimators=125; total time=   8.0s\n",
      "[CV] END .....bootstrap=True, max_depth=14, n_estimators=127; total time=   8.4s\n",
      "[CV] END .....bootstrap=True, max_depth=14, n_estimators=131; total time=   8.5s\n",
      "[CV] END .....bootstrap=True, max_depth=14, n_estimators=135; total time=   8.7s\n",
      "[CV] END .....bootstrap=True, max_depth=14, n_estimators=137; total time=   8.8s\n",
      "[CV] END ......bootstrap=True, max_depth=15, n_estimators=80; total time=   5.6s\n",
      "[CV] END ......bootstrap=True, max_depth=15, n_estimators=82; total time=   6.9s\n",
      "[CV] END ......bootstrap=True, max_depth=15, n_estimators=86; total time=   6.5s\n",
      "[CV] END ......bootstrap=True, max_depth=15, n_estimators=88; total time=   6.6s\n",
      "[CV] END ......bootstrap=True, max_depth=15, n_estimators=92; total time=   6.7s\n",
      "[CV] END ......bootstrap=True, max_depth=15, n_estimators=96; total time=   7.9s\n",
      "[CV] END ......bootstrap=True, max_depth=15, n_estimators=98; total time=   9.0s\n",
      "[CV] END .....bootstrap=True, max_depth=15, n_estimators=102; total time=   8.9s\n",
      "[CV] END .....bootstrap=True, max_depth=15, n_estimators=104; total time=   8.5s\n",
      "[CV] END .....bootstrap=True, max_depth=15, n_estimators=108; total time=   7.9s\n",
      "[CV] END .....bootstrap=True, max_depth=15, n_estimators=113; total time=   9.5s\n",
      "[CV] END .....bootstrap=True, max_depth=15, n_estimators=115; total time=   9.6s\n",
      "[CV] END .....bootstrap=True, max_depth=15, n_estimators=119; total time=   9.2s\n",
      "[CV] END .....bootstrap=True, max_depth=15, n_estimators=121; total time=   8.2s\n",
      "[CV] END .....bootstrap=True, max_depth=15, n_estimators=125; total time=   8.1s\n",
      "[CV] END .....bootstrap=True, max_depth=15, n_estimators=129; total time=   8.6s\n",
      "[CV] END .....bootstrap=True, max_depth=15, n_estimators=131; total time=   8.7s\n",
      "[CV] END .....bootstrap=True, max_depth=15, n_estimators=135; total time=  11.0s\n",
      "[CV] END .....bootstrap=True, max_depth=15, n_estimators=137; total time=  12.9s\n",
      "[CV] END ......bootstrap=True, max_depth=16, n_estimators=80; total time=   6.9s\n",
      "[CV] END ......bootstrap=True, max_depth=16, n_estimators=82; total time=   7.1s\n",
      "[CV] END ......bootstrap=True, max_depth=16, n_estimators=86; total time=   6.6s\n",
      "[CV] END ......bootstrap=True, max_depth=16, n_estimators=90; total time=   7.1s\n",
      "[CV] END ......bootstrap=True, max_depth=16, n_estimators=92; total time=   7.0s\n",
      "[CV] END ......bootstrap=True, max_depth=16, n_estimators=96; total time=   7.4s\n",
      "[CV] END ......bootstrap=True, max_depth=16, n_estimators=98; total time=   8.7s\n",
      "[CV] END .....bootstrap=True, max_depth=16, n_estimators=102; total time=   7.9s\n",
      "[CV] END .....bootstrap=True, max_depth=16, n_estimators=106; total time=  10.1s\n",
      "[CV] END .....bootstrap=True, max_depth=16, n_estimators=108; total time=   9.2s\n",
      "[CV] END .....bootstrap=True, max_depth=16, n_estimators=113; total time=  10.2s\n",
      "[CV] END .....bootstrap=True, max_depth=16, n_estimators=115; total time=   8.8s\n",
      "[CV] END .....bootstrap=True, max_depth=16, n_estimators=119; total time=  10.7s\n",
      "[CV] END .....bootstrap=True, max_depth=16, n_estimators=123; total time=  11.2s\n",
      "[CV] END .....bootstrap=True, max_depth=16, n_estimators=125; total time=   8.9s\n",
      "[CV] END .....bootstrap=True, max_depth=16, n_estimators=129; total time=  12.0s\n",
      "[CV] END .....bootstrap=True, max_depth=16, n_estimators=131; total time=   8.8s\n",
      "[CV] END .....bootstrap=True, max_depth=16, n_estimators=135; total time=   9.7s\n",
      "[CV] END .....bootstrap=True, max_depth=16, n_estimators=140; total time=  14.0s\n",
      "[CV] END ......bootstrap=True, max_depth=18, n_estimators=80; total time=   7.4s\n",
      "[CV] END ......bootstrap=True, max_depth=18, n_estimators=84; total time=   6.7s\n",
      "[CV] END ......bootstrap=True, max_depth=18, n_estimators=86; total time=   6.1s\n",
      "[CV] END ......bootstrap=True, max_depth=18, n_estimators=90; total time=   7.1s\n",
      "[CV] END ......bootstrap=True, max_depth=18, n_estimators=92; total time=   8.6s\n",
      "[CV] END ......bootstrap=True, max_depth=18, n_estimators=96; total time=   7.7s\n",
      "[CV] END .....bootstrap=True, max_depth=18, n_estimators=100; total time=   9.3s\n",
      "[CV] END .....bootstrap=True, max_depth=18, n_estimators=102; total time=   8.0s\n",
      "[CV] END .....bootstrap=True, max_depth=18, n_estimators=106; total time=   8.8s\n"
     ]
    },
    {
     "name": "stdout",
     "output_type": "stream",
     "text": [
      "[CV] END .....................max_depth=11, n_estimators=174; total time=  11.9s\n",
      "[CV] END ......................max_depth=8, n_estimators=174; total time=   8.8s\n",
      "[CV] END ......................max_depth=8, n_estimators=143; total time=   8.2s\n",
      "[CV] END ......................max_depth=8, n_estimators=143; total time=   8.8s\n",
      "[CV] END .....................max_depth=13, n_estimators=193; total time=  14.2s\n",
      "[CV] END .....................max_depth=12, n_estimators=130; total time=  10.3s\n",
      "[CV] END .....................max_depth=12, n_estimators=130; total time=   8.9s\n",
      "[CV] END .....................max_depth=11, n_estimators=174; total time=  13.2s\n",
      "[CV] END .....................max_depth=10, n_estimators=136; total time=   9.3s\n",
      "[CV] END .....................max_depth=14, n_estimators=143; total time=  11.2s\n",
      "[CV] END .....................max_depth=14, n_estimators=168; total time=  12.9s\n",
      "[CV] END .....................max_depth=14, n_estimators=168; total time=  14.0s\n",
      "[CV] END .....................max_depth=10, n_estimators=117; total time=   8.7s\n",
      "[CV] END .....................max_depth=10, n_estimators=117; total time=   9.1s\n",
      "[CV] END ......................max_depth=15, n_estimators=92; total time=   8.0s\n",
      "[CV] END .....................max_depth=14, n_estimators=111; total time=   8.0s\n",
      "[CV] END .....................max_depth=10, n_estimators=193; total time=  12.5s\n",
      "[CV] END .....................max_depth=15, n_estimators=117; total time=  10.1s\n",
      "[CV] END .....................max_depth=15, n_estimators=117; total time=   9.8s\n",
      "[CV] END .....................max_depth=14, n_estimators=187; total time=  15.6s\n",
      "[CV] END ......................max_depth=9, n_estimators=181; total time=  11.9s\n",
      "[CV] END .....................max_depth=13, n_estimators=155; total time=  10.6s\n",
      "[CV] END ......................max_depth=11, n_estimators=92; total time=   6.6s\n",
      "[CV] END ......................max_depth=11, n_estimators=92; total time=   7.3s\n",
      "[CV] END .....................max_depth=10, n_estimators=130; total time=   9.9s\n",
      "[CV] END .......bootstrap=True, max_depth=8, n_estimators=80; total time=   4.3s\n",
      "[CV] END .......bootstrap=True, max_depth=8, n_estimators=82; total time=   3.5s\n",
      "[CV] END .......bootstrap=True, max_depth=8, n_estimators=86; total time=   3.8s\n",
      "[CV] END .......bootstrap=True, max_depth=8, n_estimators=88; total time=   4.2s\n",
      "[CV] END .......bootstrap=True, max_depth=8, n_estimators=92; total time=   4.0s\n",
      "[CV] END .......bootstrap=True, max_depth=8, n_estimators=96; total time=   4.8s\n",
      "[CV] END .......bootstrap=True, max_depth=8, n_estimators=98; total time=   5.0s\n",
      "[CV] END ......bootstrap=True, max_depth=8, n_estimators=102; total time=   4.9s\n",
      "[CV] END ......bootstrap=True, max_depth=8, n_estimators=106; total time=   5.1s\n",
      "[CV] END ......bootstrap=True, max_depth=8, n_estimators=108; total time=   4.6s\n",
      "[CV] END ......bootstrap=True, max_depth=8, n_estimators=113; total time=   5.4s\n",
      "[CV] END ......bootstrap=True, max_depth=8, n_estimators=115; total time=   6.4s\n",
      "[CV] END ......bootstrap=True, max_depth=8, n_estimators=119; total time=   6.1s\n",
      "[CV] END ......bootstrap=True, max_depth=8, n_estimators=123; total time=   7.0s\n",
      "[CV] END ......bootstrap=True, max_depth=8, n_estimators=125; total time=   7.1s\n",
      "[CV] END ......bootstrap=True, max_depth=8, n_estimators=129; total time=   7.1s\n",
      "[CV] END ......bootstrap=True, max_depth=8, n_estimators=131; total time=   7.5s\n",
      "[CV] END ......bootstrap=True, max_depth=8, n_estimators=135; total time=   7.5s\n",
      "[CV] END ......bootstrap=True, max_depth=8, n_estimators=140; total time=   7.7s\n",
      "[CV] END .......bootstrap=True, max_depth=9, n_estimators=82; total time=   5.0s\n",
      "[CV] END .......bootstrap=True, max_depth=9, n_estimators=84; total time=   5.4s\n",
      "[CV] END .......bootstrap=True, max_depth=9, n_estimators=88; total time=   5.1s\n",
      "[CV] END .......bootstrap=True, max_depth=9, n_estimators=92; total time=   5.6s\n",
      "[CV] END .......bootstrap=True, max_depth=9, n_estimators=94; total time=   4.6s\n",
      "[CV] END .......bootstrap=True, max_depth=9, n_estimators=98; total time=   5.3s\n",
      "[CV] END ......bootstrap=True, max_depth=9, n_estimators=100; total time=   5.2s\n",
      "[CV] END ......bootstrap=True, max_depth=9, n_estimators=104; total time=   5.1s\n",
      "[CV] END ......bootstrap=True, max_depth=9, n_estimators=108; total time=   5.9s\n",
      "[CV] END ......bootstrap=True, max_depth=9, n_estimators=111; total time=   6.8s\n",
      "[CV] END ......bootstrap=True, max_depth=9, n_estimators=115; total time=   6.9s\n",
      "[CV] END ......bootstrap=True, max_depth=9, n_estimators=117; total time=   6.6s\n",
      "[CV] END ......bootstrap=True, max_depth=9, n_estimators=121; total time=   6.7s\n",
      "[CV] END ......bootstrap=True, max_depth=9, n_estimators=125; total time=   6.9s\n",
      "[CV] END ......bootstrap=True, max_depth=9, n_estimators=127; total time=   6.3s\n",
      "[CV] END ......bootstrap=True, max_depth=9, n_estimators=131; total time=   7.4s\n",
      "[CV] END ......bootstrap=True, max_depth=9, n_estimators=133; total time=   7.2s\n",
      "[CV] END ......bootstrap=True, max_depth=9, n_estimators=137; total time=   6.6s\n",
      "[CV] END ......bootstrap=True, max_depth=10, n_estimators=80; total time=   4.1s\n",
      "[CV] END ......bootstrap=True, max_depth=10, n_estimators=80; total time=   4.1s\n",
      "[CV] END ......bootstrap=True, max_depth=10, n_estimators=84; total time=   5.4s\n",
      "[CV] END ......bootstrap=True, max_depth=10, n_estimators=88; total time=   5.4s\n",
      "[CV] END ......bootstrap=True, max_depth=10, n_estimators=90; total time=   4.8s\n",
      "[CV] END ......bootstrap=True, max_depth=10, n_estimators=94; total time=   4.8s\n",
      "[CV] END ......bootstrap=True, max_depth=10, n_estimators=98; total time=   5.1s\n",
      "[CV] END .....bootstrap=True, max_depth=10, n_estimators=100; total time=   6.1s\n",
      "[CV] END .....bootstrap=True, max_depth=10, n_estimators=104; total time=   6.8s\n",
      "[CV] END .....bootstrap=True, max_depth=10, n_estimators=106; total time=   7.4s\n",
      "[CV] END .....bootstrap=True, max_depth=10, n_estimators=111; total time=   7.6s\n",
      "[CV] END .....bootstrap=True, max_depth=10, n_estimators=115; total time=   7.7s\n",
      "[CV] END .....bootstrap=True, max_depth=10, n_estimators=117; total time=   6.1s\n",
      "[CV] END .....bootstrap=True, max_depth=10, n_estimators=121; total time=   6.9s\n",
      "[CV] END .....bootstrap=True, max_depth=10, n_estimators=123; total time=   8.4s\n",
      "[CV] END .....bootstrap=True, max_depth=10, n_estimators=127; total time=   9.2s\n",
      "[CV] END .....bootstrap=True, max_depth=10, n_estimators=131; total time=   8.8s\n",
      "[CV] END .....bootstrap=True, max_depth=10, n_estimators=133; total time=   9.3s\n",
      "[CV] END .....bootstrap=True, max_depth=10, n_estimators=137; total time=   8.8s\n",
      "[CV] END .....bootstrap=True, max_depth=10, n_estimators=140; total time=   9.1s\n",
      "[CV] END ......bootstrap=True, max_depth=11, n_estimators=84; total time=   6.2s\n",
      "[CV] END ......bootstrap=True, max_depth=11, n_estimators=86; total time=   6.3s\n",
      "[CV] END ......bootstrap=True, max_depth=11, n_estimators=90; total time=   6.5s\n",
      "[CV] END ......bootstrap=True, max_depth=11, n_estimators=92; total time=   7.6s\n",
      "[CV] END ......bootstrap=True, max_depth=11, n_estimators=96; total time=   8.2s\n",
      "[CV] END .....bootstrap=True, max_depth=11, n_estimators=100; total time=   7.8s\n",
      "[CV] END .....bootstrap=True, max_depth=11, n_estimators=102; total time=   7.4s\n",
      "[CV] END .....bootstrap=True, max_depth=11, n_estimators=106; total time=   6.5s\n",
      "[CV] END .....bootstrap=True, max_depth=11, n_estimators=108; total time=   7.9s\n",
      "[CV] END .....bootstrap=True, max_depth=11, n_estimators=113; total time=   7.6s\n",
      "[CV] END .....bootstrap=True, max_depth=11, n_estimators=117; total time=   7.3s\n",
      "[CV] END .....bootstrap=True, max_depth=11, n_estimators=119; total time=   8.3s\n",
      "[CV] END .....bootstrap=True, max_depth=11, n_estimators=123; total time=  10.2s\n",
      "[CV] END .....bootstrap=True, max_depth=11, n_estimators=125; total time=   8.1s\n",
      "[CV] END .....bootstrap=True, max_depth=11, n_estimators=129; total time=   8.1s\n",
      "[CV] END .....bootstrap=True, max_depth=11, n_estimators=133; total time=   8.4s\n",
      "[CV] END .....bootstrap=True, max_depth=11, n_estimators=135; total time=   9.3s\n",
      "[CV] END .....bootstrap=True, max_depth=11, n_estimators=140; total time=   9.1s\n",
      "[CV] END ......bootstrap=True, max_depth=12, n_estimators=80; total time=   6.5s\n",
      "[CV] END ......bootstrap=True, max_depth=12, n_estimators=84; total time=   6.5s\n",
      "[CV] END ......bootstrap=True, max_depth=12, n_estimators=88; total time=   7.0s\n",
      "[CV] END ......bootstrap=True, max_depth=12, n_estimators=90; total time=   6.6s\n",
      "[CV] END ......bootstrap=True, max_depth=12, n_estimators=94; total time=   7.5s\n",
      "[CV] END ......bootstrap=True, max_depth=12, n_estimators=96; total time=   6.4s\n",
      "[CV] END .....bootstrap=True, max_depth=12, n_estimators=100; total time=   8.0s\n",
      "[CV] END .....bootstrap=True, max_depth=12, n_estimators=104; total time=   7.0s\n",
      "[CV] END .....bootstrap=True, max_depth=12, n_estimators=106; total time=   6.2s\n",
      "[CV] END .....bootstrap=True, max_depth=12, n_estimators=111; total time=   6.4s\n",
      "[CV] END .....bootstrap=True, max_depth=12, n_estimators=113; total time=   8.0s\n",
      "[CV] END .....bootstrap=True, max_depth=12, n_estimators=117; total time=   8.1s\n",
      "[CV] END .....bootstrap=True, max_depth=12, n_estimators=121; total time=   7.4s\n",
      "[CV] END .....bootstrap=True, max_depth=12, n_estimators=123; total time=   8.0s\n",
      "[CV] END .....bootstrap=True, max_depth=12, n_estimators=127; total time=   9.4s\n",
      "[CV] END .....bootstrap=True, max_depth=12, n_estimators=129; total time=   8.4s\n",
      "[CV] END .....bootstrap=True, max_depth=12, n_estimators=133; total time=   8.3s\n",
      "[CV] END .....bootstrap=True, max_depth=12, n_estimators=137; total time=   8.4s\n",
      "[CV] END .....bootstrap=True, max_depth=12, n_estimators=140; total time=  11.0s\n",
      "[CV] END ......bootstrap=True, max_depth=13, n_estimators=82; total time=   6.4s\n",
      "[CV] END ......bootstrap=True, max_depth=13, n_estimators=86; total time=   7.3s\n",
      "[CV] END ......bootstrap=True, max_depth=13, n_estimators=88; total time=   7.8s\n",
      "[CV] END ......bootstrap=True, max_depth=13, n_estimators=92; total time=   6.7s\n",
      "[CV] END ......bootstrap=True, max_depth=13, n_estimators=96; total time=   6.7s\n",
      "[CV] END ......bootstrap=True, max_depth=13, n_estimators=98; total time=   8.2s\n",
      "[CV] END .....bootstrap=True, max_depth=13, n_estimators=102; total time=   8.3s\n",
      "[CV] END .....bootstrap=True, max_depth=13, n_estimators=104; total time=   8.2s\n",
      "[CV] END .....bootstrap=True, max_depth=13, n_estimators=108; total time=   8.2s\n",
      "[CV] END .....bootstrap=True, max_depth=13, n_estimators=113; total time=   7.7s\n",
      "[CV] END .....bootstrap=True, max_depth=13, n_estimators=115; total time=   8.8s\n",
      "[CV] END .....bootstrap=True, max_depth=13, n_estimators=119; total time=   8.7s\n",
      "[CV] END .....bootstrap=True, max_depth=13, n_estimators=121; total time=   8.3s\n",
      "[CV] END .....bootstrap=True, max_depth=13, n_estimators=125; total time=   8.0s\n",
      "[CV] END .....bootstrap=True, max_depth=13, n_estimators=129; total time=   8.4s\n",
      "[CV] END .....bootstrap=True, max_depth=13, n_estimators=131; total time=   9.2s\n",
      "[CV] END .....bootstrap=True, max_depth=13, n_estimators=135; total time=  10.2s\n",
      "[CV] END .....bootstrap=True, max_depth=13, n_estimators=137; total time=   9.1s\n",
      "[CV] END ......bootstrap=True, max_depth=14, n_estimators=80; total time=   5.1s\n",
      "[CV] END ......bootstrap=True, max_depth=14, n_estimators=82; total time=   6.4s\n",
      "[CV] END ......bootstrap=True, max_depth=14, n_estimators=86; total time=   5.6s\n",
      "[CV] END ......bootstrap=True, max_depth=14, n_estimators=90; total time=   6.0s\n",
      "[CV] END ......bootstrap=True, max_depth=14, n_estimators=92; total time=   7.6s\n",
      "[CV] END ......bootstrap=True, max_depth=14, n_estimators=96; total time=   7.4s\n",
      "[CV] END ......bootstrap=True, max_depth=14, n_estimators=98; total time=   9.3s\n",
      "[CV] END .....bootstrap=True, max_depth=14, n_estimators=102; total time=   6.7s\n",
      "[CV] END .....bootstrap=True, max_depth=14, n_estimators=106; total time=   7.3s\n",
      "[CV] END .....bootstrap=True, max_depth=14, n_estimators=108; total time=   9.1s\n",
      "[CV] END .....bootstrap=True, max_depth=14, n_estimators=113; total time=   8.8s\n",
      "[CV] END .....bootstrap=True, max_depth=14, n_estimators=115; total time=   9.2s\n",
      "[CV] END .....bootstrap=True, max_depth=14, n_estimators=119; total time=   9.0s\n",
      "[CV] END .....bootstrap=True, max_depth=14, n_estimators=123; total time=   8.9s\n",
      "[CV] END .....bootstrap=True, max_depth=14, n_estimators=125; total time=   8.0s\n",
      "[CV] END .....bootstrap=True, max_depth=14, n_estimators=129; total time=   8.5s\n",
      "[CV] END .....bootstrap=True, max_depth=14, n_estimators=131; total time=   8.5s\n",
      "[CV] END .....bootstrap=True, max_depth=14, n_estimators=135; total time=   8.7s\n",
      "[CV] END .....bootstrap=True, max_depth=14, n_estimators=140; total time=   9.1s\n",
      "[CV] END ......bootstrap=True, max_depth=15, n_estimators=80; total time=   6.1s\n",
      "[CV] END ......bootstrap=True, max_depth=15, n_estimators=84; total time=   7.0s\n",
      "[CV] END ......bootstrap=True, max_depth=15, n_estimators=86; total time=   6.1s\n",
      "[CV] END ......bootstrap=True, max_depth=15, n_estimators=90; total time=   7.4s\n",
      "[CV] END ......bootstrap=True, max_depth=15, n_estimators=94; total time=   6.6s\n",
      "[CV] END ......bootstrap=True, max_depth=15, n_estimators=96; total time=   8.2s\n",
      "[CV] END .....bootstrap=True, max_depth=15, n_estimators=100; total time=   9.5s\n",
      "[CV] END .....bootstrap=True, max_depth=15, n_estimators=102; total time=   8.8s\n",
      "[CV] END .....bootstrap=True, max_depth=15, n_estimators=106; total time=   7.8s\n",
      "[CV] END .....bootstrap=True, max_depth=15, n_estimators=111; total time=   8.3s\n",
      "[CV] END .....bootstrap=True, max_depth=15, n_estimators=113; total time=   9.8s\n",
      "[CV] END .....bootstrap=True, max_depth=15, n_estimators=117; total time=   9.1s\n",
      "[CV] END .....bootstrap=True, max_depth=15, n_estimators=119; total time=   9.0s\n",
      "[CV] END .....bootstrap=True, max_depth=15, n_estimators=123; total time=   8.3s\n",
      "[CV] END .....bootstrap=True, max_depth=15, n_estimators=127; total time=   8.5s\n",
      "[CV] END .....bootstrap=True, max_depth=15, n_estimators=129; total time=   8.4s\n",
      "[CV] END .....bootstrap=True, max_depth=15, n_estimators=133; total time=   9.5s\n",
      "[CV] END .....bootstrap=True, max_depth=15, n_estimators=135; total time=  11.9s\n",
      "[CV] END .....bootstrap=True, max_depth=15, n_estimators=140; total time=  12.7s\n",
      "[CV] END ......bootstrap=True, max_depth=16, n_estimators=82; total time=   7.3s\n",
      "[CV] END ......bootstrap=True, max_depth=16, n_estimators=84; total time=   6.3s\n",
      "[CV] END ......bootstrap=True, max_depth=16, n_estimators=88; total time=   6.6s\n",
      "[CV] END ......bootstrap=True, max_depth=16, n_estimators=90; total time=   7.7s\n",
      "[CV] END ......bootstrap=True, max_depth=16, n_estimators=94; total time=   6.9s\n",
      "[CV] END ......bootstrap=True, max_depth=16, n_estimators=98; total time=   8.1s\n",
      "[CV] END .....bootstrap=True, max_depth=16, n_estimators=100; total time=   7.7s\n",
      "[CV] END .....bootstrap=True, max_depth=16, n_estimators=104; total time=  10.0s\n",
      "[CV] END .....bootstrap=True, max_depth=16, n_estimators=106; total time=   8.7s\n",
      "[CV] END .....bootstrap=True, max_depth=16, n_estimators=111; total time=  10.6s\n",
      "[CV] END .....bootstrap=True, max_depth=16, n_estimators=115; total time=   9.0s\n",
      "[CV] END .....bootstrap=True, max_depth=16, n_estimators=117; total time=  11.4s\n",
      "[CV] END .....bootstrap=True, max_depth=16, n_estimators=121; total time=  10.1s\n",
      "[CV] END .....bootstrap=True, max_depth=16, n_estimators=123; total time=   9.4s\n",
      "[CV] END .....bootstrap=True, max_depth=16, n_estimators=127; total time=  11.7s\n",
      "[CV] END .....bootstrap=True, max_depth=16, n_estimators=131; total time=   9.6s\n",
      "[CV] END .....bootstrap=True, max_depth=16, n_estimators=133; total time=   9.0s\n",
      "[CV] END .....bootstrap=True, max_depth=16, n_estimators=137; total time=  13.3s\n",
      "[CV] END .....bootstrap=True, max_depth=16, n_estimators=140; total time=  12.3s\n",
      "[CV] END ......bootstrap=True, max_depth=18, n_estimators=84; total time=   6.7s\n",
      "[CV] END ......bootstrap=True, max_depth=18, n_estimators=86; total time=   6.2s\n",
      "[CV] END ......bootstrap=True, max_depth=18, n_estimators=90; total time=   7.4s\n",
      "[CV] END ......bootstrap=True, max_depth=18, n_estimators=94; total time=   8.3s\n",
      "[CV] END ......bootstrap=True, max_depth=18, n_estimators=96; total time=   7.8s\n",
      "[CV] END .....bootstrap=True, max_depth=18, n_estimators=100; total time=   9.2s\n",
      "[CV] END .....bootstrap=True, max_depth=18, n_estimators=102; total time=   8.0s\n",
      "[CV] END .....bootstrap=True, max_depth=18, n_estimators=106; total time=   8.7s\n"
     ]
    },
    {
     "name": "stdout",
     "output_type": "stream",
     "text": [
      "[CV] END .....................max_depth=11, n_estimators=174; total time=  11.8s\n",
      "[CV] END .....................max_depth=11, n_estimators=174; total time=  10.9s\n",
      "[CV] END ......................max_depth=8, n_estimators=143; total time=   8.2s\n",
      "[CV] END .....................max_depth=13, n_estimators=193; total time=  14.6s\n",
      "[CV] END .....................max_depth=13, n_estimators=193; total time=  15.9s\n",
      "[CV] END .....................max_depth=12, n_estimators=130; total time=   9.0s\n",
      "[CV] END .....................max_depth=11, n_estimators=174; total time=  13.2s\n",
      "[CV] END .....................max_depth=10, n_estimators=136; total time=   9.3s\n",
      "[CV] END .....................max_depth=14, n_estimators=143; total time=  11.2s\n",
      "[CV] END .....................max_depth=14, n_estimators=143; total time=  10.9s\n",
      "[CV] END .....................max_depth=14, n_estimators=168; total time=  13.7s\n",
      "[CV] END ......................max_depth=9, n_estimators=111; total time=   7.7s\n",
      "[CV] END .....................max_depth=10, n_estimators=117; total time=   8.9s\n",
      "[CV] END ......................max_depth=15, n_estimators=92; total time=   8.6s\n",
      "[CV] END .....................max_depth=14, n_estimators=111; total time=   8.3s\n",
      "[CV] END .....................max_depth=14, n_estimators=111; total time=   8.2s\n",
      "[CV] END .....................max_depth=10, n_estimators=193; total time=  13.3s\n",
      "[CV] END .....................max_depth=15, n_estimators=117; total time=  10.1s\n",
      "[CV] END .....................max_depth=14, n_estimators=187; total time=  14.6s\n",
      "[CV] END ......................max_depth=9, n_estimators=181; total time=  12.6s\n",
      "[CV] END ......................max_depth=9, n_estimators=181; total time=  10.5s\n",
      "[CV] END .....................max_depth=13, n_estimators=155; total time=  11.6s\n",
      "[CV] END ......................max_depth=11, n_estimators=92; total time=   7.3s\n",
      "[CV] END .....................max_depth=10, n_estimators=130; total time=   9.7s\n",
      "[CV] END .......bootstrap=True, max_depth=8, n_estimators=82; total time=   4.4s\n",
      "[CV] END .......bootstrap=True, max_depth=8, n_estimators=84; total time=   3.6s\n",
      "[CV] END .......bootstrap=True, max_depth=8, n_estimators=88; total time=   4.1s\n",
      "[CV] END .......bootstrap=True, max_depth=8, n_estimators=92; total time=   4.1s\n",
      "[CV] END .......bootstrap=True, max_depth=8, n_estimators=94; total time=   4.2s\n",
      "[CV] END .......bootstrap=True, max_depth=8, n_estimators=98; total time=   4.8s\n",
      "[CV] END ......bootstrap=True, max_depth=8, n_estimators=100; total time=   5.2s\n",
      "[CV] END ......bootstrap=True, max_depth=8, n_estimators=104; total time=   5.0s\n",
      "[CV] END ......bootstrap=True, max_depth=8, n_estimators=108; total time=   5.0s\n",
      "[CV] END ......bootstrap=True, max_depth=8, n_estimators=111; total time=   4.7s\n",
      "[CV] END ......bootstrap=True, max_depth=8, n_estimators=115; total time=   5.8s\n",
      "[CV] END ......bootstrap=True, max_depth=8, n_estimators=117; total time=   6.4s\n",
      "[CV] END ......bootstrap=True, max_depth=8, n_estimators=121; total time=   6.2s\n",
      "[CV] END ......bootstrap=True, max_depth=8, n_estimators=125; total time=   7.0s\n",
      "[CV] END ......bootstrap=True, max_depth=8, n_estimators=127; total time=   7.3s\n",
      "[CV] END ......bootstrap=True, max_depth=8, n_estimators=131; total time=   7.5s\n",
      "[CV] END ......bootstrap=True, max_depth=8, n_estimators=133; total time=   7.5s\n",
      "[CV] END ......bootstrap=True, max_depth=8, n_estimators=137; total time=   7.3s\n",
      "[CV] END .......bootstrap=True, max_depth=9, n_estimators=80; total time=   4.9s\n",
      "[CV] END .......bootstrap=True, max_depth=9, n_estimators=80; total time=   4.6s\n",
      "[CV] END .......bootstrap=True, max_depth=9, n_estimators=84; total time=   5.5s\n",
      "[CV] END .......bootstrap=True, max_depth=9, n_estimators=86; total time=   5.1s\n",
      "[CV] END .......bootstrap=True, max_depth=9, n_estimators=90; total time=   5.3s\n",
      "[CV] END .......bootstrap=True, max_depth=9, n_estimators=92; total time=   4.7s\n",
      "[CV] END .......bootstrap=True, max_depth=9, n_estimators=96; total time=   5.0s\n",
      "[CV] END ......bootstrap=True, max_depth=9, n_estimators=100; total time=   5.1s\n",
      "[CV] END ......bootstrap=True, max_depth=9, n_estimators=102; total time=   5.0s\n",
      "[CV] END ......bootstrap=True, max_depth=9, n_estimators=106; total time=   5.7s\n",
      "[CV] END ......bootstrap=True, max_depth=9, n_estimators=108; total time=   6.2s\n",
      "[CV] END ......bootstrap=True, max_depth=9, n_estimators=113; total time=   6.7s\n",
      "[CV] END ......bootstrap=True, max_depth=9, n_estimators=117; total time=   6.8s\n",
      "[CV] END ......bootstrap=True, max_depth=9, n_estimators=119; total time=   6.8s\n",
      "[CV] END ......bootstrap=True, max_depth=9, n_estimators=123; total time=   7.0s\n",
      "[CV] END ......bootstrap=True, max_depth=9, n_estimators=125; total time=   6.1s\n",
      "[CV] END ......bootstrap=True, max_depth=9, n_estimators=129; total time=   6.6s\n",
      "[CV] END ......bootstrap=True, max_depth=9, n_estimators=133; total time=   7.7s\n",
      "[CV] END ......bootstrap=True, max_depth=9, n_estimators=135; total time=   6.7s\n",
      "[CV] END ......bootstrap=True, max_depth=9, n_estimators=140; total time=   6.6s\n",
      "[CV] END ......bootstrap=True, max_depth=10, n_estimators=82; total time=   4.2s\n",
      "[CV] END ......bootstrap=True, max_depth=10, n_estimators=84; total time=   5.5s\n",
      "[CV] END ......bootstrap=True, max_depth=10, n_estimators=88; total time=   5.3s\n",
      "[CV] END ......bootstrap=True, max_depth=10, n_estimators=90; total time=   4.7s\n",
      "[CV] END ......bootstrap=True, max_depth=10, n_estimators=94; total time=   4.8s\n",
      "[CV] END ......bootstrap=True, max_depth=10, n_estimators=96; total time=   5.0s\n",
      "[CV] END .....bootstrap=True, max_depth=10, n_estimators=100; total time=   6.0s\n",
      "[CV] END .....bootstrap=True, max_depth=10, n_estimators=104; total time=   6.7s\n",
      "[CV] END .....bootstrap=True, max_depth=10, n_estimators=106; total time=   7.4s\n",
      "[CV] END .....bootstrap=True, max_depth=10, n_estimators=111; total time=   7.6s\n",
      "[CV] END .....bootstrap=True, max_depth=10, n_estimators=113; total time=   7.6s\n",
      "[CV] END .....bootstrap=True, max_depth=10, n_estimators=117; total time=   6.0s\n",
      "[CV] END .....bootstrap=True, max_depth=10, n_estimators=121; total time=   6.7s\n",
      "[CV] END .....bootstrap=True, max_depth=10, n_estimators=123; total time=   8.5s\n",
      "[CV] END .....bootstrap=True, max_depth=10, n_estimators=127; total time=   9.1s\n",
      "[CV] END .....bootstrap=True, max_depth=10, n_estimators=129; total time=   8.8s\n",
      "[CV] END .....bootstrap=True, max_depth=10, n_estimators=133; total time=   9.1s\n",
      "[CV] END .....bootstrap=True, max_depth=10, n_estimators=137; total time=   9.1s\n",
      "[CV] END .....bootstrap=True, max_depth=10, n_estimators=140; total time=   9.1s\n",
      "[CV] END ......bootstrap=True, max_depth=11, n_estimators=82; total time=   6.0s\n",
      "[CV] END ......bootstrap=True, max_depth=11, n_estimators=86; total time=   6.1s\n",
      "[CV] END ......bootstrap=True, max_depth=11, n_estimators=88; total time=   6.3s\n",
      "[CV] END ......bootstrap=True, max_depth=11, n_estimators=92; total time=   7.4s\n",
      "[CV] END ......bootstrap=True, max_depth=11, n_estimators=96; total time=   8.0s\n",
      "[CV] END ......bootstrap=True, max_depth=11, n_estimators=98; total time=   8.2s\n",
      "[CV] END .....bootstrap=True, max_depth=11, n_estimators=102; total time=   7.5s\n",
      "[CV] END .....bootstrap=True, max_depth=11, n_estimators=104; total time=   6.6s\n",
      "[CV] END .....bootstrap=True, max_depth=11, n_estimators=108; total time=   7.6s\n",
      "[CV] END .....bootstrap=True, max_depth=11, n_estimators=113; total time=   7.7s\n",
      "[CV] END .....bootstrap=True, max_depth=11, n_estimators=115; total time=   7.3s\n",
      "[CV] END .....bootstrap=True, max_depth=11, n_estimators=119; total time=   8.1s\n",
      "[CV] END .....bootstrap=True, max_depth=11, n_estimators=121; total time=   9.3s\n",
      "[CV] END .....bootstrap=True, max_depth=11, n_estimators=125; total time=   8.9s\n",
      "[CV] END .....bootstrap=True, max_depth=11, n_estimators=129; total time=   7.5s\n",
      "[CV] END .....bootstrap=True, max_depth=11, n_estimators=131; total time=   8.2s\n",
      "[CV] END .....bootstrap=True, max_depth=11, n_estimators=135; total time=   9.6s\n",
      "[CV] END .....bootstrap=True, max_depth=11, n_estimators=137; total time=   8.4s\n",
      "[CV] END ......bootstrap=True, max_depth=12, n_estimators=80; total time=   6.1s\n",
      "[CV] END ......bootstrap=True, max_depth=12, n_estimators=82; total time=   6.6s\n",
      "[CV] END ......bootstrap=True, max_depth=12, n_estimators=86; total time=   6.5s\n",
      "[CV] END ......bootstrap=True, max_depth=12, n_estimators=90; total time=   6.8s\n",
      "[CV] END ......bootstrap=True, max_depth=12, n_estimators=92; total time=   7.2s\n",
      "[CV] END ......bootstrap=True, max_depth=12, n_estimators=96; total time=   7.2s\n",
      "[CV] END ......bootstrap=True, max_depth=12, n_estimators=98; total time=   7.3s\n",
      "[CV] END .....bootstrap=True, max_depth=12, n_estimators=102; total time=   7.1s\n",
      "[CV] END .....bootstrap=True, max_depth=12, n_estimators=106; total time=   6.7s\n",
      "[CV] END .....bootstrap=True, max_depth=12, n_estimators=108; total time=   6.2s\n",
      "[CV] END .....bootstrap=True, max_depth=12, n_estimators=113; total time=   7.1s\n",
      "[CV] END .....bootstrap=True, max_depth=12, n_estimators=115; total time=   8.1s\n",
      "[CV] END .....bootstrap=True, max_depth=12, n_estimators=119; total time=   8.1s\n",
      "[CV] END .....bootstrap=True, max_depth=12, n_estimators=123; total time=   7.3s\n",
      "[CV] END .....bootstrap=True, max_depth=12, n_estimators=125; total time=   8.8s\n",
      "[CV] END .....bootstrap=True, max_depth=12, n_estimators=129; total time=   9.6s\n",
      "[CV] END .....bootstrap=True, max_depth=12, n_estimators=131; total time=   8.4s\n",
      "[CV] END .....bootstrap=True, max_depth=12, n_estimators=135; total time=   7.9s\n",
      "[CV] END .....bootstrap=True, max_depth=12, n_estimators=140; total time=  10.0s\n",
      "[CV] END ......bootstrap=True, max_depth=13, n_estimators=80; total time=   6.7s\n",
      "[CV] END ......bootstrap=True, max_depth=13, n_estimators=84; total time=   6.8s\n",
      "[CV] END ......bootstrap=True, max_depth=13, n_estimators=86; total time=   7.7s\n",
      "[CV] END ......bootstrap=True, max_depth=13, n_estimators=90; total time=   7.3s\n",
      "[CV] END ......bootstrap=True, max_depth=13, n_estimators=94; total time=   6.6s\n",
      "[CV] END ......bootstrap=True, max_depth=13, n_estimators=96; total time=   7.5s\n",
      "[CV] END .....bootstrap=True, max_depth=13, n_estimators=100; total time=   8.0s\n",
      "[CV] END .....bootstrap=True, max_depth=13, n_estimators=102; total time=   8.3s\n",
      "[CV] END .....bootstrap=True, max_depth=13, n_estimators=106; total time=   8.0s\n",
      "[CV] END .....bootstrap=True, max_depth=13, n_estimators=111; total time=   8.7s\n",
      "[CV] END .....bootstrap=True, max_depth=13, n_estimators=113; total time=   7.3s\n",
      "[CV] END .....bootstrap=True, max_depth=13, n_estimators=117; total time=   9.2s\n",
      "[CV] END .....bootstrap=True, max_depth=13, n_estimators=119; total time=   8.7s\n",
      "[CV] END .....bootstrap=True, max_depth=13, n_estimators=123; total time=   7.9s\n",
      "[CV] END .....bootstrap=True, max_depth=13, n_estimators=127; total time=   8.0s\n",
      "[CV] END .....bootstrap=True, max_depth=13, n_estimators=129; total time=   8.5s\n",
      "[CV] END .....bootstrap=True, max_depth=13, n_estimators=133; total time=   9.8s\n",
      "[CV] END .....bootstrap=True, max_depth=13, n_estimators=135; total time=  10.1s\n",
      "[CV] END .....bootstrap=True, max_depth=13, n_estimators=140; total time=   8.6s\n",
      "[CV] END ......bootstrap=True, max_depth=14, n_estimators=82; total time=   6.1s\n",
      "[CV] END ......bootstrap=True, max_depth=14, n_estimators=84; total time=   5.9s\n",
      "[CV] END ......bootstrap=True, max_depth=14, n_estimators=88; total time=   5.5s\n",
      "[CV] END ......bootstrap=True, max_depth=14, n_estimators=90; total time=   7.1s\n",
      "[CV] END ......bootstrap=True, max_depth=14, n_estimators=94; total time=   6.7s\n",
      "[CV] END ......bootstrap=True, max_depth=14, n_estimators=98; total time=   8.8s\n",
      "[CV] END .....bootstrap=True, max_depth=14, n_estimators=100; total time=   8.4s\n",
      "[CV] END .....bootstrap=True, max_depth=14, n_estimators=104; total time=   6.7s\n",
      "[CV] END .....bootstrap=True, max_depth=14, n_estimators=106; total time=   8.9s\n",
      "[CV] END .....bootstrap=True, max_depth=14, n_estimators=111; total time=   8.7s\n",
      "[CV] END .....bootstrap=True, max_depth=14, n_estimators=115; total time=   9.2s\n",
      "[CV] END .....bootstrap=True, max_depth=14, n_estimators=117; total time=   9.0s\n",
      "[CV] END .....bootstrap=True, max_depth=14, n_estimators=121; total time=   9.2s\n",
      "[CV] END .....bootstrap=True, max_depth=14, n_estimators=123; total time=   8.0s\n",
      "[CV] END .....bootstrap=True, max_depth=14, n_estimators=127; total time=   8.4s\n",
      "[CV] END .....bootstrap=True, max_depth=14, n_estimators=131; total time=   8.5s\n",
      "[CV] END .....bootstrap=True, max_depth=14, n_estimators=133; total time=   8.6s\n",
      "[CV] END .....bootstrap=True, max_depth=14, n_estimators=137; total time=   8.7s\n",
      "[CV] END .....bootstrap=True, max_depth=14, n_estimators=140; total time=   9.6s\n",
      "[CV] END ......bootstrap=True, max_depth=15, n_estimators=84; total time=   7.2s\n",
      "[CV] END ......bootstrap=True, max_depth=15, n_estimators=86; total time=   6.1s\n",
      "[CV] END ......bootstrap=True, max_depth=15, n_estimators=90; total time=   7.2s\n",
      "[CV] END ......bootstrap=True, max_depth=15, n_estimators=92; total time=   6.5s\n",
      "[CV] END ......bootstrap=True, max_depth=15, n_estimators=96; total time=   8.2s\n",
      "[CV] END .....bootstrap=True, max_depth=15, n_estimators=100; total time=   9.3s\n",
      "[CV] END .....bootstrap=True, max_depth=15, n_estimators=102; total time=   8.7s\n",
      "[CV] END .....bootstrap=True, max_depth=15, n_estimators=106; total time=   8.2s\n",
      "[CV] END .....bootstrap=True, max_depth=15, n_estimators=108; total time=   7.9s\n",
      "[CV] END .....bootstrap=True, max_depth=15, n_estimators=113; total time=   9.9s\n",
      "[CV] END .....bootstrap=True, max_depth=15, n_estimators=117; total time=   9.3s\n",
      "[CV] END .....bootstrap=True, max_depth=15, n_estimators=119; total time=   9.2s\n",
      "[CV] END .....bootstrap=True, max_depth=15, n_estimators=123; total time=   8.2s\n",
      "[CV] END .....bootstrap=True, max_depth=15, n_estimators=125; total time=   8.3s\n",
      "[CV] END .....bootstrap=True, max_depth=15, n_estimators=129; total time=   8.4s\n",
      "[CV] END .....bootstrap=True, max_depth=15, n_estimators=133; total time=   9.4s\n",
      "[CV] END .....bootstrap=True, max_depth=15, n_estimators=135; total time=  11.6s\n",
      "[CV] END .....bootstrap=True, max_depth=15, n_estimators=140; total time=  12.6s\n",
      "[CV] END ......bootstrap=True, max_depth=16, n_estimators=80; total time=   7.1s\n",
      "[CV] END ......bootstrap=True, max_depth=16, n_estimators=84; total time=   6.3s\n",
      "[CV] END ......bootstrap=True, max_depth=16, n_estimators=88; total time=   6.7s\n",
      "[CV] END ......bootstrap=True, max_depth=16, n_estimators=90; total time=   7.9s\n",
      "[CV] END ......bootstrap=True, max_depth=16, n_estimators=94; total time=   6.7s\n",
      "[CV] END ......bootstrap=True, max_depth=16, n_estimators=96; total time=   7.8s\n",
      "[CV] END .....bootstrap=True, max_depth=16, n_estimators=100; total time=   8.0s\n",
      "[CV] END .....bootstrap=True, max_depth=16, n_estimators=104; total time=   9.5s\n",
      "[CV] END .....bootstrap=True, max_depth=16, n_estimators=106; total time=   9.1s\n",
      "[CV] END .....bootstrap=True, max_depth=16, n_estimators=111; total time=  10.4s\n",
      "[CV] END .....bootstrap=True, max_depth=16, n_estimators=113; total time=   9.0s\n",
      "[CV] END .....bootstrap=True, max_depth=16, n_estimators=117; total time=  11.0s\n",
      "[CV] END .....bootstrap=True, max_depth=16, n_estimators=121; total time=  10.1s\n",
      "[CV] END .....bootstrap=True, max_depth=16, n_estimators=123; total time=   9.8s\n",
      "[CV] END .....bootstrap=True, max_depth=16, n_estimators=127; total time=  11.0s\n",
      "[CV] END .....bootstrap=True, max_depth=16, n_estimators=129; total time=  10.1s\n",
      "[CV] END .....bootstrap=True, max_depth=16, n_estimators=133; total time=   8.8s\n",
      "[CV] END .....bootstrap=True, max_depth=16, n_estimators=137; total time=  12.4s\n",
      "[CV] END .....bootstrap=True, max_depth=16, n_estimators=140; total time=  12.8s\n",
      "[CV] END ......bootstrap=True, max_depth=18, n_estimators=82; total time=   6.9s\n",
      "[CV] END ......bootstrap=True, max_depth=18, n_estimators=86; total time=   6.3s\n",
      "[CV] END ......bootstrap=True, max_depth=18, n_estimators=88; total time=   6.1s\n",
      "[CV] END ......bootstrap=True, max_depth=18, n_estimators=92; total time=   9.4s\n",
      "[CV] END ......bootstrap=True, max_depth=18, n_estimators=96; total time=   7.4s\n",
      "[CV] END ......bootstrap=True, max_depth=18, n_estimators=98; total time=   8.6s\n",
      "[CV] END .....bootstrap=True, max_depth=18, n_estimators=102; total time=   8.7s\n",
      "[CV] END .....bootstrap=True, max_depth=18, n_estimators=104; total time=   8.4s\n",
      "[CV] END .....bootstrap=True, max_depth=18, n_estimators=108; total time=  10.6s\n"
     ]
    },
    {
     "data": {
      "text/plain": [
       "GridSearchCV(estimator=RandomForestClassifier(), n_jobs=-1,\n",
       "             param_grid={'bootstrap': [True, False],\n",
       "                         'max_depth': [8, 9, 10, 11, 12, 13, 14, 15, 16, 18],\n",
       "                         'n_estimators': [80, 82, 84, 86, 88, 90, 92, 94, 96,\n",
       "                                          98, 100, 102, 104, 106, 108, 111, 113,\n",
       "                                          115, 117, 119, 121, 123, 125, 127,\n",
       "                                          129, 131, 133, 135, 137, 140]},\n",
       "             scoring='f1_macro', verbose=2)"
      ]
     },
     "execution_count": 215,
     "metadata": {},
     "output_type": "execute_result"
    }
   ],
   "source": [
    "rf = RandomForestClassifier()\n",
    "rf_grid = GridSearchCV(estimator = rf, param_grid = random_grid, verbose=2, n_jobs = -1, scoring='f1_macro')\n",
    "# Fit the random search model\n",
    "rf_grid.fit(embedding_train_X, embedding_train_y)"
   ]
  },
  {
   "cell_type": "code",
   "execution_count": 216,
   "id": "0f4c4152",
   "metadata": {
    "collapsed": true
   },
   "outputs": [
    {
     "data": {
      "text/plain": [
       "0.6854639314561911"
      ]
     },
     "execution_count": 216,
     "metadata": {},
     "output_type": "execute_result"
    }
   ],
   "source": [
    "rf_grid.best_score_"
   ]
  },
  {
   "cell_type": "code",
   "execution_count": 217,
   "id": "09b27112",
   "metadata": {
    "collapsed": true
   },
   "outputs": [
    {
     "data": {
      "text/plain": [
       "{'bootstrap': False, 'max_depth': 18, 'n_estimators': 137}"
      ]
     },
     "execution_count": 217,
     "metadata": {},
     "output_type": "execute_result"
    }
   ],
   "source": [
    "rf_grid.best_params_"
   ]
  },
  {
   "cell_type": "code",
   "execution_count": 154,
   "id": "ef6cda12",
   "metadata": {
    "collapsed": true
   },
   "outputs": [
    {
     "data": {
      "text/plain": [
       "RandomForestClassifier(max_depth=14, n_estimators=168)"
      ]
     },
     "execution_count": 154,
     "metadata": {},
     "output_type": "execute_result"
    }
   ],
   "source": [
    "estimator = rf_random.best_estimator_"
   ]
  },
  {
   "cell_type": "code",
   "execution_count": 187,
   "id": "ff814d71",
   "metadata": {
    "collapsed": true
   },
   "outputs": [],
   "source": [
    "def build_random_forest(X_train, y_train, max_depth, n_estimators=100):\n",
    "\n",
    "\n",
    "    clf = RandomForestClassifier(n_estimators, random_state = 0, max_depth=max_depth) # create a Random Forest\n",
    "    clf.fit(X_train, y_train) # train\n",
    "    \n",
    "   \n",
    "    return clf"
   ]
  },
  {
   "cell_type": "code",
   "execution_count": 188,
   "id": "b40f0b15",
   "metadata": {
    "collapsed": true
   },
   "outputs": [],
   "source": [
    "def explore_overfitting(X_train, X_val, y_train, y_val):\n",
    "    result_train = []\n",
    "    result_test = []\n",
    "    for i in range(10,60, 1):\n",
    "        clf = (build_random_forest(X_train, y_train, max_depth=i)) # create model and train\n",
    "        result_train.append(f1_score(clf.predict(X_train), y_train,average='macro')) \n",
    "        result_test.append(f1_score(clf.predict(X_val), y_val,average='macro')) # calcuate accuracy for test set\n",
    "    # visualization\n",
    "    plt.plot(range(10,60, 1), result_train, label=\"train macro F1\")\n",
    "    plt.plot(range(10,60, 1), result_test, label=\"dev macro F1\")\n",
    "    plt.xlabel(\"max depth of the tree\")\n",
    "    plt.ylabel(\"score\")\n",
    "    plt.legend()\n",
    "    plt.xticks(range(10,60,3))\n",
    "    plt.show()"
   ]
  },
  {
   "cell_type": "code",
   "execution_count": 189,
   "id": "413a1f8f",
   "metadata": {
    "collapsed": true
   },
   "outputs": [
    {
     "data": {
      "image/png": "[encoded data removed]",
      "text/plain": [
       "<Figure size 432x288 with 1 Axes>"
      ]
     },
     "metadata": {
      "needs_background": "light"
     },
     "output_type": "display_data"
    }
   ],
   "source": [
    "explore_overfitting(embedding_train_X, embedding_dev_X, embedding_train_y, embedding_dev_y)"
   ]
  },
  {
   "cell_type": "code",
   "execution_count": 203,
   "id": "876f9f73",
   "metadata": {
    "collapsed": true
   },
   "outputs": [],
   "source": [
    "def build_random_forest(X_train, y_train, n_estimators, max_depth=1):\n",
    "\n",
    "\n",
    "    clf = RandomForestClassifier(random_state = 0, n_estimators=n_estimators) # create a Random Forest\n",
    "    clf.fit(X_train, y_train) # train\n",
    "    \n",
    "   \n",
    "    return clf"
   ]
  },
  {
   "cell_type": "markdown",
   "id": "ccf03764",
   "metadata": {},
   "source": [
    "## Explore Overfitting"
   ]
  },
  {
   "cell_type": "code",
   "execution_count": 206,
   "id": "569ab788",
   "metadata": {
    "collapsed": true
   },
   "outputs": [],
   "source": [
    "def explore_overfitting(X_train, X_val, y_train, y_val):\n",
    "    result_train = []\n",
    "    result_test = []\n",
    "    for i in range(80,120, 2):\n",
    "        clf = (build_random_forest(X_train, y_train, n_estimators=i)) # create model and train\n",
    "        result_train.append(f1_score(clf.predict(X_train), y_train,average='macro')) \n",
    "        result_test.append(f1_score(clf.predict(X_val), y_val,average='macro')) # calcuate accuracy for test set\n",
    "    # visualization\n",
    "    plt.plot(range(80,120, 2), result_train, label=\"train macro F1\")\n",
    "    plt.plot(range(80,120, 2), result_test, label=\"dev macro F1\")\n",
    "    plt.xlabel(\"num of estimator\")\n",
    "    plt.ylabel(\"score\")\n",
    "    plt.legend()\n",
    "    plt.xticks(range(80,120, 2))\n",
    "    plt.show()"
   ]
  },
  {
   "cell_type": "code",
   "execution_count": 207,
   "id": "8d11b2d1",
   "metadata": {
    "collapsed": true
   },
   "outputs": [
    {
     "data": {
      "image/png": "[encoded data removed]",
      "text/plain": [
       "<Figure size 432x288 with 1 Axes>"
      ]
     },
     "metadata": {
      "needs_background": "light"
     },
     "output_type": "display_data"
    }
   ],
   "source": [
    "explore_overfitting(embedding_train_X, embedding_dev_X, embedding_train_y, embedding_dev_y)"
   ]
  },
  {
   "cell_type": "code",
   "execution_count": 32,
   "id": "2b9666aa",
   "metadata": {},
   "outputs": [
    {
     "name": "stdout",
     "output_type": "stream",
     "text": [
      "TRAIN:\n",
      "                                    precision    recall  f1-score   support\n",
      "\n",
      "                        CaseFooter       0.99      0.99      0.99        84\n",
      "                        CaseHeader       1.00      0.98      0.99        82\n",
      "                         CaseIssue       0.97      0.99      0.98        77\n",
      "                          Citation       1.00      0.97      0.98       993\n",
      "                   ConclusionOfLaw       0.69      0.93      0.80       168\n",
      "                          Evidence       0.87      0.81      0.84      2099\n",
      "EvidenceBased/Intermediate Finding       0.72      0.49      0.59       648\n",
      "            EvidenceBasedReasoning       0.45      0.54      0.49       553\n",
      "                            Header       0.99      0.99      0.99       716\n",
      "                       LegalPolicy       0.47      0.95      0.63        80\n",
      "                         LegalRule       0.85      0.80      0.82       851\n",
      "              PolicyBasedReasoning       0.61      1.00      0.75        20\n",
      "                         Procedure       0.95      0.88      0.91       807\n",
      "                RemandInstructions       0.53      0.85      0.65       350\n",
      "\n",
      "                          accuracy                           0.82      7528\n",
      "                         macro avg       0.79      0.87      0.82      7528\n",
      "                      weighted avg       0.84      0.82      0.82      7528\n",
      "\n",
      "dev:\n",
      "                                    precision    recall  f1-score   support\n",
      "\n",
      "                        CaseFooter       1.00      1.00      1.00        11\n",
      "                        CaseHeader       1.00      0.90      0.95        10\n",
      "                         CaseIssue       1.00      1.00      1.00         9\n",
      "                          Citation       0.99      0.92      0.95       134\n",
      "                   ConclusionOfLaw       0.68      0.81      0.74        21\n",
      "                          Evidence       0.81      0.79      0.80       212\n",
      "EvidenceBased/Intermediate Finding       0.44      0.20      0.28        79\n",
      "            EvidenceBasedReasoning       0.39      0.58      0.46        66\n",
      "                            Header       0.99      0.97      0.98        76\n",
      "                       LegalPolicy       0.20      0.25      0.22        12\n",
      "                         LegalRule       0.75      0.71      0.73       108\n",
      "              PolicyBasedReasoning       0.25      1.00      0.40         1\n",
      "                         Procedure       0.87      0.83      0.85        83\n",
      "                RemandInstructions       0.43      0.85      0.57        27\n",
      "\n",
      "                          accuracy                           0.75       849\n",
      "                         macro avg       0.70      0.77      0.71       849\n",
      "                      weighted avg       0.77      0.75      0.75       849\n",
      "\n"
     ]
    }
   ],
   "source": [
    "clf_RF_embedding = RandomForestClassifier(n_estimators=100, max_depth=10,bootstrap='False',class_weight='balanced')\n",
    "clf_RF_embedding = clf_RF_embedding.fit(embedding_train_X, train_spans_labels)\n",
    "print('TRAIN:\\n'+classification_report(train_spans_labels, \n",
    "                                       clf_RF_embedding.predict(embedding_train_X)))\n",
    "print('dev:\\n'+classification_report(dev_spans_labels,\n",
    "                                      clf_RF_embedding.predict(embedding_dev_X)))"
   ]
  },
  {
   "cell_type": "markdown",
   "id": "2a1a4225",
   "metadata": {},
   "source": [
    "## nonlinear model -- RandomForests\n",
    "\n",
    "### using TFIDF featurization"
   ]
  },
  {
   "cell_type": "code",
   "execution_count": 28,
   "id": "56ab5262",
   "metadata": {},
   "outputs": [
    {
     "name": "stdout",
     "output_type": "stream",
     "text": [
      "TRAIN:\n",
      "                                    precision    recall  f1-score   support\n",
      "\n",
      "                        CaseFooter       0.97      0.99      0.98        84\n",
      "                        CaseHeader       0.99      0.98      0.98        82\n",
      "                         CaseIssue       0.76      1.00      0.87        77\n",
      "                          Citation       0.97      0.98      0.97       993\n",
      "                   ConclusionOfLaw       0.63      0.96      0.76       168\n",
      "                          Evidence       0.90      0.81      0.85      2099\n",
      "EvidenceBased/Intermediate Finding       0.82      0.75      0.78       648\n",
      "            EvidenceBasedReasoning       0.69      0.71      0.70       553\n",
      "                            Header       0.68      0.99      0.81       716\n",
      "                       LegalPolicy       0.79      0.95      0.86        80\n",
      "                         LegalRule       0.91      0.85      0.88       851\n",
      "              PolicyBasedReasoning       0.86      0.95      0.90        20\n",
      "                         Procedure       0.95      0.70      0.81       807\n",
      "                RemandInstructions       0.77      0.91      0.84       350\n",
      "\n",
      "                          accuracy                           0.84      7528\n",
      "                         macro avg       0.84      0.89      0.86      7528\n",
      "                      weighted avg       0.86      0.84      0.85      7528\n",
      "\n",
      "dev:\n",
      "                                    precision    recall  f1-score   support\n",
      "\n",
      "                        CaseFooter       1.00      0.91      0.95        11\n",
      "                        CaseHeader       1.00      0.90      0.95        10\n",
      "                         CaseIssue       0.69      1.00      0.82         9\n",
      "                          Citation       0.96      0.99      0.98       134\n",
      "                   ConclusionOfLaw       0.74      0.81      0.77        21\n",
      "                          Evidence       0.77      0.69      0.73       212\n",
      "EvidenceBased/Intermediate Finding       0.43      0.38      0.41        79\n",
      "            EvidenceBasedReasoning       0.32      0.36      0.34        66\n",
      "                            Header       0.70      0.96      0.81        76\n",
      "                       LegalPolicy       0.25      0.17      0.20        12\n",
      "                         LegalRule       0.78      0.72      0.75       108\n",
      "              PolicyBasedReasoning       0.00      0.00      0.00         1\n",
      "                         Procedure       0.82      0.66      0.73        83\n",
      "                RemandInstructions       0.56      0.85      0.68        27\n",
      "\n",
      "                          accuracy                           0.72       849\n",
      "                         macro avg       0.64      0.67      0.65       849\n",
      "                      weighted avg       0.72      0.72      0.72       849\n",
      "\n"
     ]
    }
   ],
   "source": [
    "clf_RF_tfidf = RandomForestClassifier(n_estimators=140, max_depth=12,bootstrap='False',class_weight='balanced')\n",
    "clf_RF_tfidf = clf_RF_tfidf.fit(tfidf_train_X, train_spans_labels)\n",
    "print('TRAIN:\\n'+classification_report(train_spans_labels, \n",
    "                                       clf_RF_tfidf.predict(tfidf_train_X)))\n",
    "print('dev:\\n'+classification_report(dev_spans_labels,\n",
    "                                      clf_RF_tfidf.predict(tfidf_dev_X)))"
   ]
  },
  {
   "cell_type": "code",
   "execution_count": 31,
   "id": "a03e45ce",
   "metadata": {},
   "outputs": [
    {
     "data": {
      "image/png": "[encoded data removed]",
      "text/plain": [
       "<Figure size 576x576 with 2 Axes>"
      ]
     },
     "metadata": {
      "needs_background": "light"
     },
     "output_type": "display_data"
    }
   ],
   "source": [
    "plot_confusion_matrix(dev_spans_labels, clf_RF_tfidf.predict(tfidf_dev_X), classes=list(clf_RF_tfidf.classes_),\n",
    "                      )\n",
    "plt.show()"
   ]
  },
  {
   "cell_type": "code",
   "execution_count": 258,
   "id": "dbff3447",
   "metadata": {
    "collapsed": true
   },
   "outputs": [],
   "source": [
    "def prediction_errors(clf, eval_spans, vectorizer, \n",
    "                      select_true_label=None, \n",
    "                      select_pred_label=None):\n",
    "    eval_X, eval_y = make_embedding_feature_vectors_and_labels(eval_spans, vectorizer)\n",
    "    eval_spans_txt = [s['txt'] for s in eval_spans]\n",
    "    eval_spans_labels = [s['type'] for s in eval_spans]\n",
    "    pred_y = clf.predict(eval_X)\n",
    "    for i in range(len(eval_spans)):\n",
    "        true_label = eval_spans_labels[i]\n",
    "        pred_label = pred_y[i]\n",
    "        if true_label != pred_label:\n",
    "            if select_true_label and true_label != select_true_label: continue\n",
    "            if select_pred_label and pred_label != select_pred_label: continue\n",
    "            doc_name = dev_documents_by_id[eval_spans[i]['document']]['name']\n",
    "            print('sentence # '+str(i)+' / case '+doc_name+' / @'+str(eval_spans[i]['start']))\n",
    "            print('pred: '+pred_label+' / true: '+true_label)\n",
    "            print(eval_spans[i]['txt'])\n",
    "            print()"
   ]
  },
  {
   "cell_type": "code",
   "execution_count": 275,
   "id": "3b3d709a",
   "metadata": {
    "collapsed": true
   },
   "outputs": [
    {
     "name": "stdout",
     "output_type": "stream",
     "text": [
      "sentence # 4 / case 1635686.txt / @4256\n",
      "pred: RemandInstructions / true: LegalRule\n",
      "On remand, the RO should also associate ongoing pertinent VA treatment reports with the record before the Board.\n",
      "\n",
      "sentence # 51 / case 1638605.txt / @1068\n",
      "pred: RemandInstructions / true: Procedure\n",
      "The appeal is REMANDED to the Agency of Original Jurisdiction (AOJ).  VA will notify the appellant if further action is required.\n",
      "\n",
      "sentence # 153 / case 1100174.txt / @11205\n",
      "pred: RemandInstructions / true: EvidenceBasedReasoning\n",
      "Therefore, the opinions \r\n",
      "provided were not given in consideration of all of the relevant \r\n",
      "data.\n",
      "\n",
      "sentence # 157 / case 1638605.txt / @2693\n",
      "pred: RemandInstructions / true: LegalRule\n",
      "This claim must be afforded expeditious treatment.\n",
      "\n",
      "sentence # 180 / case 1203065.txt / @24470\n",
      "pred: RemandInstructions / true: EvidenceBasedReasoning\n",
      " As noted above, the examiner has medical expertise, provided supporting rationale for the opinion provided, citing to the medical evidence reviewed.  \r\n",
      "\n",
      "sentence # 247 / case 0601461.txt / @8856\n",
      "pred: RemandInstructions / true: EvidenceBased/Intermediate Finding\n",
      "The Board also notes that the record does not \r\n",
      "specifically identify any other risk factors for hepatitis C\n",
      "\n",
      "sentence # 264 / case 1635686.txt / @4099\n",
      "pred: RemandInstructions / true: EvidenceBased/Intermediate Finding\n",
      " As such, the Veteran should be scheduled for a new VA examination to fully assess the existence and etiology of his acquired psychiatric disability. Id.\n",
      "\n",
      "sentence # 293 / case 1203065.txt / @23786\n",
      "pred: RemandInstructions / true: LegalRule\n",
      "Medical evidence that is speculative, general or inconclusive in nature cannot support a claim.\n",
      "\n",
      "sentence # 294 / case 1203065.txt / @22030\n",
      "pred: RemandInstructions / true: EvidenceBased/Intermediate Finding\n",
      "The examiner has medical expertise and provided supporting rationale for the medical opinion.\r\n",
      "\n",
      "sentence # 348 / case 0601461.txt / @6466\n",
      "pred: RemandInstructions / true: Evidence\n",
      "No \r\n",
      "further details were provided.\n",
      "\n",
      "sentence # 350 / case 1203065.txt / @5942\n",
      "pred: RemandInstructions / true: Evidence\n",
      "The examiner reviewed the claims file, addressed the questions posed by the Board, and provided a medical opinion with supporting rationale.\n",
      "\n",
      "sentence # 369 / case 1203065.txt / @17064\n",
      "pred: RemandInstructions / true: Evidence\n",
      "The Board requested an expert medical opinion regarding the etiology of the Veteran's multiple sclerosis. \n",
      "\n",
      "sentence # 447 / case 1100174.txt / @7866\n",
      "pred: RemandInstructions / true: EvidenceBased/Intermediate Finding\n",
      " The end of this note is either indecipherable or \r\n",
      "incomplete.\n",
      "\n",
      "sentence # 475 / case 0824445.txt / @2501\n",
      "pred: RemandInstructions / true: Evidence\n",
      "The veteran's representative contends the veteran should be \r\n",
      "afforded a VA examination. \n",
      "\n"
     ]
    }
   ],
   "source": [
    "prediction_errors(clf_RF_embedding,\n",
    "                  random.sample(dev_spans, 500),\n",
    "                  spacy_tfidf_vectorizer,\n",
    "                  select_pred_label='RemandInstructions')"
   ]
  },
  {
   "cell_type": "markdown",
   "id": "233a7422",
   "metadata": {},
   "source": [
    "## Evaluation on dev data using best model "
   ]
  },
  {
   "cell_type": "code",
   "execution_count": 34,
   "id": "4ed2cd33",
   "metadata": {},
   "outputs": [
    {
     "data": {
      "image/png": "[encoded data removed]",
      "text/plain": [
       "<Figure size 576x576 with 2 Axes>"
      ]
     },
     "metadata": {
      "needs_background": "light"
     },
     "output_type": "display_data"
    }
   ],
   "source": [
    "plot_confusion_matrix(dev_spans_labels, clf_RF_embedding.predict(embedding_dev_X), classes=list(clf_RF_embedding.classes_),\n",
    "                      )\n",
    "plt.show()"
   ]
  },
  {
   "cell_type": "markdown",
   "id": "c7cc0240",
   "metadata": {},
   "source": [
    "## Evaluation on test data using best model "
   ]
  },
  {
   "cell_type": "code",
   "execution_count": 276,
   "id": "4ef7eff1",
   "metadata": {
    "collapsed": true
   },
   "outputs": [
    {
     "name": "stdout",
     "output_type": "stream",
     "text": [
      "Final Test:\n",
      "                                    precision    recall  f1-score   support\n",
      "\n",
      "                        CaseFooter       1.00      0.91      0.95        11\n",
      "                        CaseHeader       0.90      1.00      0.95         9\n",
      "                         CaseIssue       1.00      1.00      1.00         9\n",
      "                          Citation       1.00      0.86      0.92       128\n",
      "                   ConclusionOfLaw       0.62      0.87      0.72        15\n",
      "                          Evidence       0.77      0.76      0.76       214\n",
      "EvidenceBased/Intermediate Finding       0.46      0.37      0.41        71\n",
      "            EvidenceBasedReasoning       0.18      0.27      0.22        44\n",
      "                            Header       1.00      0.99      0.99        85\n",
      "                       LegalPolicy       0.29      0.32      0.30        19\n",
      "                         LegalRule       0.54      0.59      0.57        69\n",
      "              PolicyBasedReasoning       0.00      0.00      0.00         7\n",
      "                         Procedure       0.79      0.70      0.75       135\n",
      "                RemandInstructions       0.50      0.72      0.59        47\n",
      "\n",
      "                          accuracy                           0.71       863\n",
      "                         macro avg       0.65      0.67      0.65       863\n",
      "                      weighted avg       0.73      0.71      0.71       863\n",
      "\n"
     ]
    }
   ],
   "source": [
    "print('Final Test:\\n'+classification_report(test_spans_labels, clf_RF_embedding.predict(embedding_test_X)))"
   ]
  },
  {
   "cell_type": "code",
   "execution_count": 277,
   "id": "cb38790e",
   "metadata": {
    "collapsed": true
   },
   "outputs": [
    {
     "data": {
      "image/png": "[encoded data removed]",
      "text/plain": [
       "<Figure size 576x576 with 2 Axes>"
      ]
     },
     "metadata": {
      "needs_background": "light"
     },
     "output_type": "display_data"
    }
   ],
   "source": [
    "plot_confusion_matrix(test_spans_labels, clf_RF_embedding.predict(embedding_test_X), classes=list(clf_RF_embedding.classes_),\n",
    "                      title='Confusion matrix for test data on on best model')\n",
    "plt.show()"
   ]
  },
  {
   "cell_type": "code",
   "execution_count": 287,
   "id": "455acc9f",
   "metadata": {
    "collapsed": true
   },
   "outputs": [],
   "source": [
    "#save model\n",
    "data_root = os.path.abspath(os.path.abspath(os.getcwd()))\n",
    "best_model = os.path.join(data_root,\"clf_RF_embedding.joblib\")"
   ]
  },
  {
   "cell_type": "code",
   "execution_count": 288,
   "id": "38dcd2b7",
   "metadata": {
    "collapsed": true
   },
   "outputs": [
    {
     "data": {
      "text/plain": [
       "['/Users/xinyuezhang/Downloads/ldsi-project/ldsi_s2021/clf_RF_embedding.joblib']"
      ]
     },
     "execution_count": 288,
     "metadata": {},
     "output_type": "execute_result"
    }
   ],
   "source": [
    "dump(clf_RF_embedding, best_model) "
   ]
  }
 ],
 "metadata": {
  "colab": {
   "collapsed_sections": [
    "LKcsuBCrBVbr",
    "stone-treasurer",
    "essential-oracle",
    "featured-raise",
    "f0fa175e",
    "k1ALqFmDeGEv",
    "lQSEGVJ7jdgF",
    "jzNzauwNljZV",
    "chief-uniform",
    "forbidden-portable",
    "circular-yemen",
    "adult-declaration",
    "alpha-timeline",
    "primary-wonder",
    "accomplished-colleague"
   ],
   "name": "LDSI_Classifier_Workshop_filled.ipynb",
   "provenance": []
  },
  "kernelspec": {
   "display_name": "virtualpython",
   "language": "python",
   "name": "virtualpython"
  },
  "language_info": {
   "codemirror_mode": {
    "name": "ipython",
    "version": 3
   },
   "file_extension": ".py",
   "mimetype": "text/x-python",
   "name": "python",
   "nbconvert_exporter": "python",
   "pygments_lexer": "ipython3",
   "version": "3.9.5"
  }
 },
 "nbformat": 4,
 "nbformat_minor": 5
}
